{
 "cells": [
  {
   "cell_type": "code",
   "execution_count": null,
   "id": "44f1b86a-9f22-4793-9f85-10a7a9d238f6",
   "metadata": {},
   "outputs": [],
   "source": [
    "C:\\Users\\dojang\\AppData\\Local\\Programs\\Python\\Python36-32\\python.exe"
   ]
  }
 ],
 "metadata": {
  "kernelspec": {
   "display_name": "Python 3 (ipykernel)",
   "language": "python",
   "name": "python3"
  },
  "language_info": {
   "codemirror_mode": {
    "name": "ipython",
    "version": 3
   },
   "file_extension": ".py",
   "mimetype": "text/x-python",
   "name": "python",
   "nbconvert_exporter": "python",
   "pygments_lexer": "ipython3",
   "version": "3.9.7"
  }
 },
 "nbformat": 4,
 "nbformat_minor": 5
}
