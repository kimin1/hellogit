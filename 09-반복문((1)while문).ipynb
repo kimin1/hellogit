{
 "cells": [
  {
   "cell_type": "code",
   "execution_count": 2,
   "id": "d282e73f-a689-4b8c-9371-fd9e0b91297e",
   "metadata": {},
   "outputs": [
    {
     "name": "stdout",
     "output_type": "stream",
     "text": [
      "x=1\n",
      "x=2\n",
      "x=3\n",
      "x=4\n",
      "x=5\n",
      "x=6\n",
      "x=7\n",
      "x=8\n",
      "x=9\n",
      "x=10\n"
     ]
    }
   ],
   "source": [
    "# 반복문(while)\n",
    "\n",
    "# while문의 기본 특성\n",
    "\n",
    "x = 1                  # 초기식\n",
    "while x <= 10:         # 조건식 -> x가 10보다 작거나 같은 동안 반복수행\n",
    "    print(\"x=%d\" % x)  # 반복이 진행되는 동안 수행할 명령\n",
    "    x += 1             # 증감식 -> 조건에 사용되는 값을 변경"
   ]
  },
  {
   "cell_type": "code",
   "execution_count": 4,
   "id": "16a394a0-1afb-415a-8049-5bbb69b74ec3",
   "metadata": {},
   "outputs": [
    {
     "name": "stdout",
     "output_type": "stream",
     "text": [
      "7 x 1 = 7\n",
      "7 x 2 = 14\n",
      "7 x 3 = 21\n",
      "7 x 4 = 28\n",
      "7 x 5 = 35\n",
      "7 x 6 = 42\n",
      "7 x 7 = 49\n",
      "7 x 8 = 56\n",
      "7 x 9 = 63\n"
     ]
    }
   ],
   "source": [
    "# 구구단 -> 반복문의 특성을 가장 잘 보여주는 형태\n",
    "\n",
    "# 구구단 7단 출력하기\n",
    "y = 1          # 초기식\n",
    "while y < 10:  # 조건식 -> 10보다 작다이므로 10은 포함되지 않음.\n",
    "    z = 7*y\n",
    "    \n",
    "    print( \"7 x %d = %d\" % (y, z))\n",
    "    \n",
    "    y += 1     # 증감식 -> y가 1씩 증가함"
   ]
  },
  {
   "cell_type": "code",
   "execution_count": 6,
   "id": "f19fcd60-7b0c-4300-82ae-c589a7b1dd2e",
   "metadata": {},
   "outputs": [
    {
     "name": "stdout",
     "output_type": "stream",
     "text": [
      "x=1, sum=1\n",
      "x=2, sum=3\n",
      "x=3, sum=6\n",
      "x=4, sum=10\n",
      "x=5, sum=15\n",
      "x=6, sum=21\n",
      "x=7, sum=28\n",
      "x=8, sum=36\n",
      "x=9, sum=45\n",
      "x=10, sum=55\n"
     ]
    }
   ],
   "source": [
    "# 총 합 구하기\n",
    "\n",
    "# 1 ~ 10까지의 총 합을 구하기\n",
    "x = 1          # 초기식\n",
    "sum = 0        # 총 합을 누적해서 저장한 변수\n",
    "while x <= 10: # 조건식 -> x가 10보다 작거나 같은 동안 반복수행\n",
    "    sum += x\n",
    "    print(\"x=%d, sum=%d\" % (x, sum))\n",
    "    x += 1     # 증감식 -> 조건에 사용되는 값을 변경"
   ]
  },
  {
   "cell_type": "code",
   "execution_count": 7,
   "id": "a157a97f-452e-41cd-8ce1-076ef39f1fcd",
   "metadata": {},
   "outputs": [
    {
     "name": "stdout",
     "output_type": "stream",
     "text": [
      "a=0\n",
      "a=10\n",
      "a=20\n",
      "a=30\n",
      "a=40\n",
      "a=50\n",
      "a=60\n",
      "a=70\n",
      "a=80\n",
      "a=90\n"
     ]
    }
   ],
   "source": [
    "# 값의 변화 단계 조절하기\n",
    "\n",
    "# 0부터 100전(=99)까지 10씩 증가\n",
    "a = 0\n",
    "while a < 100:\n",
    "    print( \"a=%d\" % a )\n",
    "    a += 10"
   ]
  },
  {
   "cell_type": "code",
   "execution_count": 9,
   "id": "aa898c70-7efb-4f40-ba14-82adcc00ab9a",
   "metadata": {},
   "outputs": [
    {
     "name": "stdout",
     "output_type": "stream",
     "text": [
      "b=10\n",
      "b=8\n",
      "b=6\n",
      "b=4\n",
      "b=2\n"
     ]
    }
   ],
   "source": [
    "# 10부터 0전(=1)까지 2씩 감소\n",
    "\n",
    "b = 10\n",
    "while b > 0:\n",
    "    print( \"b=%d\" % b )\n",
    "    b -= 2"
   ]
  },
  {
   "cell_type": "code",
   "execution_count": 10,
   "id": "77f8e448-a8f1-4e7d-9754-d35eabcfe200",
   "metadata": {},
   "outputs": [
    {
     "name": "stdout",
     "output_type": "stream",
     "text": [
      "[100, 200, 300, 400, 500]\n"
     ]
    }
   ],
   "source": [
    "# 리스트의 원소 탐색하기\n",
    "mylist = [10, 20, 30, 40, 50] # 실습을 위한 리스트 준비\n",
    "size = len(mylist)            # 리스트의 전체 원소 수\n",
    "i = 0                         # 0부터 카운트 할 리스트의 인덱스\n",
    "\n",
    "# 인덱스가 전체 원소 수 보다 작은 동안 반복\n",
    "while i < size:\n",
    "    x = mylist[i]       # i번째 원소를 추출\n",
    "    mylist[i] = x * 10  # 추출한 값을 10을 곱하고 다시 i번째 위치에 저장\n",
    "    i+=1                # 다음번 원소 탐색을 위해 인덱스 1증가\n",
    "    \n",
    "print(mylist)    "
   ]
  },
  {
   "cell_type": "code",
   "execution_count": null,
   "id": "0f45a151-52a3-4967-a853-a3555af85af3",
   "metadata": {},
   "outputs": [],
   "source": []
  }
 ],
 "metadata": {
  "kernelspec": {
   "display_name": "Python 3 (ipykernel)",
   "language": "python",
   "name": "python3"
  },
  "language_info": {
   "codemirror_mode": {
    "name": "ipython",
    "version": 3
   },
   "file_extension": ".py",
   "mimetype": "text/x-python",
   "name": "python",
   "nbconvert_exporter": "python",
   "pygments_lexer": "ipython3",
   "version": "3.9.7"
  }
 },
 "nbformat": 4,
 "nbformat_minor": 5
}
