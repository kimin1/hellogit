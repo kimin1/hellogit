{
 "cells": [
  {
   "cell_type": "code",
   "execution_count": 1,
   "id": "e5f98214-88f0-43a7-a1bb-01d0e9e55cd7",
   "metadata": {},
   "outputs": [
    {
     "name": "stdout",
     "output_type": "stream",
     "text": [
      "Life is too short\n",
      "You need Python\n"
     ]
    }
   ],
   "source": [
    "# 문자열\n",
    "\n",
    "# 문자열의 기본 특성\n",
    "# 쌍따옴표나 홑따옴표로 감싸야 한다 -> 따옴표의 혼용을 불가\n",
    "msg1 = \"Life is too short\"\n",
    "msg2 = 'You need Python'\n",
    "print(msg1)\n",
    "print(msg2)"
   ]
  },
  {
   "cell_type": "code",
   "execution_count": 4,
   "id": "758978ec-5c36-4642-a24d-d554fe861992",
   "metadata": {},
   "outputs": [
    {
     "name": "stdout",
     "output_type": "stream",
     "text": [
      "Life is too short, You need Python\n"
     ]
    }
   ],
   "source": [
    "# 문자열 연산 규칙\n",
    "\n",
    "# 문자열의 덧셈은 문자열을 연결하는 기능\n",
    "print( msg1 + \", \" + msg2 )"
   ]
  },
  {
   "cell_type": "code",
   "execution_count": 5,
   "id": "44f5c235-77e6-4ca2-89c2-8341d2a0cf71",
   "metadata": {},
   "outputs": [
    {
     "name": "stdout",
     "output_type": "stream",
     "text": [
      "PythonPythonPythonPythonPython\n"
     ]
    }
   ],
   "source": [
    "# 문자열과 숫자의 곱셈은 동일 내용을 여러번 반복한다.\n",
    "name = \"Python\"\n",
    "print(name * 5)"
   ]
  },
  {
   "cell_type": "code",
   "execution_count": 6,
   "id": "edc36170-60da-4606-b074-52877b3285a6",
   "metadata": {},
   "outputs": [
    {
     "name": "stdout",
     "output_type": "stream",
     "text": [
      "20000100\n"
     ]
    }
   ],
   "source": [
    "# 따옴표로 감싸면 무조건 문장\n",
    "# -> 숫자가 아니므로 연산 결과도 문자열 연산 규칙을 따른다\n",
    "pay = \"20000\"\n",
    "bouns = \"100\"\n",
    "print(pay + bouns)"
   ]
  },
  {
   "cell_type": "code",
   "execution_count": 7,
   "id": "0e1d2ac7-c792-4252-9ccb-ca686f2dc540",
   "metadata": {},
   "outputs": [
    {
     "name": "stdout",
     "output_type": "stream",
     "text": [
      "Life is \"too\" short\n"
     ]
    }
   ],
   "source": [
    "# 이스케이프 문자 사용하기\n",
    "\n",
    "# 쌍따옴표 안에 쌍따옴표 넣기 -> 이스케이프 문자 사용\n",
    "case1 = \"Life is \\\"too\\\" short\"\n",
    "print(case1)"
   ]
  },
  {
   "cell_type": "code",
   "execution_count": 8,
   "id": "d510603b-b7c2-49e2-8b80-d60d39ba2be0",
   "metadata": {},
   "outputs": [
    {
     "name": "stdout",
     "output_type": "stream",
     "text": [
      "Life is 'too' short\n"
     ]
    }
   ],
   "source": [
    "# 홀따옴표 안에 홀따옴표 넣기 -> 이스케이프 문자 사용\n",
    "case2 = \"Life is \\'too\\' short\"\n",
    "print(case2)"
   ]
  },
  {
   "cell_type": "code",
   "execution_count": 9,
   "id": "f9bac69c-5aea-4c93-b0ae-c3d3cf753606",
   "metadata": {},
   "outputs": [
    {
     "name": "stdout",
     "output_type": "stream",
     "text": [
      "You 'need' Python\n"
     ]
    }
   ],
   "source": [
    "# 따옴표의 쌍을 조절하는 방법\n",
    "case3 = \"You 'need' Python\"\n",
    "print(case3)"
   ]
  },
  {
   "cell_type": "code",
   "execution_count": 10,
   "id": "198a16a8-8edb-45ba-91b3-be2017d38642",
   "metadata": {},
   "outputs": [
    {
     "name": "stdout",
     "output_type": "stream",
     "text": [
      "You \"need\" Python\n"
     ]
    }
   ],
   "source": [
    "case4 = 'You \"need\" Python'\n",
    "print(case4)"
   ]
  },
  {
   "cell_type": "code",
   "execution_count": 11,
   "id": "fb113940-8c29-4053-837c-f76ac1f12072",
   "metadata": {},
   "outputs": [
    {
     "name": "stdout",
     "output_type": "stream",
     "text": [
      "Life is too short\n",
      "you need Python\n"
     ]
    }
   ],
   "source": [
    "# 이스케이프 문자를 활용하여 줄바꿈, 탭키 등을 표현하기\n",
    "\n",
    "# 줄바꿈 => \\n\n",
    "print(\"Life is too short\\nyou need Python\")"
   ]
  },
  {
   "cell_type": "code",
   "execution_count": 12,
   "id": "8801b8f1-053f-4e49-bc1a-eb68f771f2fd",
   "metadata": {},
   "outputs": [
    {
     "name": "stdout",
     "output_type": "stream",
     "text": [
      "Life is too short\tyou need Python\n"
     ]
    }
   ],
   "source": [
    "# 탭키 => \\t\n",
    "print(\"Life is too short\\tyou need Python\")"
   ]
  },
  {
   "cell_type": "code",
   "execution_count": 13,
   "id": "78a44548-d684-422b-b40e-f6ff0ba12613",
   "metadata": {},
   "outputs": [
    {
     "name": "stdout",
     "output_type": "stream",
     "text": [
      "Life is too short\\you need Python\n"
     ]
    }
   ],
   "source": [
    "# 순수한 역슬래기 출력 => \\\\\n",
    "print(\"Life is too short\\\\you need Python\")"
   ]
  },
  {
   "cell_type": "code",
   "execution_count": 14,
   "id": "544c9e3d-1102-4874-9fef-96640e40851f",
   "metadata": {},
   "outputs": [
    {
     "name": "stdout",
     "output_type": "stream",
     "text": [
      "e\n"
     ]
    }
   ],
   "source": [
    "# 문자열 인덱싱\n",
    "\n",
    "str = \"Life is too short, you need Python\"\n",
    "\n",
    "# 3번째 문자 추출 -> 0부터 카운트\n",
    "print( str[3])"
   ]
  },
  {
   "cell_type": "code",
   "execution_count": 15,
   "id": "f219c6d1-d211-4821-a7c1-313c2c8649e7",
   "metadata": {},
   "outputs": [
    {
     "name": "stdout",
     "output_type": "stream",
     "text": [
      "h\n"
     ]
    }
   ],
   "source": [
    "# 뒤에서 3번째 문자 추출 -> -1부터 카운트\n",
    "# (0과 -0이 같은 값이기 때문)\n",
    "print( str[-3])"
   ]
  },
  {
   "cell_type": "code",
   "execution_count": 17,
   "id": "4fa8722d-cd08-42bb-b9b2-0bcc8f5ac8cc",
   "metadata": {},
   "outputs": [
    {
     "name": "stdout",
     "output_type": "stream",
     "text": [
      "Lif\n"
     ]
    }
   ],
   "source": [
    "# 문자열 슬라이싱\n",
    "\n",
    "# 앞에서 0번째부터 3번째 전까지의 문자 추출\n",
    "print( str[0:3])"
   ]
  },
  {
   "cell_type": "code",
   "execution_count": 18,
   "id": "7fc04fa7-1e40-44f9-b678-5f577ab4a0c8",
   "metadata": {},
   "outputs": [
    {
     "name": "stdout",
     "output_type": "stream",
     "text": [
      "is\n"
     ]
    }
   ],
   "source": [
    "# 앞에서 5번째부터 7번째 전까지의 문자 추출\n",
    "print( str[5:7])"
   ]
  },
  {
   "cell_type": "code",
   "execution_count": 19,
   "id": "064a603e-ca1a-442b-82fc-9df9cacef8b7",
   "metadata": {},
   "outputs": [
    {
     "name": "stdout",
     "output_type": "stream",
     "text": [
      "you need Python\n"
     ]
    }
   ],
   "source": [
    "# 앞에서 19번째부터 끝까지 추출\n",
    "print(str[19:])"
   ]
  },
  {
   "cell_type": "code",
   "execution_count": 20,
   "id": "28bcaab8-fd07-41e1-9f77-a3afdcabb501",
   "metadata": {},
   "outputs": [
    {
     "name": "stdout",
     "output_type": "stream",
     "text": [
      "Life is too short\n"
     ]
    }
   ],
   "source": [
    "# 처음부터 앞에서 17번 전까지의 문자 추출\n",
    "print(str[:17])"
   ]
  },
  {
   "cell_type": "code",
   "execution_count": 21,
   "id": "406a65bb-c7c1-4c70-a333-fd1103701a8a",
   "metadata": {},
   "outputs": [
    {
     "name": "stdout",
     "output_type": "stream",
     "text": [
      "Life is too short, you need Python\n"
     ]
    }
   ],
   "source": [
    "# 처음부터 끝까지 추출\n",
    "print(str[:])"
   ]
  },
  {
   "cell_type": "code",
   "execution_count": 22,
   "id": "436e95f1-d670-456d-bcda-e2787a35f3ea",
   "metadata": {},
   "outputs": [
    {
     "name": "stdout",
     "output_type": "stream",
     "text": [
      "you need\n"
     ]
    }
   ],
   "source": [
    "# 앞에서 19번째부터 뒤에서 -7번째 다음까지 추출\n",
    "print(str[19:-7])"
   ]
  },
  {
   "cell_type": "code",
   "execution_count": 23,
   "id": "b9612a0a-5707-4618-bf70-4aa06cf7d933",
   "metadata": {},
   "outputs": [
    {
     "name": "stdout",
     "output_type": "stream",
     "text": [
      "800527\n",
      "1\n"
     ]
    }
   ],
   "source": [
    "# 문자열 슬라이싱 활용 예시\n",
    "\n",
    "# [응용] 글자수가 정해져 있는 경우 활용도 높음\n",
    "# ex) \"80년05월27일 남자\"의 주민번호 일부\n",
    "\n",
    "jumin = \"8005271\"\n",
    "birth = jumin[:6]  #생일\n",
    "gender = jumin[6:] #성별\n",
    "print(birth)\n",
    "print(gender)"
   ]
  },
  {
   "cell_type": "code",
   "execution_count": 24,
   "id": "9b5b6e4a-1c7f-4ece-b3de-c9851afaa059",
   "metadata": {},
   "outputs": [
    {
     "name": "stdout",
     "output_type": "stream",
     "text": [
      "1980\n",
      "05\n",
      "27\n"
     ]
    }
   ],
   "source": [
    "# 태어난 년도, 월, 일\n",
    "year = \"19\" + jumin[:2]\n",
    "month = jumin[2:4]\n",
    "day = jumin[4:6]\n",
    "print(year)\n",
    "print(month)\n",
    "print(day)"
   ]
  },
  {
   "cell_type": "code",
   "execution_count": null,
   "id": "b6e6409b-502e-4c68-bbd1-567e063bfd2f",
   "metadata": {},
   "outputs": [],
   "source": []
  }
 ],
 "metadata": {
  "kernelspec": {
   "display_name": "Python 3 (ipykernel)",
   "language": "python",
   "name": "python3"
  },
  "language_info": {
   "codemirror_mode": {
    "name": "ipython",
    "version": 3
   },
   "file_extension": ".py",
   "mimetype": "text/x-python",
   "name": "python",
   "nbconvert_exporter": "python",
   "pygments_lexer": "ipython3",
   "version": "3.9.7"
  }
 },
 "nbformat": 4,
 "nbformat_minor": 5
}
