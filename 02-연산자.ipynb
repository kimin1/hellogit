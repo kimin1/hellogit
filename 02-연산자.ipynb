{
 "cells": [
  {
   "cell_type": "code",
   "execution_count": 2,
   "id": "1676d32e-87ba-4fab-aece-49d1fe768d8d",
   "metadata": {},
   "outputs": [],
   "source": [
    "# 대입연산자 - 자료대입,연산결과를 다른 변수에 할당\n",
    "# 사칙연산자 - +, -, *, /, %\n",
    "# 단항연산자 - 변수 연산결과 자기 자신에게 적용\n",
    "# 비교연산자 - 변수값 비교하여 참(1), 거짓(0)의 결과 반환\n",
    "# 논리연산자 - 좌변과 우변 논리연산하고, 참은 1, 거짓은 0을 반환"
   ]
  },
  {
   "cell_type": "code",
   "execution_count": 4,
   "id": "c851c2b2-a7a2-40cd-a0b3-b2eb953ce34f",
   "metadata": {},
   "outputs": [
    {
     "name": "stdout",
     "output_type": "stream",
     "text": [
      "7\n"
     ]
    }
   ],
   "source": [
    "# 기본적인 사칙 연산\n",
    "# 연산 결과는 새로운 변수에 할당 하거나 직접 출력 가능\n",
    "\n",
    "a = 3\n",
    "b = 4\n",
    "c = a+b\n",
    "print(c)"
   ]
  },
  {
   "cell_type": "code",
   "execution_count": 5,
   "id": "86ab9b4c-85a9-4f60-9b27-93200a32002f",
   "metadata": {},
   "outputs": [
    {
     "name": "stdout",
     "output_type": "stream",
     "text": [
      "-1\n",
      "12\n",
      "0.75\n"
     ]
    }
   ],
   "source": [
    "# 연산결과 직접 출력\n",
    "print( a-b )\n",
    "print( a*b )\n",
    "print( a/b )"
   ]
  },
  {
   "cell_type": "code",
   "execution_count": 6,
   "id": "23fd3b7f-e66e-4e47-a246-47c27be5e49e",
   "metadata": {},
   "outputs": [
    {
     "name": "stdout",
     "output_type": "stream",
     "text": [
      "3.3333333333333335\n"
     ]
    }
   ],
   "source": [
    "# 나눗셈 관련 연산자\n",
    "\n",
    "# 나눗셈의 몫을 구한다\n",
    "# -> 처리 가능한 단위까지 계산함(마지막 오차발생)\n",
    "print( 10 / 3 )"
   ]
  },
  {
   "cell_type": "code",
   "execution_count": 7,
   "id": "c522ff0c-8a94-4d33-b8f0-613866e1c61e",
   "metadata": {},
   "outputs": [
    {
     "name": "stdout",
     "output_type": "stream",
     "text": [
      "3\n"
     ]
    }
   ],
   "source": [
    "# 나눗셈에서 소수점 아래를 버리고 몫만 계산\n",
    "print( 10 // 3)"
   ]
  },
  {
   "cell_type": "code",
   "execution_count": 8,
   "id": "254e1c0d-74b4-462e-9255-52f473b5eb14",
   "metadata": {},
   "outputs": [
    {
     "name": "stdout",
     "output_type": "stream",
     "text": [
      "1\n"
     ]
    }
   ],
   "source": [
    "# 나눗셈의 나머지를 구한다\n",
    "# -> 정수 단위에서만 연산후 종료\n",
    "print( 10 % 3 )"
   ]
  },
  {
   "cell_type": "code",
   "execution_count": 9,
   "id": "dde389bd-2c96-4bd3-950c-a8dd3714140c",
   "metadata": {},
   "outputs": [
    {
     "name": "stdout",
     "output_type": "stream",
     "text": [
      "243\n"
     ]
    }
   ],
   "source": [
    "# 거듭 제곱 연산자\n",
    "print( 3 ** 5 )"
   ]
  },
  {
   "cell_type": "code",
   "execution_count": 11,
   "id": "704c6db8-c6b3-4a90-ba94-5f6274bf18e2",
   "metadata": {},
   "outputs": [
    {
     "name": "stdout",
     "output_type": "stream",
     "text": [
      "1\n"
     ]
    }
   ],
   "source": [
    "# 단항 연산자\n",
    "\n",
    "a = 1\n",
    "a += 100  # 100 + 1 -> 101\n",
    "a *= 10   # 101 * 10 -> 1010\n",
    "a //= 3   # 1010 // 3 -> 336\n",
    "a %= 5    # 336 % 5 -> 1\n",
    "print(a)"
   ]
  },
  {
   "cell_type": "code",
   "execution_count": 13,
   "id": "c4f6a1e9-8e7b-41ef-9405-2bcb34e6fb6c",
   "metadata": {},
   "outputs": [
    {
     "name": "stdout",
     "output_type": "stream",
     "text": [
      "False\n",
      "True\n",
      "True\n",
      "True\n",
      "False\n",
      "False\n"
     ]
    }
   ],
   "source": [
    "# 비교 연산자 \n",
    "\n",
    "print(100 == 50)\n",
    "print(100 != 50) # !=  - 다르다\n",
    "print(100 >= 50)\n",
    "print(100 > 50)\n",
    "print(100 < 50)\n",
    "print(100 <= 50)"
   ]
  },
  {
   "cell_type": "code",
   "execution_count": 14,
   "id": "af967029-f79f-40c4-ac76-021c0db31174",
   "metadata": {},
   "outputs": [
    {
     "name": "stdout",
     "output_type": "stream",
     "text": [
      "True\n"
     ]
    }
   ],
   "source": [
    "# 비교연산도 하나의 수식이므로 결과를 다른 변수에 할당 가능함\n",
    "result = 100 > 50\n",
    "print(result)"
   ]
  },
  {
   "cell_type": "code",
   "execution_count": 15,
   "id": "c18c6689-8c5e-45ec-b572-869c001f5100",
   "metadata": {},
   "outputs": [
    {
     "name": "stdout",
     "output_type": "stream",
     "text": [
      "True\n",
      "False\n",
      "False\n",
      "False\n"
     ]
    }
   ],
   "source": [
    "# 논리 연산자\n",
    "\n",
    "# 논리연산자 (and)\n",
    "print( True and True )\n",
    "print( True and False )\n",
    "print( False and True )\n",
    "print( False and False )"
   ]
  },
  {
   "cell_type": "code",
   "execution_count": 16,
   "id": "b810808b-6956-43ea-9070-64d224b606a1",
   "metadata": {},
   "outputs": [
    {
     "name": "stdout",
     "output_type": "stream",
     "text": [
      "True\n",
      "True\n",
      "True\n",
      "False\n"
     ]
    }
   ],
   "source": [
    "# 논리연산자 (or)\n",
    "print( True or True )\n",
    "print( True or False )\n",
    "print( False or True )\n",
    "print( False or False )"
   ]
  },
  {
   "cell_type": "code",
   "execution_count": 18,
   "id": "f872f758-3312-420d-9b02-04a0578789d0",
   "metadata": {},
   "outputs": [
    {
     "name": "stdout",
     "output_type": "stream",
     "text": [
      "True\n"
     ]
    }
   ],
   "source": [
    "# 비교 연산과 논리 연산의 결합\n",
    "\n",
    "# 비교연산과 결과값은 bool형식이므로 논리연산이 가능함\n",
    "a = 100 > 50\n",
    "b = 20 > 10\n",
    "print( a and b)"
   ]
  },
  {
   "cell_type": "code",
   "execution_count": 19,
   "id": "df2cf0a2-1251-4f09-a847-0bbbfcb3547f",
   "metadata": {},
   "outputs": [
    {
     "name": "stdout",
     "output_type": "stream",
     "text": [
      "False\n"
     ]
    }
   ],
   "source": [
    "c = 100 >= 100 and 50 == 10\n",
    "print(c)"
   ]
  },
  {
   "cell_type": "code",
   "execution_count": 20,
   "id": "e417e9c6-af55-4b1a-a1df-b1077b406eeb",
   "metadata": {},
   "outputs": [
    {
     "name": "stdout",
     "output_type": "stream",
     "text": [
      "True\n"
     ]
    }
   ],
   "source": [
    "print(100 != 200 and 100 == 100)"
   ]
  },
  {
   "cell_type": "code",
   "execution_count": 21,
   "id": "3e55a000-0a7a-47c9-a38a-093b6cdc96d8",
   "metadata": {},
   "outputs": [
    {
     "name": "stdout",
     "output_type": "stream",
     "text": [
      "True\n",
      "False\n"
     ]
    }
   ],
   "source": [
    "# is 연산자\n",
    "\n",
    "# 두 변수가 동일한지 판별하는 is 연산자\n",
    "s1 = a is b\n",
    "print(s1)\n",
    "s2 = a is c\n",
    "print(s2)"
   ]
  },
  {
   "cell_type": "code",
   "execution_count": 22,
   "id": "203c6887-9f68-47a3-85ea-062df4aa06fe",
   "metadata": {},
   "outputs": [
    {
     "name": "stdout",
     "output_type": "stream",
     "text": [
      "True\n",
      "False\n"
     ]
    }
   ],
   "source": [
    "# \"==\"연산과 \"is\"연산의 차이\n",
    "x=100    # 정수형 변수\n",
    "y=100.0  # 실수형 변수\n",
    "\n",
    "# 단순히 값만 비교하므로 두 값이 같다고 판단함\n",
    "print( x == y )\n",
    "\n",
    "# 데이터 타입까지 비교하므로 정수와 실수는 다르다고 판단함\n",
    "print( x is y)"
   ]
  },
  {
   "cell_type": "code",
   "execution_count": null,
   "id": "6ce600ad-eaf6-45bb-a307-a10fe1af8017",
   "metadata": {},
   "outputs": [],
   "source": []
  }
 ],
 "metadata": {
  "kernelspec": {
   "display_name": "Python 3 (ipykernel)",
   "language": "python",
   "name": "python3"
  },
  "language_info": {
   "codemirror_mode": {
    "name": "ipython",
    "version": 3
   },
   "file_extension": ".py",
   "mimetype": "text/x-python",
   "name": "python",
   "nbconvert_exporter": "python",
   "pygments_lexer": "ipython3",
   "version": "3.9.7"
  }
 },
 "nbformat": 4,
 "nbformat_minor": 5
}
