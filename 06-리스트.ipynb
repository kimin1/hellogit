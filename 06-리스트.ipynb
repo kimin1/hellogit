{
 "cells": [
  {
   "cell_type": "code",
   "execution_count": 4,
   "id": "566e0e41-63a5-4f3c-a841-bfb5d78fae9c",
   "metadata": {},
   "outputs": [
    {
     "name": "stdout",
     "output_type": "stream",
     "text": [
      "[['철수', 98], ['영희', 82], ['나영', 73]]\n"
     ]
    }
   ],
   "source": [
    "# 리스트\n",
    "\n",
    "# 2차원 리스트의 생성\n",
    "\n",
    "stud1 = [\"철수\", 98]\n",
    "stud2 = [\"영희\", 82]\n",
    "stud3 = [\"나영\", 73]\n",
    "\n",
    "stud_group = [stud1, stud2, stud3]\n",
    "print(stud_group)"
   ]
  },
  {
   "cell_type": "code",
   "execution_count": 5,
   "id": "70844921-dcab-472f-8d94-045f4c4f35aa",
   "metadata": {},
   "outputs": [
    {
     "name": "stdout",
     "output_type": "stream",
     "text": [
      "[['민식', 64], ['호영', 100]]\n"
     ]
    }
   ],
   "source": [
    "# 2차원 리스트의 일괄 생성\n",
    "\n",
    "grade=[\n",
    "    [\"민식\",64],\n",
    "    [\"호영\",100]\n",
    "]\n",
    "print(grade)"
   ]
  },
  {
   "cell_type": "code",
   "execution_count": 6,
   "id": "4ed9a59b-9bb0-40de-ab94-11608674e4fc",
   "metadata": {},
   "outputs": [
    {
     "name": "stdout",
     "output_type": "stream",
     "text": [
      "['철수', 98]\n",
      "['영희', 82]\n"
     ]
    }
   ],
   "source": [
    "# 1차원 원소에 접근하기\n",
    "\n",
    "print(stud_group[0]) # stud_group의 0번째 원소\n",
    "print(stud_group[1]) # stud_group의 1번째 원소"
   ]
  },
  {
   "cell_type": "code",
   "execution_count": 7,
   "id": "7dcec52d-fbd2-4204-87a1-77bb88ddaa68",
   "metadata": {},
   "outputs": [
    {
     "name": "stdout",
     "output_type": "stream",
     "text": [
      "철수\n",
      "98\n",
      "영희\n",
      "82\n"
     ]
    }
   ],
   "source": [
    "# 2차원 원소에 접근하기\n",
    "\n",
    "print(stud_group[0][0]) #0번째 원소의 0번째 항목\n",
    "print(stud_group[0][1]) #0번째 원소의 1번째 항목\n",
    "print(stud_group[1][0]) #1번째 원소의 0번째 항목\n",
    "print(stud_group[1][1]) #1번째 원소의 1번째 항목"
   ]
  },
  {
   "cell_type": "code",
   "execution_count": 8,
   "id": "e83fe41b-0f09-4cdc-a9bd-4b7b81bb2e84",
   "metadata": {},
   "outputs": [],
   "source": [
    "# 리스트의 인덱싱\n",
    "\n",
    "mylist = [ 10, 20, 30, 40, 50 ]"
   ]
  },
  {
   "cell_type": "code",
   "execution_count": 9,
   "id": "45ba7dfe-6321-4017-8419-63b5284578af",
   "metadata": {},
   "outputs": [
    {
     "name": "stdout",
     "output_type": "stream",
     "text": [
      "20\n"
     ]
    }
   ],
   "source": [
    "# 1번째 원소의 접근 -> 0부터 카운트\n",
    "print(mylist[1])"
   ]
  },
  {
   "cell_type": "code",
   "execution_count": 10,
   "id": "a301ac32-437a-4e28-b912-7bfbeae5346a",
   "metadata": {},
   "outputs": [
    {
     "name": "stdout",
     "output_type": "stream",
     "text": [
      "50\n"
     ]
    }
   ],
   "source": [
    "# 뒤에서 1번째 원소에 접근 -> 1부터 카운트\n",
    "print(mylist[-1])"
   ]
  },
  {
   "cell_type": "code",
   "execution_count": 11,
   "id": "a13efdc0-c1b7-4443-9151-293203acd872",
   "metadata": {},
   "outputs": [],
   "source": [
    "# 리스트의 슬라이싱\n",
    "mylist = [ 60, 70, 80, 90, 100]"
   ]
  },
  {
   "cell_type": "code",
   "execution_count": 12,
   "id": "67550145-0823-43c4-9721-fe60835fed8d",
   "metadata": {},
   "outputs": [
    {
     "name": "stdout",
     "output_type": "stream",
     "text": [
      "[70, 80]\n"
     ]
    }
   ],
   "source": [
    "# list에서 1번째부터 3번째 전까지 -> 3번째 원소 포함안됨\n",
    "print(mylist[1:3])"
   ]
  },
  {
   "cell_type": "code",
   "execution_count": 13,
   "id": "669fd54c-b723-4018-9f4f-b085eaca6ae4",
   "metadata": {},
   "outputs": [
    {
     "name": "stdout",
     "output_type": "stream",
     "text": [
      "[60, 70, 80]\n"
     ]
    }
   ],
   "source": [
    "# 처음부터 3번째 전까지 -> 3번째 원소 포함안됨\n",
    "print(mylist[:3])"
   ]
  },
  {
   "cell_type": "code",
   "execution_count": 14,
   "id": "2c134b4e-2f26-433f-972e-fe5fe4d0774e",
   "metadata": {},
   "outputs": [
    {
     "name": "stdout",
     "output_type": "stream",
     "text": [
      "[90, 100]\n"
     ]
    }
   ],
   "source": [
    "# list[3]부터 끝까지 -> 3번째 원소 포함됨\n",
    "print(mylist[3:])"
   ]
  },
  {
   "cell_type": "code",
   "execution_count": 15,
   "id": "7b7b5aac-ae22-47c7-8645-0db0fd303fbb",
   "metadata": {},
   "outputs": [
    {
     "name": "stdout",
     "output_type": "stream",
     "text": [
      "[60, 70, 80, 90, 100]\n"
     ]
    }
   ],
   "source": [
    "# list의 모든 원소\n",
    "print(mylist[:])"
   ]
  },
  {
   "cell_type": "code",
   "execution_count": 16,
   "id": "45a6e659-44bf-4421-8c29-3fab6f4e3dce",
   "metadata": {},
   "outputs": [
    {
     "name": "stdout",
     "output_type": "stream",
     "text": [
      "[70, 80]\n"
     ]
    }
   ],
   "source": [
    "# list에서 1번째부터 뒤에서 부터 2번째 다음까지\n",
    "# -> 마이너스 값을 사용하여 지정할 경우 \"다음까지\"의 의미\n",
    "print(mylist[1:-2])"
   ]
  },
  {
   "cell_type": "code",
   "execution_count": 17,
   "id": "85657449-fe41-4c41-a97c-9b5d3d1e5401",
   "metadata": {},
   "outputs": [],
   "source": [
    "# 리스트의 연산\n",
    "# 리스트간의 덧셈과 리스트와 정수간의 곱셈이 지원된다\n",
    "\n",
    "# 실습을 위한 리스트 정의\n",
    "list1=[1,2,3]\n",
    "list2=[4,5,6]"
   ]
  },
  {
   "cell_type": "code",
   "execution_count": 18,
   "id": "19f9155c-9409-4a70-b7ed-ff4586f8817d",
   "metadata": {},
   "outputs": [
    {
     "name": "stdout",
     "output_type": "stream",
     "text": [
      "[1, 2, 3, 4, 5, 6]\n"
     ]
    }
   ],
   "source": [
    "# 리스트끼리의 덧셈은 단순 병합\n",
    "list3=list1+list2\n",
    "print(list3)"
   ]
  },
  {
   "cell_type": "code",
   "execution_count": 19,
   "id": "a77a9972-fe75-4e31-a319-3793c66a9296",
   "metadata": {},
   "outputs": [
    {
     "name": "stdout",
     "output_type": "stream",
     "text": [
      "[1, 2, 3, 1, 2, 3, 1, 2, 3]\n"
     ]
    }
   ],
   "source": [
    "# 리스트와 정수의 곱셈은 동일 내용을 반복한다\n",
    "list4=list1*3\n",
    "print(list4)"
   ]
  },
  {
   "cell_type": "code",
   "execution_count": 20,
   "id": "b2e4db76-44cf-40da-b6c1-bdc2ea660d30",
   "metadata": {},
   "outputs": [
    {
     "ename": "TypeError",
     "evalue": "can only concatenate list (not \"int\") to list",
     "output_type": "error",
     "traceback": [
      "\u001b[1;31m---------------------------------------------------------------------------\u001b[0m",
      "\u001b[1;31mTypeError\u001b[0m                                 Traceback (most recent call last)",
      "\u001b[1;32m~\\AppData\\Local\\Temp/ipykernel_3088/308701974.py\u001b[0m in \u001b[0;36m<module>\u001b[1;34m\u001b[0m\n\u001b[0;32m      3\u001b[0m \u001b[1;31m# 리스트 + 문자열\u001b[0m\u001b[1;33m\u001b[0m\u001b[1;33m\u001b[0m\u001b[0m\n\u001b[0;32m      4\u001b[0m \u001b[1;31m# 리스트 + 리스트\u001b[0m\u001b[1;33m\u001b[0m\u001b[1;33m\u001b[0m\u001b[0m\n\u001b[1;32m----> 5\u001b[1;33m \u001b[0mprint\u001b[0m\u001b[1;33m(\u001b[0m\u001b[0mlist4\u001b[0m\u001b[1;33m+\u001b[0m\u001b[1;36m10\u001b[0m\u001b[1;33m)\u001b[0m\u001b[1;33m\u001b[0m\u001b[1;33m\u001b[0m\u001b[0m\n\u001b[0m",
      "\u001b[1;31mTypeError\u001b[0m: can only concatenate list (not \"int\") to list"
     ]
    }
   ],
   "source": [
    "# 리스트 연산의 에러 케이스\n",
    "# 리스트 + 정수\n",
    "# 리스트 + 문자열\n",
    "# 리스트 + 리스트\n",
    "print(list4+10)"
   ]
  },
  {
   "cell_type": "code",
   "execution_count": 21,
   "id": "52158666-c65e-43b8-80b4-59ed07cede2d",
   "metadata": {},
   "outputs": [
    {
     "name": "stdout",
     "output_type": "stream",
     "text": [
      "[1, 2, 4]\n"
     ]
    }
   ],
   "source": [
    "# 리스트의 원소 수정하기\n",
    "# 대입연산자의 이용한 단일 값 수정\n",
    "\n",
    "mylist=[1,2,3]\n",
    "mylist[2]=4\n",
    "print(mylist)"
   ]
  },
  {
   "cell_type": "code",
   "execution_count": 22,
   "id": "a3af1dbb-9184-46f0-95f8-189c3e77d064",
   "metadata": {},
   "outputs": [
    {
     "name": "stdout",
     "output_type": "stream",
     "text": [
      "[1, 20, 30]\n"
     ]
    }
   ],
   "source": [
    "# 대입연산자를 이용하여 주어진 범위를 수정\n",
    "mylist=[1,2,3]\n",
    "mylist[1:3] = [20,30]\n",
    "print(mylist)"
   ]
  },
  {
   "cell_type": "code",
   "execution_count": 23,
   "id": "95068546-d2a7-454b-bf6f-865583229d17",
   "metadata": {},
   "outputs": [
    {
     "name": "stdout",
     "output_type": "stream",
     "text": [
      "[1, 1000]\n"
     ]
    }
   ],
   "source": [
    "# 리스트의 확장, 축소\n",
    "# 슬라이싱의 끝 위치는 항상 그 전까지임을 기억\n",
    "\n",
    "# 주어진 범위보다 작은 개수를 갖는 리스트 지정 --> 리스트가 잘림\n",
    "\n",
    "mylist=[1,2,3]\n",
    "mylist[1:3]=[1000]\n",
    "print(mylist)"
   ]
  },
  {
   "cell_type": "code",
   "execution_count": 24,
   "id": "460c56c0-f80f-4a5c-8f4a-c23dfd044fb7",
   "metadata": {},
   "outputs": [
    {
     "name": "stdout",
     "output_type": "stream",
     "text": [
      "[1, 7, 8, 9, 10, 3]\n"
     ]
    }
   ],
   "source": [
    "# 주어진 범위보다 많은 개수를 갖는 리스트 지정 --> 리스트 확장\n",
    "mylist=[1,2,3]\n",
    "mylist[1:2]=[7,8,9,10]\n",
    "print(mylist)"
   ]
  },
  {
   "cell_type": "code",
   "execution_count": 25,
   "id": "d422066a-5c6a-4495-8e69-b95616ba643c",
   "metadata": {},
   "outputs": [
    {
     "name": "stdout",
     "output_type": "stream",
     "text": [
      "[1, 2, 3, 4, 5]\n",
      "[1, [100, 200], 3, 4, 5]\n"
     ]
    }
   ],
   "source": [
    "# 리스트 확장, 축소\n",
    "# 인덱싱으로 접근하는 경우 -> 단순삽입\n",
    "# -> 1번째 원소에 다른 리스트 삽입\n",
    "mylist=[1,2,3,4,5]\n",
    "print(mylist)\n",
    "\n",
    "mylist[1]=[100,200]\n",
    "print(mylist)"
   ]
  },
  {
   "cell_type": "code",
   "execution_count": 26,
   "id": "af6dce20-c23e-4fc8-9763-9803df1180ea",
   "metadata": {},
   "outputs": [
    {
     "name": "stdout",
     "output_type": "stream",
     "text": [
      "[1, 2, 3, 4, 5]\n",
      "[1, 100, 200, 3, 4, 5]\n"
     ]
    }
   ],
   "source": [
    "# 슬라이싱으로 접근하는 경우 -> 주어진 범위를 \"확장\"\n",
    "# -> 1번째 위치에서 100이 저장, 그 다음 원소에 200이 저장\n",
    "# 원래는 2번째 위치부터는 뒤로 밀려난다\n",
    "\n",
    "mylist=[1,2,3,4,5]\n",
    "print(mylist)\n",
    "\n",
    "mylist[1:2]=[100,200]\n",
    "print(mylist)"
   ]
  },
  {
   "cell_type": "code",
   "execution_count": 27,
   "id": "66b4eb5f-297c-4098-9713-d201c794f927",
   "metadata": {},
   "outputs": [
    {
     "name": "stdout",
     "output_type": "stream",
     "text": [
      "[1, 3, 4, 5]\n"
     ]
    }
   ],
   "source": [
    "# 리스트 원소 삭제\n",
    "# 특정 위치의 원소 삭제\n",
    "# -> 삭제 후 빈자리가 매워짐\n",
    "\n",
    "mylist = [1,2,3,4,5]\n",
    "del(mylist[1])\n",
    "print(mylist)"
   ]
  },
  {
   "cell_type": "code",
   "execution_count": 28,
   "id": "90b71f9e-b883-4eaa-8050-db4c43e5a944",
   "metadata": {},
   "outputs": [
    {
     "name": "stdout",
     "output_type": "stream",
     "text": [
      "[1, 4, 5]\n"
     ]
    }
   ],
   "source": [
    "# 특정 범위(1번째부터 3번째 전까지)의 원소 삭제\n",
    "# -> 삭제 후 빈자리가 매워짐\n",
    "\n",
    "mylist=[1,2,3,4,5]\n",
    "del(mylist[1:3])\n",
    "print(mylist)"
   ]
  },
  {
   "cell_type": "code",
   "execution_count": 29,
   "id": "57b88b66-58d4-4908-920b-068d21f8dc7c",
   "metadata": {},
   "outputs": [
    {
     "name": "stdout",
     "output_type": "stream",
     "text": [
      "[1, 4, 5]\n"
     ]
    }
   ],
   "source": [
    "# 특정 범위를 삭제하는 또 다른 방법\n",
    "mylist = [1, 2, 3, 4, 5]\n",
    "del(mylist[1:3])\n",
    "print(mylist)"
   ]
  },
  {
   "cell_type": "code",
   "execution_count": 30,
   "id": "89f990e1-b844-452e-9bbb-f1291391dbf7",
   "metadata": {},
   "outputs": [
    {
     "name": "stdout",
     "output_type": "stream",
     "text": [
      "3\n"
     ]
    }
   ],
   "source": [
    "# 리스트의 원소 세기\n",
    "# 전체 원소의 개수 조회\n",
    "\n",
    "my_list=[1,2,3]\n",
    "size = len(my_list)\n",
    "print(size)"
   ]
  },
  {
   "cell_type": "code",
   "execution_count": 31,
   "id": "adcff084-8c66-4db5-b3c7-fc1e06ec5f30",
   "metadata": {},
   "outputs": [
    {
     "name": "stdout",
     "output_type": "stream",
     "text": [
      "2\n"
     ]
    }
   ],
   "source": [
    "# 주어진 값과 일치하는 원소의 개수 세기\n",
    "\n",
    "my_list=[1,2,3,2]\n",
    "c=my_list.count(2)\n",
    "print(c)"
   ]
  },
  {
   "cell_type": "code",
   "execution_count": 32,
   "id": "db214764-ea62-4d52-b93d-ce393dcabffc",
   "metadata": {},
   "outputs": [
    {
     "name": "stdout",
     "output_type": "stream",
     "text": [
      "3\n"
     ]
    }
   ],
   "source": [
    "# 해당 값이 가장 처음 나타나는 위치(인덱스 반환)\n",
    "\n",
    "my_list=[1,2,3,10,1,2,3,10]\n",
    "x=my_list.index(10)\n",
    "print(x)"
   ]
  },
  {
   "cell_type": "code",
   "execution_count": 33,
   "id": "fc8f0218-6771-490b-8eec-1b3a0b9d20d7",
   "metadata": {},
   "outputs": [
    {
     "name": "stdout",
     "output_type": "stream",
     "text": [
      "[1, 2, 3, 4]\n"
     ]
    }
   ],
   "source": [
    "# 리스트의 원소 추가\n",
    "# 맨 뒤에 내용 추가\n",
    "\n",
    "my_list =[1,2,3]\n",
    "my_list.append(4)\n",
    "print(my_list)"
   ]
  },
  {
   "cell_type": "code",
   "execution_count": 34,
   "id": "59ffad8d-4576-475a-bfdd-63a545768d34",
   "metadata": {},
   "outputs": [
    {
     "name": "stdout",
     "output_type": "stream",
     "text": [
      "[1, 10, 2, 3]\n"
     ]
    }
   ],
   "source": [
    "# 리스트를 append 할 경우 2차 리스트로 삽입\n",
    "\n",
    "my_list=[1,2,3]\n",
    "my_list.insert(1,10)\n",
    "print(my_list)"
   ]
  },
  {
   "cell_type": "code",
   "execution_count": 35,
   "id": "482dfdfc-d04e-4a34-a9b8-730ea03d0fa1",
   "metadata": {},
   "outputs": [
    {
     "name": "stdout",
     "output_type": "stream",
     "text": [
      "[1, 10, 2, 3]\n"
     ]
    }
   ],
   "source": [
    "# 중간 삽입\n",
    "# -> 1번째 위치에 10을 삽입. 기존의 항목들은 뒤로 밀려난다\n",
    "\n",
    "my_list=[1,2,3]\n",
    "my_list.insert(1,10)\n",
    "print(my_list)"
   ]
  },
  {
   "cell_type": "code",
   "execution_count": 36,
   "id": "73d43c7d-d6d7-41ad-b319-008cb1794d7b",
   "metadata": {},
   "outputs": [
    {
     "name": "stdout",
     "output_type": "stream",
     "text": [
      "[1, 2, 3, 10, 9, 8, 7]\n"
     ]
    }
   ],
   "source": [
    "# 리스트의 확장\n",
    "# extend() 함수를 호출한 원본에 파라미터로 전달된 리스트를 덧붙인다\n",
    "\n",
    "my_list =[1,2,3]\n",
    "addon = [10,9,8,7]\n",
    "my_list.extend(addon)\n",
    "print(my_list)"
   ]
  },
  {
   "cell_type": "code",
   "execution_count": 37,
   "id": "e42ef897-3cf9-4298-b81e-0b2fe6280bb4",
   "metadata": {},
   "outputs": [
    {
     "name": "stdout",
     "output_type": "stream",
     "text": [
      "3\n",
      "[1, 2]\n"
     ]
    }
   ],
   "source": [
    "# 리스트의 원소 삭제\n",
    "# 맨 마지막 요소를 꺼내고 삭제\n",
    "# -> 마지막 요소를 리턴한다\n",
    "\n",
    "my_list=[1,2,3]\n",
    "k=my_list.pop()\n",
    "print(k)\n",
    "print(my_list)"
   ]
  },
  {
   "cell_type": "code",
   "execution_count": 38,
   "id": "315196d2-42d8-46f8-b018-5b8fa7ae9c64",
   "metadata": {},
   "outputs": [
    {
     "name": "stdout",
     "output_type": "stream",
     "text": [
      "2\n",
      "[1]\n"
     ]
    }
   ],
   "source": [
    "print(my_list.pop())\n",
    "print(my_list)"
   ]
  },
  {
   "cell_type": "code",
   "execution_count": 39,
   "id": "d42222b9-356a-4062-a13c-68d408633147",
   "metadata": {},
   "outputs": [
    {
     "name": "stdout",
     "output_type": "stream",
     "text": [
      "[1, 2, 3, 1, 2, 3, 10]\n"
     ]
    }
   ],
   "source": [
    "# 주어진 값과 일치하는 첫 번째 원소를 삭제\n",
    "my_list = [ 1, 2, 3, 10, 1, 2, 3, 10 ]\n",
    "my_list.remove(10)\n",
    "print(my_list)"
   ]
  },
  {
   "cell_type": "code",
   "execution_count": 40,
   "id": "7315b399-85d9-48c9-a36c-43cf939a14ff",
   "metadata": {},
   "outputs": [
    {
     "name": "stdout",
     "output_type": "stream",
     "text": [
      "[9, 3, 5, 7, 1]\n"
     ]
    }
   ],
   "source": [
    "# 리스트 정렬하기\n",
    "# 순서 뒤집기\n",
    "my_list = [ 1, 7, 5, 3, 9 ]\n",
    "my_list.reverse()\n",
    "print(my_list)"
   ]
  },
  {
   "cell_type": "code",
   "execution_count": 41,
   "id": "956bff50-a716-4d09-8598-4f9cd5fb0809",
   "metadata": {},
   "outputs": [
    {
     "name": "stdout",
     "output_type": "stream",
     "text": [
      "[1, 2, 3, 4, 5]\n"
     ]
    }
   ],
   "source": [
    "# 순차 정렬\n",
    "my_list = [ 2, 5, 1, 4, 3 ]\n",
    "my_list.sort()\n",
    "print(my_list)"
   ]
  },
  {
   "cell_type": "code",
   "execution_count": 42,
   "id": "970100fd-1ed7-4064-97eb-7496252fc7fc",
   "metadata": {},
   "outputs": [
    {
     "name": "stdout",
     "output_type": "stream",
     "text": [
      "[5, 4, 3, 2, 1]\n"
     ]
    }
   ],
   "source": [
    "# 역순 정렬\n",
    "my_list = [ 2, 5, 1, 4, 3 ]\n",
    "my_list.sort(reverse=True)\n",
    "print(my_list)"
   ]
  },
  {
   "cell_type": "code",
   "execution_count": 43,
   "id": "cb7e120d-530d-4a2c-91e5-63be3eb9fa4e",
   "metadata": {},
   "outputs": [
    {
     "name": "stdout",
     "output_type": "stream",
     "text": [
      "['Hello', 'Python', 'World', 'Good']\n"
     ]
    }
   ],
   "source": [
    "# 문자열을 잘라서 리스트로 변환하는 함수\n",
    "# 문자열을 주어진 글자를 기준으로 잘라서 리스트로 변환\n",
    "# -> 문자열 객체에 포함된 함수 사용\n",
    "text = \"Hello,Python,World,Good\"\n",
    "mylist = text.split(\",\")\n",
    "print(mylist)"
   ]
  },
  {
   "cell_type": "code",
   "execution_count": 44,
   "id": "bf26bbb3-9b58-4a91-83be-6f5904bfa582",
   "metadata": {},
   "outputs": [
    {
     "name": "stdout",
     "output_type": "stream",
     "text": [
      "(98, 82, 73, 64, 100)\n"
     ]
    }
   ],
   "source": [
    "# 튜플\n",
    "# 기본적으로 리스트와 동일한 특성을 갖는다\n",
    "\n",
    "# 5명의 학생에 대한 성적 나열\n",
    "grade = ( 98, 82, 73, 64, 100 )\n",
    "print(grade)"
   ]
  },
  {
   "cell_type": "code",
   "execution_count": 45,
   "id": "6f3745de-e6a8-4d3d-8e69-d947ff41d98d",
   "metadata": {},
   "outputs": [
    {
     "name": "stdout",
     "output_type": "stream",
     "text": [
      "('철수', '영희', '나영', '민식', '호영')\n"
     ]
    }
   ],
   "source": [
    "# 각 학생의 이름에 대한 나열\n",
    "names = ( \"철수\", \"영희\", \"나영\", \"민식\", \"호영\" )\n",
    "print(names)"
   ]
  },
  {
   "cell_type": "code",
   "execution_count": 46,
   "id": "4fd16599-08df-494a-b346-e7f3039eb898",
   "metadata": {},
   "outputs": [
    {
     "name": "stdout",
     "output_type": "stream",
     "text": [
      "('철수', 98)\n"
     ]
    }
   ],
   "source": [
    "# 자료형에 대한 혼합사용도 가능함\n",
    "stud1 = ( \"철수\", 98 )\n",
    "print(stud1)"
   ]
  },
  {
   "cell_type": "code",
   "execution_count": 47,
   "id": "5da4104d-8ff0-46d3-b5ff-ec7ca66fd308",
   "metadata": {},
   "outputs": [
    {
     "name": "stdout",
     "output_type": "stream",
     "text": [
      "철수\n",
      "98\n"
     ]
    }
   ],
   "source": [
    "# 값 읽기\n",
    "print(stud1[0])\n",
    "print(stud1[1])"
   ]
  },
  {
   "cell_type": "code",
   "execution_count": 48,
   "id": "0c2d9afa-412e-4efe-961b-099a4933023d",
   "metadata": {},
   "outputs": [
    {
     "ename": "TypeError",
     "evalue": "'tuple' object does not support item assignment",
     "output_type": "error",
     "traceback": [
      "\u001b[1;31m---------------------------------------------------------------------------\u001b[0m",
      "\u001b[1;31mTypeError\u001b[0m                                 Traceback (most recent call last)",
      "\u001b[1;32m~\\AppData\\Local\\Temp/ipykernel_3240/2284215622.py\u001b[0m in \u001b[0;36m<module>\u001b[1;34m\u001b[0m\n\u001b[0;32m      2\u001b[0m \u001b[1;33m\u001b[0m\u001b[0m\n\u001b[0;32m      3\u001b[0m \u001b[1;31m# 값의 변경 --> 튜플은 값의 변경이 불가능하므로 에러\u001b[0m\u001b[1;33m\u001b[0m\u001b[1;33m\u001b[0m\u001b[0m\n\u001b[1;32m----> 4\u001b[1;33m \u001b[0mstud1\u001b[0m\u001b[1;33m[\u001b[0m\u001b[1;36m0\u001b[0m\u001b[1;33m]\u001b[0m \u001b[1;33m=\u001b[0m \u001b[1;34m\"철호\"\u001b[0m\u001b[1;33m\u001b[0m\u001b[1;33m\u001b[0m\u001b[0m\n\u001b[0m",
      "\u001b[1;31mTypeError\u001b[0m: 'tuple' object does not support item assignment"
     ]
    }
   ],
   "source": [
    "# 튜플의 원소 변경하기\n",
    "\n",
    "# 값의 변경 --> 튜플은 값의 변경이 불가능하므로 에러\n",
    "stud1[0] = \"철호\""
   ]
  },
  {
   "cell_type": "code",
   "execution_count": null,
   "id": "e27387e9-3d5c-466d-9aa7-ce15e1d19304",
   "metadata": {},
   "outputs": [],
   "source": []
  }
 ],
 "metadata": {
  "kernelspec": {
   "display_name": "Python 3 (ipykernel)",
   "language": "python",
   "name": "python3"
  },
  "language_info": {
   "codemirror_mode": {
    "name": "ipython",
    "version": 3
   },
   "file_extension": ".py",
   "mimetype": "text/x-python",
   "name": "python",
   "nbconvert_exporter": "python",
   "pygments_lexer": "ipython3",
   "version": "3.9.7"
  }
 },
 "nbformat": 4,
 "nbformat_minor": 5
}
