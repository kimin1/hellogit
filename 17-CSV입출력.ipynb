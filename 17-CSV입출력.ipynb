{
 "cells": [
  {
   "cell_type": "code",
   "execution_count": 1,
   "id": "237c6607-88c1-47e1-817c-cc0c01b26bd5",
   "metadata": {},
   "outputs": [],
   "source": [
    "# CSV 입출력\n",
    "# CSV 파일 저장을 위한 데이터와 형식 준비\n",
    "\n",
    "# 한 학급의 성적표 데이터 예시\n",
    "grade = [\n",
    "    {\"name\": \"철수\", \"kor\": 95, \"eng\": 88, \"math\": 72},\n",
    "    {\"name\": \"영희\", \"kor\": 92, \"eng\": 90, \"math\": 95},    \n",
    "    {\"name\": \"철민\", \"kor\": 88, \"eng\": 76, \"math\": 64},\n",
    "]\n",
    "\n",
    "# CSV 파일의 한 행에 대한 구문 형식 정의\n",
    "tpl = \"{0},{1},{2},{3}\\n\""
   ]
  },
  {
   "cell_type": "code",
   "execution_count": 2,
   "id": "60eba6b6-5966-414f-9d0c-e083a4b72887",
   "metadata": {},
   "outputs": [],
   "source": [
    "# CSV 파일 저장하기\n",
    "\n",
    "# csv 파일 저장을 위한 f객체 생성\n",
    "# -> Excel의 csv는 euc-kr 형식\n",
    "with open(\"grade.csv\", \"w\", encoding='euc-kr') as f:\n",
    "    # 첫 줄에 각 항목의 제목 기록\n",
    "    f.write(\"이름,국어,영어,수학\\n\")\n",
    "    \n",
    "    # 각 데이터를 한 줄씩 콤마로 구분하여 기록\n",
    "    for item in grade:\n",
    "        tmp = tpl.format(item[\"name\"], item[\"kor\"], item[\"eng\"], item[\"math\"])\n",
    "        f.write( tmp )"
   ]
  },
  {
   "cell_type": "code",
   "execution_count": 3,
   "id": "a289757b-907e-4625-a0c6-7c15ffaf640c",
   "metadata": {},
   "outputs": [
    {
     "name": "stdout",
     "output_type": "stream",
     "text": [
      "['이름,국어,영어,수학\\n', '철수,95,88,72\\n', '영희,92,90,95\\n', '철민,88,76,64\\n']\n"
     ]
    }
   ],
   "source": [
    "# CSV 파일 읽어 들이기\n",
    "\n",
    "# open() 함수를 사용하여 csv 파일을 읽기 위한 f 객체를 생성하고,\n",
    "# readlines() 함수를 사용하여 파일의 내용을 리스트 형태로 가져온다.\n",
    "\n",
    "# 읽어들인 내용을 저장하기 위한 빈 변수 생성\n",
    "csv_list = None\n",
    "\n",
    "# grade.csv 파일에 대한 파일 객체를 읽기 모드로 생성\n",
    "with open(\"grade.csv\", \"r\", encoding='euc-kr') as f:\n",
    "    # 파일의 각 행을 원소로 갖는 리스트 생성\n",
    "    csv_list = f.readlines()\n",
    "    \n",
    "# 결과 출력하기\n",
    "print(csv_list)"
   ]
  },
  {
   "cell_type": "code",
   "execution_count": 4,
   "id": "576bc2e2-a8e2-4de4-9ac4-30fd82aca7a1",
   "metadata": {},
   "outputs": [
    {
     "name": "stdout",
     "output_type": "stream",
     "text": [
      "철수의 총점은 255점이고 평균은 85.00점 입니다.\n",
      "영희의 총점은 277점이고 평균은 92.33점 입니다.\n",
      "철민의 총점은 228점이고 평균은 76.00점 입니다.\n"
     ]
    }
   ],
   "source": [
    "# 읽어들인 내용을 토대로 결과 산출하기\n",
    "for i, line in enumerate(csv_list):\n",
    "    # 첫 행은 제목이므로 건너뛴다\n",
    "    if i == 0:\n",
    "        continue\n",
    "        \n",
    "    # 현재 행의 내용을 콤마를 기준으로 잘라서 리스트로 변환\n",
    "    # \"철민,88,76,64\".split(\",\") ==> [\"철민\",\"88\",\"76\",\"64\"]\n",
    "    item = line.strip().split(\",\")\n",
    "    \n",
    "    # 이름과 점수로 분리 -> 점수는 정수형으로 변환\n",
    "    name  = item[0]\n",
    "    kor   = int(item[1])\n",
    "    eng   = int(item[2])\n",
    "    math  = int(item[3])\n",
    "    total = kor + eng + math  # 총점\n",
    "    avg   = total / 3         # 평균\n",
    "    \n",
    "    # 결과출력\n",
    "    tpl = \"{0}의 총점은 {1}점이고 평균은 {2:0.2f}점 입니다.\"\n",
    "    print(tpl.format(name, total, avg))"
   ]
  },
  {
   "cell_type": "code",
   "execution_count": 5,
   "id": "bf52382b-b350-4e0b-9520-bcee6d51986a",
   "metadata": {},
   "outputs": [],
   "source": [
    "# 다른 형식의 데이터 CSV로 저장하기 (1)\n",
    "\n",
    "# 저장을 위한 자료구조 정의\n",
    "grade_dic = {\n",
    "    '이름': ['철수', '영희', '민철', '수현', '호영'],\n",
    "    '국어': [98, 88, 92, 63, 120],\n",
    "    '영어': [76, 90, 70, 60, 50],\n",
    "    '수학': [88, 62, 88, 31, 76],\n",
    "    '과학': [64, 72, 45, 70, 88]\n",
    "}\n",
    "\n",
    "# 한 줄에 대한 템플릿\n",
    "tpl = \"{0},{1},{2},{3},{4}\\n\""
   ]
  },
  {
   "cell_type": "code",
   "execution_count": 6,
   "id": "8803ebe2-a6d2-48f5-9607-0dbcf09f623a",
   "metadata": {},
   "outputs": [],
   "source": [
    "# 다른 형식의 데이터를 CSV로 저장하기 (2)\n",
    "\n",
    "keys = list(grade_dic.keys())  # 딕셔너리의 키를 리스트로 변환\n",
    "\n",
    "p = \",\"\n",
    "title = p.join(keys)  # keys리스트 사이에 쉼표를 넣어 문자열로 변환\n",
    "\n",
    "with open(\"grade2.csv\", \"w\", encoding='euc-kr') as f:\n",
    "    # 첫 줄에 각 항목의 제목 기록\n",
    "    f.write(title + \"\\n\")\n",
    "    \n",
    "    # 각 데이터를 한 줄씩 콤마로 구분하여 기록\n",
    "    for i in range(0, len(grade_dic['이름'])):\n",
    "        tmp = tpl.format(grade_dic['이름'][i], grade_dic['국어'][i],\n",
    "                         grade_dic['영어'][i], grade_dic['수학'][i],\n",
    "                         grade_dic['과학'][i])\n",
    "        f.write( tmp )"
   ]
  },
  {
   "cell_type": "code",
   "execution_count": null,
   "id": "b635d626-7df4-49ca-af8a-e875c8b0f27e",
   "metadata": {},
   "outputs": [],
   "source": []
  }
 ],
 "metadata": {
  "kernelspec": {
   "display_name": "Python 3 (ipykernel)",
   "language": "python",
   "name": "python3"
  },
  "language_info": {
   "codemirror_mode": {
    "name": "ipython",
    "version": 3
   },
   "file_extension": ".py",
   "mimetype": "text/x-python",
   "name": "python",
   "nbconvert_exporter": "python",
   "pygments_lexer": "ipython3",
   "version": "3.9.7"
  }
 },
 "nbformat": 4,
 "nbformat_minor": 5
}
