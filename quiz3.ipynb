{
 "cells": [
  {
   "cell_type": "code",
   "execution_count": 6,
   "id": "fdaaca66-f85a-47ad-a24d-518b482377dc",
   "metadata": {},
   "outputs": [
    {
     "name": "stdin",
     "output_type": "stream",
     "text": [
      "x를 입력하세요: 2\n",
      "y를 입력하세요: 5\n"
     ]
    },
    {
     "name": "stdout",
     "output_type": "stream",
     "text": [
      "10\n",
      "20\n",
      "30\n",
      "40\n",
      "50\n",
      "60\n",
      "70\n",
      "80\n",
      "90\n",
      "100\n",
      "2와 5의 공배수의 합은: 550\n"
     ]
    }
   ],
   "source": [
    "# 문제 1\n",
    "x=int(input(\"x를 입력하세요:\"))\n",
    "y=int(input(\"y를 입력하세요:\"))\n",
    "\n",
    "# 총 합을 구할 때는 반복전에 0으로 변수를 초기화\n",
    "total = 0 \n",
    "\n",
    "# 1부터 100까지의 자연 수 중에서...\n",
    "for i in range(1,101):\n",
    "    \n",
    "    # x와 y의 공배수를 모두 출력\n",
    "    # -> x로 나누었을 때 나머지가 0, y로 나누었을 때 나머지가 0\n",
    "    if i%x==0 and i%y==0:\n",
    "        print(i)\n",
    "        total += i      \n",
    "print(\"%d와 %d의 공배수의 합은: %d\" %(x,y,total))"
   ]
  },
  {
   "cell_type": "code",
   "execution_count": 27,
   "id": "56d50ac5-76ff-4177-a374-0699cec6b915",
   "metadata": {},
   "outputs": [
    {
     "name": "stdin",
     "output_type": "stream",
     "text": [
      " 숫자를 입력하세요 :  10\n"
     ]
    },
    {
     "name": "stdout",
     "output_type": "stream",
     "text": [
      "*\n",
      "**\n",
      "***\n",
      "****\n",
      "*****\n",
      "******\n",
      "*******\n",
      "********\n",
      "*********\n",
      "**********\n"
     ]
    }
   ],
   "source": [
    "# 문제2\n",
    "#하나의 정수 x를 입력받아 x개의 행을 출력하는 별찍기 프로그램을 작성하시오.\n",
    "\n",
    "x=int(input(\" 숫자를 입력하세요 : \"))\n",
    "\n",
    "for i in range( 0, x ):\n",
    "    star = \"\"\n",
    "    \n",
    "    for j in range(0, i+1):\n",
    "        star += \"*\"\n",
    "        \n",
    "    print(star)"
   ]
  },
  {
   "cell_type": "code",
   "execution_count": null,
   "id": "7b2b32b9-a981-4b05-b0ce-f75c0e29834b",
   "metadata": {},
   "outputs": [
    {
     "name": "stdin",
     "output_type": "stream",
     "text": [
      "숫자를 입력하세요: 5\n",
      "1번째 점수를 입력하세요: 2\n",
      "2번째 점수를 입력하세요: 3\n",
      "3번째 점수를 입력하세요: 5\n",
      "4번째 점수를 입력하세요: 2\n",
      "5번째 점수를 입력하세요: 3\n"
     ]
    },
    {
     "name": "stdout",
     "output_type": "stream",
     "text": [
      "총점 : 15, 평균 : 3.00\n"
     ]
    }
   ],
   "source": [
    "#문제3\n",
    "#n개의 과목에 대한 점수를 입력하는 프로그램을 만들고자 한다.\n",
    "#숫자 n을 입력 받아 n번 반복을 수행하면서 숫자를 입력받는다.\n",
    "#반복문 안에서 입력받은 숫자는 data라는 리스트의 원소로 추가된다.\n",
    "#이 리스트의 모든 원소에 대한 총합과 평균을 구하시오.\n",
    "#(평균은 소수점 둘째 자리까지만 표시한다.)\n",
    "n = int(input(\"숫자를 입력하세요:\"))\n",
    "data = []\n",
    "total = 0\n",
    "for i in range(0, n) :\n",
    "    x=int(input(\"%d번째 점수를 입력하세요:\" % (i+1)))\n",
    "    data.append(x)\n",
    "    total += x\n",
    "    \n",
    "avg = total / len(data)\n",
    "\n",
    "print(\"총점 : %d, 평균 : %0.2f\" % (total, avg))\n",
    "   "
   ]
  },
  {
   "cell_type": "code",
   "execution_count": 5,
   "id": "d9c137d8-fe65-4713-bb8a-24e2a5bcca05",
   "metadata": {},
   "outputs": [
    {
     "name": "stdin",
     "output_type": "stream",
     "text": [
      "과목의 수를 입력해주세요:  5\n",
      "과목점수를 입력해주세요:  2\n",
      "과목점수를 입력해주세요:  3\n",
      "과목점수를 입력해주세요:  5\n",
      "과목점수를 입력해주세요:  2\n",
      "과목점수를 입력해주세요:  3\n"
     ]
    },
    {
     "name": "stdout",
     "output_type": "stream",
     "text": [
      "총합: 15, 평균: 3.00\n"
     ]
    }
   ],
   "source": [
    "# 문제3\n",
    "n = int(input(\"과목의 수를 입력해주세요: \"))\n",
    "sum = 0\n",
    "data = []\n",
    "for i in range(0, n):\n",
    "    score = int(input(\"과목점수를 입력해주세요: \"))\n",
    "    data.append(score)\n",
    "    sum +=score\n",
    "print(\"총합: %d, 평균: %0.2f\" %(sum, (sum/len(data))))"
   ]
  },
  {
   "cell_type": "code",
   "execution_count": 95,
   "id": "54554b7b-4f74-4bb6-909f-4023baf79c06",
   "metadata": {
    "tags": []
   },
   "outputs": [
    {
     "name": "stdin",
     "output_type": "stream",
     "text": [
      " 숫자를 입력하세요 :  5\n",
      "2번째 숫자를 입력하세요:  6\n",
      "3번째 숫자를 입력하세요:  2\n",
      "4번째 숫자를 입력하세요:  4\n",
      "5번째 숫자를 입력하세요:  8\n",
      "6번째 숫자를 입력하세요:  1\n"
     ]
    },
    {
     "name": "stdout",
     "output_type": "stream",
     "text": [
      "8\n"
     ]
    }
   ],
   "source": [
    "### 문제4\n",
    "#n개의 숫자를 입력받아서 리스트에 원소로 추가한 후 그 숫자들 중에서 가장 큰 값을 구하는 프로그램을 작성하시오.\n",
    "#단, 최대값은 max()함수를 사용하지 않고 반복문을 통해 직접 구해야 합니다.\n",
    "num1 = []\n",
    "\n",
    "x=int(input(\" 숫자를 입력하세요 : \"))\n",
    "\n",
    "for i in range( 1, x+1 ): \n",
    "    n=int(input(\"%d번째 숫자를 입력하세요: \" % (i+1) ))\n",
    "    num1.append(n)\n",
    "\n",
    "a=0\n",
    "for i in num1:\n",
    "    if a < i:\n",
    "        a = i\n",
    "print(a)"
   ]
  },
  {
   "cell_type": "code",
   "execution_count": 8,
   "id": "6c61e03e-20a8-4b16-aaf4-a34a3fbb96fa",
   "metadata": {},
   "outputs": [
    {
     "name": "stdin",
     "output_type": "stream",
     "text": [
      " 숫자를 입력하세요 :  5\n",
      "1번째 숫자를 입력하세요:  5\n",
      "2번째 숫자를 입력하세요:  2\n",
      "3번째 숫자를 입력하세요:  4\n",
      "4번째 숫자를 입력하세요:  3\n",
      "5번째 숫자를 입력하세요:  1\n"
     ]
    },
    {
     "name": "stdout",
     "output_type": "stream",
     "text": [
      "[1, 2, 3, 4, 5]\n"
     ]
    }
   ],
   "source": [
    "# 문제 5\n",
    "# n개의 숫자를 입력받아서 리스트에 원소로 추가한 후 그 숫자를 오름차순으로 정렬한 결과를 출력하는 프로그램을 작성하시오.\n",
    "# 단, 정렬은 sort()함수를 사용하지 않고 반복문을 통해 직접 처리해야 합니다.\n",
    "num1 = []\n",
    "\n",
    "x=int(input(\" 숫자를 입력하세요 : \"))\n",
    "\n",
    "for i in range( 0, x ): \n",
    "    n=int(input(\"%d번째 숫자를 입력하세요: \" % (i+1) ))\n",
    "    num1.append(n)\n",
    "\n",
    "# 미리 입력받은 n이 리스트의 사이즈와 같은 의미이므로 활용\n",
    "for i in range(0, x-1):\n",
    "    for j in range(i+1, x):\n",
    "        if num1[i] > num1[j]:\n",
    "            num1[i], num1[j] = num1[j], num1[i]\n",
    "        \n",
    "print(num1)   "
   ]
  },
  {
   "cell_type": "code",
   "execution_count": null,
   "id": "3ea0eab9-b39b-41c8-9cd0-be7ad633a9cd",
   "metadata": {},
   "outputs": [],
   "source": []
  }
 ],
 "metadata": {
  "kernelspec": {
   "display_name": "Python 3 (ipykernel)",
   "language": "python",
   "name": "python3"
  },
  "language_info": {
   "codemirror_mode": {
    "name": "ipython",
    "version": 3
   },
   "file_extension": ".py",
   "mimetype": "text/x-python",
   "name": "python",
   "nbconvert_exporter": "python",
   "pygments_lexer": "ipython3",
   "version": "3.9.7"
  }
 },
 "nbformat": 4,
 "nbformat_minor": 5
}
