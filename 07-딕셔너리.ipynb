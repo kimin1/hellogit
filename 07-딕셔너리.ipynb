{
 "cells": [
  {
   "cell_type": "code",
   "execution_count": 1,
   "id": "46afbe08-a7f1-4798-afb3-4fdd2849048c",
   "metadata": {},
   "outputs": [
    {
     "name": "stdout",
     "output_type": "stream",
     "text": [
      "{'name': '철수', 'phone': '010-1234-5678', 'birth': '0115'}\n"
     ]
    }
   ],
   "source": [
    "dic = {\"name\":\"철수\",\"phone\":\"010-1234-5678\",\"birth\":\"0115\"}\n",
    "print(dic)"
   ]
  },
  {
   "cell_type": "code",
   "execution_count": 3,
   "id": "f6591a2c-eda0-4bd2-95c5-9bd05769a289",
   "metadata": {},
   "outputs": [
    {
     "name": "stdout",
     "output_type": "stream",
     "text": [
      "철수\n"
     ]
    }
   ],
   "source": [
    "#특정 원소에 접근하기 -> 직접 출력\n",
    "print(dic[\"name\"])"
   ]
  },
  {
   "cell_type": "code",
   "execution_count": 4,
   "id": "ab8eba15-4fb3-47a5-a8d7-44facdef5d35",
   "metadata": {},
   "outputs": [
    {
     "name": "stdout",
     "output_type": "stream",
     "text": [
      "010-1234-5678\n"
     ]
    }
   ],
   "source": [
    "#특정 원소에 접근하기 -> 다른 변수에 복사\n",
    "phone = dic[\"phone\"]\n",
    "print(phone)"
   ]
  },
  {
   "cell_type": "code",
   "execution_count": 5,
   "id": "9ed76655-41ac-472e-8fa5-224feb6858ca",
   "metadata": {},
   "outputs": [
    {
     "name": "stdout",
     "output_type": "stream",
     "text": [
      "호영\n"
     ]
    }
   ],
   "source": [
    "# 특정 원소의 값을 변경\n",
    "dic[\"name\"]=\"호영\"\n",
    "print(dic[\"name\"])"
   ]
  },
  {
   "cell_type": "code",
   "execution_count": 9,
   "id": "7081463d-0e5f-4280-8f8b-1f5cd062939e",
   "metadata": {},
   "outputs": [
    {
     "name": "stdout",
     "output_type": "stream",
     "text": [
      "{'name': '호영', 'phone': '010-1234-5678'}\n"
     ]
    }
   ],
   "source": [
    "# -> key가 birth인 데이터 삭제\n",
    "del(dic[\"birth\"])\n",
    "print(dic)"
   ]
  },
  {
   "cell_type": "code",
   "execution_count": 10,
   "id": "3cad52a6-9ed6-42ed-94f0-4fd7e0247a5f",
   "metadata": {},
   "outputs": [
    {
     "ename": "KeyError",
     "evalue": "'weight'",
     "output_type": "error",
     "traceback": [
      "\u001b[1;31m---------------------------------------------------------------------------\u001b[0m",
      "\u001b[1;31mKeyError\u001b[0m                                  Traceback (most recent call last)",
      "\u001b[1;32m~\\AppData\\Local\\Temp/ipykernel_4852/1318172772.py\u001b[0m in \u001b[0;36m<module>\u001b[1;34m\u001b[0m\n\u001b[1;32m----> 1\u001b[1;33m \u001b[0mprint\u001b[0m\u001b[1;33m(\u001b[0m\u001b[0mdic\u001b[0m\u001b[1;33m[\u001b[0m\u001b[1;34m\"weight\"\u001b[0m\u001b[1;33m]\u001b[0m\u001b[1;33m)\u001b[0m\u001b[1;33m\u001b[0m\u001b[1;33m\u001b[0m\u001b[0m\n\u001b[0m",
      "\u001b[1;31mKeyError\u001b[0m: 'weight'"
     ]
    }
   ],
   "source": [
    "# 존재하지 않는 키의 값을 사용하면 에러\n",
    "print(dic[\"weight\"])"
   ]
  },
  {
   "cell_type": "code",
   "execution_count": 11,
   "id": "e1e411ab-a6f0-45d2-98c2-27b7db0abad8",
   "metadata": {},
   "outputs": [
    {
     "name": "stdout",
     "output_type": "stream",
     "text": [
      "{'name': '호영', 'phone': '010-1234-5678', 'height': 175}\n"
     ]
    }
   ],
   "source": [
    "# 존재하지 않는 키에 값을 할당하면 확장\n",
    "dic[\"height\"] = 175\n",
    "print(dic)"
   ]
  },
  {
   "cell_type": "code",
   "execution_count": 12,
   "id": "af4bc576-0a31-4d3e-ab7b-ef16127f3f3c",
   "metadata": {},
   "outputs": [
    {
     "name": "stdout",
     "output_type": "stream",
     "text": [
      "python\n"
     ]
    }
   ],
   "source": [
    "# 키가 중복될 경우 하나를 제외한 나머지는 무시됨.\n",
    "# -> 일반적으로 나중에 정의된 항목이 이전에 정의된 항목을 덮어 씀\n",
    "data = {\"msg\":\"hello\",\"msg\":\"world\",\"msg\":\"python\"}\n",
    "print(data['msg'])"
   ]
  },
  {
   "cell_type": "code",
   "execution_count": 13,
   "id": "bfa24d60-4ddc-4fe4-a4c6-085afa94d6f2",
   "metadata": {},
   "outputs": [
    {
     "name": "stdout",
     "output_type": "stream",
     "text": [
      "{'userid': 'python', 'age': 20, 'addr': ['서울', '서초구', '강남대로'], 'grade': {'korean': 98, 'math': 77, 'english': 82}}\n"
     ]
    }
   ],
   "source": [
    "# 딕셔너리는 리스트나 다른 딕셔너리를 포함할 수 있다.\n",
    "# -> 정보를 계층화해서 표현 가능함\n",
    "addr = [\"서울\",\"서초구\",\"강남대로\"]\n",
    "grade = {\"korean\":98, \"math\":77, \"english\":82}\n",
    "\n",
    "# 서로 다른 종류의 데이터를 저장할 수 있다.\n",
    "member = {\n",
    "        \"userid\":\"python\", #문자열 데이터\n",
    "        \"age\":20,          #정수형 데이터\n",
    "        \"addr\":addr,       #리스트 데이터\n",
    "        \"grade\":grade      #딕셔너리 데이터\n",
    "}\n",
    "\n",
    "print(member)"
   ]
  },
  {
   "cell_type": "code",
   "execution_count": 33,
   "id": "91ddb080-c017-4bf7-ae77-2aa1df8e8740",
   "metadata": {},
   "outputs": [
    {
     "name": "stdout",
     "output_type": "stream",
     "text": [
      "서울\n",
      "98\n"
     ]
    }
   ],
   "source": [
    "# 계층화된 값에 접근하기\n",
    "\n",
    "print(member[\"addr\"][0])\n",
    "print(member[\"grade\"][\"korean\"])"
   ]
  },
  {
   "cell_type": "code",
   "execution_count": 34,
   "id": "851c060e-487f-429f-b588-44de658d5058",
   "metadata": {},
   "outputs": [
    {
     "name": "stdout",
     "output_type": "stream",
     "text": [
      "{'total': 1962, 'city': ['서울', '대전', '광주'], 'population': [987, 654, 321], 'date': {'yy': 2018, 'mm': 9, 'dd': 10}}\n"
     ]
    }
   ],
   "source": [
    "# 딕셔너리의 계층화 직접표현\n",
    "\n",
    "mydic = {\n",
    "    'total' : 1962,\n",
    "    'city' : [\"서울\",\"대전\",\"광주\"],\n",
    "    'population' : [987,654,321],\n",
    "    'date': {'yy':2018, 'mm':9, 'dd':10}\n",
    "}\n",
    "print(mydic)"
   ]
  },
  {
   "cell_type": "code",
   "execution_count": 16,
   "id": "62da772d-724d-4042-ba20-acbaad5f082e",
   "metadata": {},
   "outputs": [
    {
     "name": "stdout",
     "output_type": "stream",
     "text": [
      "서울\n",
      "987\n",
      "2018\n"
     ]
    }
   ],
   "source": [
    "print(mydic[\"city\"][0])\n",
    "print(mydic[\"population\"][0])\n",
    "print(mydic[\"date\"][\"yy\"])"
   ]
  },
  {
   "cell_type": "code",
   "execution_count": 35,
   "id": "9c0a2558-019e-4671-a83d-d1d05e80d00a",
   "metadata": {},
   "outputs": [
    {
     "name": "stdout",
     "output_type": "stream",
     "text": [
      "철수의 국어점수:95, 영어점수:88\n",
      "영희의 국어점수:92, 영어점수:90\n",
      "철민의 국어점수:88, 영어점수:76\n"
     ]
    }
   ],
   "source": [
    "# 리스트의 원소가 딕셔너리가 되는 경우 --> 표 자료형\n",
    "\n",
    "grade = [\n",
    "    {\"name\":\"철수\",\"kor\":95,\"eng\":88},\n",
    "    {\"name\":\"영희\",\"kor\":92,\"eng\":90},\n",
    "    {\"name\":\"철민\",\"kor\":88,\"eng\":76}\n",
    "]\n",
    "\n",
    "tpl = \"{0}의 국어점수:{1}, 영어점수:{2}\"\n",
    "\n",
    "print( tpl.format(grade[0][\"name\"],grade[0][\"kor\"],grade[0][\"eng\"]))\n",
    "print( tpl.format(grade[1][\"name\"],grade[1][\"kor\"],grade[1][\"eng\"]))\n",
    "print( tpl.format(grade[2][\"name\"],grade[2][\"kor\"],grade[2][\"eng\"]))"
   ]
  },
  {
   "cell_type": "code",
   "execution_count": 36,
   "id": "bcea177a-5404-44eb-9f0a-e272620c2d83",
   "metadata": {},
   "outputs": [],
   "source": [
    "# 샘플데이터\n",
    "\n",
    "dic = {\"name\":\"철수\",\"phone\":\"010-1234-5678\", \"birth\":\"0115\"}"
   ]
  },
  {
   "cell_type": "code",
   "execution_count": 37,
   "id": "06340f24-0b99-4bc9-ade7-1baad888a510",
   "metadata": {},
   "outputs": [
    {
     "name": "stdout",
     "output_type": "stream",
     "text": [
      "철수\n"
     ]
    }
   ],
   "source": [
    "# 특정 key에 대응하는 값 얻기\n",
    "# -> dic[\"name\"]과 동일\n",
    "\n",
    "print(dic.get(\"name\"))"
   ]
  },
  {
   "cell_type": "code",
   "execution_count": 38,
   "id": "dd5cd687-3b54-47a4-a311-22bffe8ae08a",
   "metadata": {},
   "outputs": [
    {
     "name": "stdout",
     "output_type": "stream",
     "text": [
      "None\n"
     ]
    }
   ],
   "source": [
    "# 존재하지 않는 key에 접근하는 경우 --> 에러\n",
    "# print(dic[\"gender\"])\n",
    "# 존재하지 않는 key에 접근하는 경우 --> 에러아님(None이 반환됨)\n",
    "\n",
    "print(dic.get(\"gender\"))"
   ]
  },
  {
   "cell_type": "code",
   "execution_count": 39,
   "id": "101dfeb1-429c-4936-ba64-e0d44026323d",
   "metadata": {},
   "outputs": [
    {
     "name": "stdout",
     "output_type": "stream",
     "text": [
      "남자\n"
     ]
    }
   ],
   "source": [
    "# get함수는 전달하는 key가 존재하지 않을 경우\n",
    "# 대신 반환될 값을 함께 설정할 수 있다.\n",
    "\n",
    "print(dic.get(\"gender\",\"남자\"))"
   ]
  },
  {
   "cell_type": "code",
   "execution_count": 40,
   "id": "26983a07-1ece-4a23-8f01-e8cf3fa96704",
   "metadata": {},
   "outputs": [
    {
     "name": "stdout",
     "output_type": "stream",
     "text": [
      "dict_keys(['name', 'phone', 'birth'])\n"
     ]
    }
   ],
   "source": [
    "# key만 모아서 dict_keys라는 객체로 반환\n",
    "\n",
    "keys = dic.keys()\n",
    "print(key)"
   ]
  },
  {
   "cell_type": "code",
   "execution_count": 41,
   "id": "5c70cea9-cc6d-4fdb-84d5-f7b5ee4f20af",
   "metadata": {},
   "outputs": [
    {
     "name": "stdout",
     "output_type": "stream",
     "text": [
      "['name', 'phone', 'birth']\n"
     ]
    }
   ],
   "source": [
    "# dict_keys를 list로 변환\n",
    "\n",
    "key_list = list(keys)\n",
    "print(key_list)"
   ]
  },
  {
   "cell_type": "code",
   "execution_count": 42,
   "id": "f6fb4cdc-9264-4379-9592-fc6cbcb27acb",
   "metadata": {},
   "outputs": [
    {
     "name": "stdout",
     "output_type": "stream",
     "text": [
      "dict_values(['철수', '010-1234-5678', '0115'])\n"
     ]
    }
   ],
   "source": [
    "# value만 모아서 dic_values 객체로 반환\n",
    "\n",
    "values = dic.values()\n",
    "print(values)"
   ]
  },
  {
   "cell_type": "code",
   "execution_count": 44,
   "id": "e50731f4-e71e-4206-a9f8-2bb5d419bb61",
   "metadata": {},
   "outputs": [
    {
     "name": "stdout",
     "output_type": "stream",
     "text": [
      "['철수', '010-1234-5678', '0115']\n"
     ]
    }
   ],
   "source": [
    "# dic_values를 list로 변환\n",
    "\n",
    "value_list = list(values)\n",
    "print(value_list)"
   ]
  },
  {
   "cell_type": "code",
   "execution_count": 45,
   "id": "af5942cc-e829-44fe-ae35-8bacffebbc9c",
   "metadata": {},
   "outputs": [
    {
     "name": "stdout",
     "output_type": "stream",
     "text": [
      "dict_items([('name', '철수'), ('phone', '010-1234-5678'), ('birth', '0115')])\n"
     ]
    }
   ],
   "source": [
    "# key-value를 쌍으로 묶는 튜플들의 모음인 dict_items 객체 얻기\n",
    "\n",
    "items=dic.items()\n",
    "print(items)"
   ]
  },
  {
   "cell_type": "code",
   "execution_count": 31,
   "id": "de7a4053-2c84-4aee-8aee-e071aea2bcfa",
   "metadata": {},
   "outputs": [
    {
     "name": "stdout",
     "output_type": "stream",
     "text": [
      "[('name', '철수'), ('phone', '010-1234-5678'), ('birth', '0115')]\n"
     ]
    }
   ],
   "source": [
    "lists = list(items)\n",
    "print(lists)"
   ]
  }
 ],
 "metadata": {
  "kernelspec": {
   "display_name": "Python 3 (ipykernel)",
   "language": "python",
   "name": "python3"
  },
  "language_info": {
   "codemirror_mode": {
    "name": "ipython",
    "version": 3
   },
   "file_extension": ".py",
   "mimetype": "text/x-python",
   "name": "python",
   "nbconvert_exporter": "python",
   "pygments_lexer": "ipython3",
   "version": "3.9.7"
  }
 },
 "nbformat": 4,
 "nbformat_minor": 5
}
