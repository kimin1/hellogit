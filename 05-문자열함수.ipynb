{
 "cells": [
  {
   "cell_type": "code",
   "execution_count": 37,
   "id": "1abfe86e-308b-4cdf-941d-e9b69659d25a",
   "metadata": {},
   "outputs": [
    {
     "name": "stdout",
     "output_type": "stream",
     "text": [
      "Life is too short, You need Python\n"
     ]
    }
   ],
   "source": [
    "str = \"Life is too short, You need Python\"\n",
    "print(str)"
   ]
  },
  {
   "cell_type": "code",
   "execution_count": 3,
   "id": "04bc7088-c7e6-4ecd-ae24-263f9eda59ae",
   "metadata": {},
   "outputs": [
    {
     "name": "stdout",
     "output_type": "stream",
     "text": [
      "34\n"
     ]
    }
   ],
   "source": [
    "a = len(str)\n",
    "print(a)"
   ]
  },
  {
   "cell_type": "code",
   "execution_count": 7,
   "id": "fa7a76ec-102d-4ad0-829d-1098b8f9deaf",
   "metadata": {},
   "outputs": [
    {
     "name": "stdout",
     "output_type": "stream",
     "text": [
      "34\n"
     ]
    }
   ],
   "source": [
    "print( len(str) )"
   ]
  },
  {
   "cell_type": "code",
   "execution_count": 8,
   "id": "3d8c2c51-2df5-442b-9adf-3edc4b0e9451",
   "metadata": {},
   "outputs": [
    {
     "name": "stdout",
     "output_type": "stream",
     "text": [
      "2\n"
     ]
    }
   ],
   "source": [
    "print( str.count(\"i\"))"
   ]
  },
  {
   "cell_type": "code",
   "execution_count": 9,
   "id": "632c1ef8-a086-4387-898d-2e930ca59abb",
   "metadata": {},
   "outputs": [
    {
     "name": "stdout",
     "output_type": "stream",
     "text": [
      "0\n"
     ]
    }
   ],
   "source": [
    "print(str.count(\"a\"))"
   ]
  },
  {
   "cell_type": "code",
   "execution_count": 10,
   "id": "4925d77d-2003-408a-bc3c-a3614af38a82",
   "metadata": {},
   "outputs": [
    {
     "name": "stdout",
     "output_type": "stream",
     "text": [
      "1\n"
     ]
    }
   ],
   "source": [
    "print(str.count(\"short\"))"
   ]
  },
  {
   "cell_type": "code",
   "execution_count": 11,
   "id": "39b61d6d-6dde-4915-9df2-9eccc50055e9",
   "metadata": {},
   "outputs": [
    {
     "name": "stdout",
     "output_type": "stream",
     "text": [
      "0\n"
     ]
    }
   ],
   "source": [
    "print(str.count(\"nice\"))"
   ]
  },
  {
   "cell_type": "code",
   "execution_count": 12,
   "id": "768dae9e-18db-4438-975c-7fd2264ab520",
   "metadata": {},
   "outputs": [
    {
     "name": "stdout",
     "output_type": "stream",
     "text": [
      "8\n"
     ]
    }
   ],
   "source": [
    "print(str.find(\"t\"))"
   ]
  },
  {
   "cell_type": "code",
   "execution_count": 13,
   "id": "ff6e3782-5ffb-42f6-a7c1-4a1fb2306bb9",
   "metadata": {},
   "outputs": [
    {
     "name": "stdout",
     "output_type": "stream",
     "text": [
      "12\n"
     ]
    }
   ],
   "source": [
    "print(str.find(\"short\"))"
   ]
  },
  {
   "cell_type": "code",
   "execution_count": 14,
   "id": "939eec1b-1dd6-4889-b3b4-987a116c7133",
   "metadata": {},
   "outputs": [
    {
     "name": "stdout",
     "output_type": "stream",
     "text": [
      "-1\n"
     ]
    }
   ],
   "source": [
    "print(str.find(\"g\"))"
   ]
  },
  {
   "cell_type": "code",
   "execution_count": 15,
   "id": "1495c4a9-40d8-4331-a048-09cb6e105709",
   "metadata": {},
   "outputs": [
    {
     "name": "stdout",
     "output_type": "stream",
     "text": [
      "-1\n"
     ]
    }
   ],
   "source": [
    "print(str.find(\"nice\"))"
   ]
  },
  {
   "cell_type": "code",
   "execution_count": 16,
   "id": "568387ca-1953-4cf7-8acf-e42ecd06472e",
   "metadata": {},
   "outputs": [
    {
     "name": "stdout",
     "output_type": "stream",
     "text": [
      "30\n"
     ]
    }
   ],
   "source": [
    "print (str.rfind(\"t\"))"
   ]
  },
  {
   "cell_type": "code",
   "execution_count": 17,
   "id": "9b01cfad-d198-4710-8c81-92140d171e06",
   "metadata": {},
   "outputs": [
    {
     "name": "stdout",
     "output_type": "stream",
     "text": [
      "12\n"
     ]
    }
   ],
   "source": [
    "print(str.rfind(\"short\"))"
   ]
  },
  {
   "cell_type": "code",
   "execution_count": 18,
   "id": "75677a28-2ae2-4f78-843d-e6258e75b5c2",
   "metadata": {},
   "outputs": [
    {
     "name": "stdout",
     "output_type": "stream",
     "text": [
      "-1\n"
     ]
    }
   ],
   "source": [
    "print(str.rfind(\"g\"))"
   ]
  },
  {
   "cell_type": "code",
   "execution_count": 19,
   "id": "00e5c7e6-16ce-453e-8b3e-436fa9370675",
   "metadata": {},
   "outputs": [
    {
     "name": "stdout",
     "output_type": "stream",
     "text": [
      "-1\n"
     ]
    }
   ],
   "source": [
    "print(str.rfind(\"nice\"))"
   ]
  },
  {
   "cell_type": "code",
   "execution_count": 20,
   "id": "094389ed-1b5f-434d-bdf9-9361ad409012",
   "metadata": {},
   "outputs": [
    {
     "name": "stdout",
     "output_type": "stream",
     "text": [
      "True\n"
     ]
    }
   ],
   "source": [
    "print (str.startswith(\"L\"))"
   ]
  },
  {
   "cell_type": "code",
   "execution_count": 21,
   "id": "0664de11-f1f0-48b8-8618-e1b27b1f8534",
   "metadata": {},
   "outputs": [
    {
     "name": "stdout",
     "output_type": "stream",
     "text": [
      "False\n"
     ]
    }
   ],
   "source": [
    "print(str.startswith(\"l\"))"
   ]
  },
  {
   "cell_type": "code",
   "execution_count": 22,
   "id": "6c82457a-2ea8-41d7-adea-c75b21d4d8b1",
   "metadata": {},
   "outputs": [
    {
     "name": "stdout",
     "output_type": "stream",
     "text": [
      "True\n"
     ]
    }
   ],
   "source": [
    "print(str.startswith(\"Life\"))"
   ]
  },
  {
   "cell_type": "code",
   "execution_count": 24,
   "id": "7818a2b0-ac69-4e02-ab87-0d9af0643447",
   "metadata": {},
   "outputs": [
    {
     "name": "stdout",
     "output_type": "stream",
     "text": [
      "False\n"
     ]
    }
   ],
   "source": [
    "print(str.startswith(\"H\"))"
   ]
  },
  {
   "cell_type": "code",
   "execution_count": 26,
   "id": "92f422df-bd7d-4367-bfb2-41c874460d51",
   "metadata": {},
   "outputs": [
    {
     "name": "stdout",
     "output_type": "stream",
     "text": [
      "False\n"
     ]
    }
   ],
   "source": [
    "print(str.startswith(\"Hello\"))"
   ]
  },
  {
   "cell_type": "code",
   "execution_count": 27,
   "id": "9ee3a730-c734-47fb-92ed-41f8a297c950",
   "metadata": {},
   "outputs": [
    {
     "name": "stdout",
     "output_type": "stream",
     "text": [
      "False\n"
     ]
    }
   ],
   "source": [
    "print(str.endswith(\"N\"))"
   ]
  },
  {
   "cell_type": "code",
   "execution_count": 28,
   "id": "a4734d9f-f23f-4583-92e5-c33ce6c5874f",
   "metadata": {},
   "outputs": [
    {
     "name": "stdout",
     "output_type": "stream",
     "text": [
      "True\n"
     ]
    }
   ],
   "source": [
    "print(str.endswith(\"n\"))"
   ]
  },
  {
   "cell_type": "code",
   "execution_count": 29,
   "id": "ea2f8897-c724-4d94-925b-b1238033089a",
   "metadata": {},
   "outputs": [
    {
     "name": "stdout",
     "output_type": "stream",
     "text": [
      "True\n"
     ]
    }
   ],
   "source": [
    "print(str.endswith(\"Python\"))"
   ]
  },
  {
   "cell_type": "code",
   "execution_count": 31,
   "id": "bf1afaaa-e207-4997-8829-438c8a3c9f78",
   "metadata": {},
   "outputs": [
    {
     "name": "stdout",
     "output_type": "stream",
     "text": [
      "False\n"
     ]
    }
   ],
   "source": [
    "print(str.endswith(\"python\"))"
   ]
  },
  {
   "cell_type": "code",
   "execution_count": 32,
   "id": "90ec0c73-2d56-4cdc-bab6-87c545e129ca",
   "metadata": {},
   "outputs": [
    {
     "name": "stdout",
     "output_type": "stream",
     "text": [
      "LIFE IS TOO SHORT, YOU NEED PYTHON\n"
     ]
    }
   ],
   "source": [
    "upchar=str.upper()\n",
    "print(upchar)"
   ]
  },
  {
   "cell_type": "code",
   "execution_count": 35,
   "id": "39bd6459-e4a1-410e-bd78-d026c0644fa3",
   "metadata": {},
   "outputs": [
    {
     "name": "stdout",
     "output_type": "stream",
     "text": [
      "life is too short, you need python\n"
     ]
    }
   ],
   "source": [
    "lowchar=str.lower()\n",
    "print(lowchar)"
   ]
  },
  {
   "cell_type": "code",
   "execution_count": 38,
   "id": "f4c392c7-ba4b-4aff-81d2-37acb3a4fb12",
   "metadata": {},
   "outputs": [
    {
     "name": "stdout",
     "output_type": "stream",
     "text": [
      "lIFE IS TOO SHORT, yOU NEED pYTHON\n"
     ]
    }
   ],
   "source": [
    "print(str.swapcase())"
   ]
  },
  {
   "cell_type": "code",
   "execution_count": 39,
   "id": "ae15e113-8b1e-4ec1-b2e4-1a0563523c0c",
   "metadata": {},
   "outputs": [
    {
     "name": "stdout",
     "output_type": "stream",
     "text": [
      "Life is too short, you need python\n"
     ]
    }
   ],
   "source": [
    "print(str.capitalize())"
   ]
  },
  {
   "cell_type": "code",
   "execution_count": 40,
   "id": "c8c4e427-5fca-479e-8935-39b03dd6cd48",
   "metadata": {},
   "outputs": [
    {
     "name": "stdout",
     "output_type": "stream",
     "text": [
      "Life Is Too Short, You Need Python\n"
     ]
    }
   ],
   "source": [
    "print(str.title())"
   ]
  },
  {
   "cell_type": "code",
   "execution_count": 41,
   "id": "c496505f-8480-43a8-b913-93453a362d09",
   "metadata": {},
   "outputs": [
    {
     "name": "stdout",
     "output_type": "stream",
     "text": [
      "Your height is too short, You need Python\n"
     ]
    }
   ],
   "source": [
    "print(str.replace(\"Life\", \"Your height\"))"
   ]
  },
  {
   "cell_type": "code",
   "execution_count": 42,
   "id": "fbfeb356-6a4d-42c2-be0c-b4c5ca36060d",
   "metadata": {},
   "outputs": [],
   "source": [
    "k = \"    python    \""
   ]
  },
  {
   "cell_type": "code",
   "execution_count": 43,
   "id": "b902081d-9d0a-4aa4-ba29-11299ddf15f9",
   "metadata": {},
   "outputs": [
    {
     "name": "stdout",
     "output_type": "stream",
     "text": [
      "python    \n"
     ]
    }
   ],
   "source": [
    "print(k.lstrip())"
   ]
  },
  {
   "cell_type": "code",
   "execution_count": 44,
   "id": "3299587d-3e08-4144-8a36-a20c71c17401",
   "metadata": {},
   "outputs": [
    {
     "name": "stdout",
     "output_type": "stream",
     "text": [
      "    python\n"
     ]
    }
   ],
   "source": [
    "print(k.rstrip())"
   ]
  },
  {
   "cell_type": "code",
   "execution_count": 45,
   "id": "f74f8d29-0ca8-49e4-b5b0-645877342c54",
   "metadata": {},
   "outputs": [
    {
     "name": "stdout",
     "output_type": "stream",
     "text": [
      "python\n"
     ]
    }
   ],
   "source": [
    "print(k.strip())"
   ]
  },
  {
   "cell_type": "code",
   "execution_count": null,
   "id": "e8447680-cc02-4d14-92b0-81b6fecd826f",
   "metadata": {},
   "outputs": [],
   "source": []
  }
 ],
 "metadata": {
  "kernelspec": {
   "display_name": "Python 3 (ipykernel)",
   "language": "python",
   "name": "python3"
  },
  "language_info": {
   "codemirror_mode": {
    "name": "ipython",
    "version": 3
   },
   "file_extension": ".py",
   "mimetype": "text/x-python",
   "name": "python",
   "nbconvert_exporter": "python",
   "pygments_lexer": "ipython3",
   "version": "3.9.7"
  }
 },
 "nbformat": 4,
 "nbformat_minor": 5
}
