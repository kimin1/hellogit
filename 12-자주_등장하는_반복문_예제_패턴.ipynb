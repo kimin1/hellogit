{
 "cells": [
  {
   "cell_type": "code",
   "execution_count": 1,
   "id": "8ea2e935-0af0-4769-9568-50833d312faf",
   "metadata": {},
   "outputs": [],
   "source": [
    "# 자주 등장하는 반복문 예제 패턴\n",
    "\n",
    "# 데이터의 흐름제어(조건문, 반복문)\n",
    "# 별찍기 -> 반복문의 범위를 설정하는 연습\n",
    "# 리스트의 역순 배치 -> 반복문과 리스트의 인덱스에 대한 연습\n",
    "# 리스트의 정렬 -> 반복문과 리스트의 인덱스, 조건문에 대한 연습"
   ]
  },
  {
   "cell_type": "code",
   "execution_count": 2,
   "id": "fddefe3d-fb47-4518-9d87-553e46bd9306",
   "metadata": {},
   "outputs": [
    {
     "name": "stdout",
     "output_type": "stream",
     "text": [
      "*\n",
      "**\n",
      "***\n",
      "****\n",
      "*****\n"
     ]
    }
   ],
   "source": [
    "# 별 찍기\n",
    "\n",
    "# 출력해야 하는 결과는 총 5행 -> 반복 5회 -> 0부터 5전까지\n",
    "# 각 행마다 출력해야 하는 별은 1씩 증가\n",
    "for i in range(0, 5):\n",
    "    star = \"\"\n",
    "    \n",
    "    for j in range(0, i+1):\n",
    "        star += \"*\"\n",
    "        \n",
    "    print(star)"
   ]
  },
  {
   "cell_type": "code",
   "execution_count": 4,
   "id": "f12f2fae-5283-4067-96df-4d7a0b192ac9",
   "metadata": {},
   "outputs": [
    {
     "name": "stdout",
     "output_type": "stream",
     "text": [
      "[5, 3, 7, 1, 9]\n",
      "[9, 1, 7, 3, 5]\n"
     ]
    }
   ],
   "source": [
    "# 리스트 역순 배치\n",
    "\n",
    "# 원본 리스트\n",
    "mylist = [5, 3, 7, 1, 9]\n",
    "print(mylist)\n",
    "\n",
    "# 리스트의 길이 --> 5\n",
    "size = len(mylist)\n",
    "\n",
    "# 리스트의 길이를 2로 나눈 정수 부분의 몫 --> 2\n",
    "# 리스트의 길이가 홀수인 경우 가운데 원소는 위치 변경이 필요 없으므로\n",
    "# 나눗셈의 나머지를 버리고 정수부분의 몫만 취한다\n",
    "half = size // 2\n",
    "\n",
    "# 리스트의 반 만큼만 반복 수행 --> 0부터 2전까지\n",
    "for i in range(0, half):\n",
    "    # i 번째 항목의 반대쪽에 위치한 원소의 인덱스를 구한다\n",
    "    p = size - i -1\n",
    "    \n",
    "    # i번째 원소와 p번째 원소의 값을 맞바꾼다\n",
    "    mylist[i], mylist[p] = mylist[p], mylist[i]\n",
    "    \n",
    "# 결과출력\n",
    "print(mylist)"
   ]
  },
  {
   "cell_type": "code",
   "execution_count": 5,
   "id": "9447fd33-2f61-40aa-b49b-b55378d2b727",
   "metadata": {},
   "outputs": [
    {
     "name": "stdout",
     "output_type": "stream",
     "text": [
      "[5, 3, 7, 1, 9]\n",
      "[9, 1, 7, 3, 5]\n"
     ]
    }
   ],
   "source": [
    "mylist = [5, 3, 7, 1, 9]\n",
    "print(mylist)\n",
    "\n",
    "size = len(mylist)\n",
    "\n",
    "half = size // 2\n",
    "\n",
    "for i in range(0, half):\n",
    "    p = size - i -1\n",
    "    mylist[i], mylist[p] = mylist[p], mylist[i]\n",
    "print(mylist)"
   ]
  },
  {
   "cell_type": "code",
   "execution_count": 6,
   "id": "e7030ae0-3fe3-4f2f-8477-3695d9aa2faf",
   "metadata": {},
   "outputs": [
    {
     "name": "stdout",
     "output_type": "stream",
     "text": [
      "[5, 3, 7, 1, 9]\n",
      "[1, 3, 5, 7, 9]\n"
     ]
    }
   ],
   "source": [
    "# 리스트의 정렬 구현\n",
    "\n",
    "# 원본 리스트\n",
    "mylist=[5, 3, 7, 1, 9]\n",
    "print(mylist)\n",
    "\n",
    "# 리스트의 길이\n",
    "size = len(mylist)\n",
    "\n",
    "# 처음부터 뒤에서 두 번째것 까지만 반복\n",
    "for i in range(0, size-1):\n",
    "    # i번째 다음부터 끝까지 반복\n",
    "    for j in range(i+1, size):\n",
    "        # i번째가 j번째보다 값이 크다면\n",
    "        if mylist[i] > mylist[j]:\n",
    "            # 두 원소를 맞바꿈\n",
    "            mylist[i], mylist[j] = mylist[j], mylist[i]\n",
    "            \n",
    "# 결과 출력\n",
    "print(mylist)"
   ]
  },
  {
   "cell_type": "code",
   "execution_count": null,
   "id": "b569be4b-056c-46b2-9521-be24b64893f0",
   "metadata": {},
   "outputs": [],
   "source": []
  }
 ],
 "metadata": {
  "kernelspec": {
   "display_name": "Python 3 (ipykernel)",
   "language": "python",
   "name": "python3"
  },
  "language_info": {
   "codemirror_mode": {
    "name": "ipython",
    "version": 3
   },
   "file_extension": ".py",
   "mimetype": "text/x-python",
   "name": "python",
   "nbconvert_exporter": "python",
   "pygments_lexer": "ipython3",
   "version": "3.9.7"
  }
 },
 "nbformat": 4,
 "nbformat_minor": 5
}
