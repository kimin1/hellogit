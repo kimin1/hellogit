{
 "cells": [
  {
   "cell_type": "code",
   "execution_count": 1,
   "id": "552b2699-7479-43a0-9719-03668dc11f10",
   "metadata": {},
   "outputs": [],
   "source": [
    "# 메일발송 자동화\n",
    "\n",
    "# -> 경로 정보를 취득하기 위한 모듈\n",
    "import os.path\n",
    "# -> 발송서버와 연동하기 위한 모듈\n",
    "from smtplib import SMTP\n",
    "# -> 본문 구성 기능\n",
    "from email.mime.text import MIMEText\n",
    "# -> 파일을 Multipart 형식으로 변환\n",
    "from email.mime.application import MIMEApplication\n",
    "# -> 파일을 본문에 추가하는 기능 제공\n",
    "from email.mime.multipart import MIMEMultipart"
   ]
  },
  {
   "cell_type": "code",
   "execution_count": 2,
   "id": "5b16aff6-389a-430b-9e1c-b48b5fe39a7d",
   "metadata": {},
   "outputs": [],
   "source": [
    "# 발송에 필요한 정보 설정하기\n",
    "\n",
    "content_type = \"html\"             # 컨텐츠 형식 (text or html)\n",
    "username = 'k7132474@gmail.com'   # 구글 메일 주소\n",
    "password = 'krav qsuj oseh vgqz'        # 구글 비밀번호\n",
    "smtp = 'smtp.gmail.com'           # 구글 발송 서버 주소 (고정값)\n",
    "port = 587                        # 구글 발송 서버 포트 (고정값)\n",
    "from_addr = 'k7132474@gmail.com'  # 보내는 사람 주소\n",
    "to_addr = 'k7132474@naver.com'    # 받는 사람 주소\n",
    "subject = '김인솔_파이썬 이메일 보내기 테스트입니다.'          # 메일제목"
   ]
  },
  {
   "cell_type": "code",
   "execution_count": 3,
   "id": "b46c44ca-9075-4d8c-9c68-db73c4e368ad",
   "metadata": {},
   "outputs": [],
   "source": [
    "# 첨부파일 목록 설정\n",
    "\n",
    "# 첨부파일이 필요 없는 경우\n",
    "#files = []\n",
    "\n",
    "# 첨부파일이 필요한 경우 ( 파일이 실제로 존재해야 함)\n",
    "files = [\"mail/hello.txt\", \"mail/world.txt\"]"
   ]
  },
  {
   "cell_type": "code",
   "execution_count": 4,
   "id": "3de1abcd-cf87-4ac4-b99b-d1f145c6e287",
   "metadata": {},
   "outputs": [],
   "source": [
    "# 메일 본문 설정 -> HTML코드 형식\n",
    "\n",
    "content = \"\"\"<html>\n",
    "  <head></head>\n",
    "  <body>\n",
    "    <h1>안녕하세요 김인솔입니다.</h1>\n",
    "    <h2>저는 재밌게 수업 듣고 있어요.</h2></br>\n",
    "    <h2>강의시간에는 내용이 잘 이해 되는 데</h2></br>\n",
    "    <h2>응용문제를 풀 때에 많이 헷갈리는 걸 보니</h2></br>\n",
    "    <h2>다른 친구들 보다 복습시간이 부족한 가 봅니다.</h2></br>\n",
    "    <h2>부족한 시간 틈틈히 내서라도 열심히 복습하며</h2></br>\n",
    "    <h2>수업 따라가겠습니다.</h2></br>\n",
    "    <h2>월요일에 좋은 소식이 있었으면 좋겠어요 </h2></br>\n",
    "    <h2>일주일만 휴강하기를 희망해봅니다^^*</h2></br>\n",
    "    <h2>감사합니다.</h2></br>\n",
    "    \n",
    "   </body>\n",
    "</html>\"\"\""
   ]
  },
  {
   "cell_type": "code",
   "execution_count": 5,
   "id": "adad4d2a-4ed7-4930-8497-c7490afd7002",
   "metadata": {},
   "outputs": [],
   "source": [
    "# 발송정보 구성\n",
    "\n",
    "# 메일 발송 정보를 저장하기 위한 객체\n",
    "msg = MIMEMultipart()\n",
    "\n",
    "msg['Subject'] = subject     # 메일 제목\n",
    "msg['From'] = from_addr     # 보내는 사람\n",
    "msg['To'] = to_addr     # 받는사람\n",
    "\n",
    "# 본문 설정 -> 메일의 내용과 형식 지정\n",
    "msg.attach(MIMEText(content, content_type))"
   ]
  },
  {
   "cell_type": "code",
   "execution_count": 6,
   "id": "6eefb972-bd0d-4d0a-a67f-d1b9d3123299",
   "metadata": {},
   "outputs": [],
   "source": [
    "# 메일 객체에 첨부파일 추가하기\n",
    "\n",
    "# 리스트 변수의 원소가 하나라도 존재할 경우 True\n",
    "if files:\n",
    "    for f in files:\n",
    "        # 바이너리(b) 형식으로 읽기(r)\n",
    "        with open(f, 'rb') as a_file:\n",
    "            # 전체 경로에서 파일의 이름만 추출\n",
    "            basename = os.path.basename(f)\n",
    "            # 파일의 내용과 파일이름을 메일에 첨부할 형식으로 변환\n",
    "            part = MIMEApplication(a_file.read(), Name=basename)\n",
    "            \n",
    "            # 파일첨부\n",
    "            part['Content-Disposition'] = 'attaxhment; filename=\"%s\"' % basename\n",
    "            msg.attach(part)"
   ]
  },
  {
   "cell_type": "code",
   "execution_count": 7,
   "id": "77490012-7fd9-4aa6-ad6c-d49c681878cd",
   "metadata": {},
   "outputs": [
    {
     "data": {
      "text/plain": [
       "(221, b'2.0.0 closing connection s17sm13627162pge.50 - gsmtp')"
      ]
     },
     "execution_count": 7,
     "metadata": {},
     "output_type": "execute_result"
    }
   ],
   "source": [
    "mail = SMTP(smtp)\n",
    "# 메일 서버 접속\n",
    "mail.ehlo()\n",
    "# 메일 서버 연동 설정\n",
    "mail.starttls()\n",
    "# 메일 서버 로그인\n",
    "mail.login(username, password)\n",
    "# 메일 보내기\n",
    "mail.sendmail(from_addr, to_addr, msg.as_string())\n",
    "# 메일 서버 접속 종료\n",
    "mail.quit()"
   ]
  },
  {
   "cell_type": "code",
   "execution_count": null,
   "id": "09bf512f-dffa-48b5-aa1b-1b8e52a2eda7",
   "metadata": {},
   "outputs": [],
   "source": []
  },
  {
   "cell_type": "code",
   "execution_count": null,
   "id": "4b9387e6-117d-4fc5-bb7b-3725947c6a5e",
   "metadata": {},
   "outputs": [],
   "source": []
  }
 ],
 "metadata": {
  "kernelspec": {
   "display_name": "Python 3 (ipykernel)",
   "language": "python",
   "name": "python3"
  },
  "language_info": {
   "codemirror_mode": {
    "name": "ipython",
    "version": 3
   },
   "file_extension": ".py",
   "mimetype": "text/x-python",
   "name": "python",
   "nbconvert_exporter": "python",
   "pygments_lexer": "ipython3",
   "version": "3.9.7"
  }
 },
 "nbformat": 4,
 "nbformat_minor": 5
}
