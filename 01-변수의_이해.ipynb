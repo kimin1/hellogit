{
 "cells": [
  {
   "cell_type": "code",
   "execution_count": 1,
   "id": "618209c0-9603-4682-ad4e-2677aa568aa0",
   "metadata": {},
   "outputs": [],
   "source": [
    "# 변수의 이해\n",
    "\n",
    "## 다양한 숫자형 변수의 정의"
   ]
  },
  {
   "cell_type": "code",
   "execution_count": 2,
   "id": "5b32c3a7-02a3-48ae-b46b-f34f5b22448d",
   "metadata": {},
   "outputs": [
    {
     "name": "stdout",
     "output_type": "stream",
     "text": [
      "123\n",
      "-456\n"
     ]
    }
   ],
   "source": [
    "# 변수 만들기 ( 오른쪽에서 왼쪽으로 대입 -> 할당)\n",
    "# -> 이름 = 값\n",
    "a= 123\n",
    "b= -456\n",
    "print(a)\n",
    "print(b)"
   ]
  },
  {
   "cell_type": "code",
   "execution_count": 12,
   "id": "9c81fd26-7b10-4e69-a999-70890973e35e",
   "metadata": {},
   "outputs": [],
   "source": [
    "# 다양한 숫자형 변수의 정의"
   ]
  },
  {
   "cell_type": "code",
   "execution_count": 13,
   "id": "745560ff-48bc-4c7b-a859-fb305058c932",
   "metadata": {},
   "outputs": [
    {
     "name": "stdout",
     "output_type": "stream",
     "text": [
      "10000\n"
     ]
    }
   ],
   "source": [
    "# 한 번 할당된 변수는 다른 값으로 변경 가능\n",
    "a= 10000\n",
    "print(a)"
   ]
  },
  {
   "cell_type": "code",
   "execution_count": 14,
   "id": "7ab167bb-3b42-4f5c-9a87-d460af6bfa0e",
   "metadata": {},
   "outputs": [
    {
     "name": "stdout",
     "output_type": "stream",
     "text": [
      "1.2\n",
      "-3.45\n"
     ]
    }
   ],
   "source": [
    "# 실수형 변수 만들기\n",
    "c = 1.2\n",
    "d = -3.45\n",
    "print(c)\n",
    "print(d)"
   ]
  },
  {
   "cell_type": "code",
   "execution_count": 15,
   "id": "7708a3d4-00e0-43c0-a0e8-3933e793c080",
   "metadata": {},
   "outputs": [
    {
     "name": "stdout",
     "output_type": "stream",
     "text": [
      "42400000000.0\n",
      "4.24e-10\n"
     ]
    }
   ],
   "source": [
    "# 지수형태(알파벳e 혹은 E사용)\n",
    "e= 4.24e10  # 4.24 * (10의 10제곱)\n",
    "f= 4.24e-10 # 4.24 * (10의 -10제곱)\n",
    "print(e)\n",
    "print(f)"
   ]
  },
  {
   "cell_type": "code",
   "execution_count": 22,
   "id": "47e11e24-bf71-4d83-9977-208383963d22",
   "metadata": {},
   "outputs": [
    {
     "name": "stdout",
     "output_type": "stream",
     "text": [
      "127\n"
     ]
    }
   ],
   "source": [
    "# 8진수 표현 (숫자0 + 알파벳o + 숫자값) -> 출력시에는 10진수\n",
    "g = 0o177\n",
    "print(g)"
   ]
  },
  {
   "cell_type": "code",
   "execution_count": 23,
   "id": "b98f5e4b-f5d0-45aa-91f2-40a314bd1758",
   "metadata": {},
   "outputs": [
    {
     "name": "stdout",
     "output_type": "stream",
     "text": [
      "2748\n"
     ]
    }
   ],
   "source": [
    "# 16진수 표현 (숫자0 + 알파벳x + 숫자값) -> 출력시에는 10진수\n",
    "h = 0xABC\n",
    "print(h)"
   ]
  },
  {
   "cell_type": "code",
   "execution_count": 18,
   "id": "148106ef-0106-4a24-953e-ba5a53579406",
   "metadata": {},
   "outputs": [
    {
     "name": "stdout",
     "output_type": "stream",
     "text": [
      "(1+2j)\n"
     ]
    }
   ],
   "source": [
    "# 복소수 (알파벳 j 사용)\n",
    "i = 1+2j\n",
    "print(i)"
   ]
  },
  {
   "cell_type": "code",
   "execution_count": 19,
   "id": "d1ef32ac-ef45-428d-bac5-0fc69f7fa354",
   "metadata": {},
   "outputs": [
    {
     "name": "stdout",
     "output_type": "stream",
     "text": [
      "1.0\n"
     ]
    }
   ],
   "source": [
    "# 복소수의 실수 부분 조회 -> 객체 i에 포함되는 하위 변수에 접근\n",
    "print(i.real)"
   ]
  },
  {
   "cell_type": "code",
   "execution_count": 20,
   "id": "61e9bfbb-05e4-4015-bbb6-255e7f91bc37",
   "metadata": {},
   "outputs": [
    {
     "name": "stdout",
     "output_type": "stream",
     "text": [
      "2.0\n"
     ]
    }
   ],
   "source": [
    "# 복소수의 허수 부분 조회 -> 객체 i에 포함되는 하위 변수에 접근\n",
    "print(i.imag)"
   ]
  },
  {
   "cell_type": "code",
   "execution_count": 21,
   "id": "2e9a34e6-7fc6-4a45-bf43-68ea43c4c934",
   "metadata": {},
   "outputs": [
    {
     "name": "stdout",
     "output_type": "stream",
     "text": [
      "(1-2j)\n"
     ]
    }
   ],
   "source": [
    "# 복소수의 켤레복소수 -> 객체 i에 포함되는 하위 변수에 접근\n",
    "print(i.conjugate())"
   ]
  },
  {
   "cell_type": "code",
   "execution_count": 25,
   "id": "34fb84f6-1aa1-4143-bd42-4c7f989aa322",
   "metadata": {},
   "outputs": [
    {
     "name": "stdout",
     "output_type": "stream",
     "text": [
      "True\n"
     ]
    }
   ],
   "source": [
    "#논리형 변수와 논리값의 부정\n",
    "#논리형 변수는 참(True)/거짓(False) 중 하나의 값을 저장할 수 있다\n",
    "a = True   # 참을 의미하는 키워드 True를 a에 할당\n",
    "print(a)"
   ]
  },
  {
   "cell_type": "code",
   "execution_count": 27,
   "id": "20c53fdc-c118-4c29-b6d3-f44946eb64f2",
   "metadata": {},
   "outputs": [
    {
     "name": "stdout",
     "output_type": "stream",
     "text": [
      "False\n"
     ]
    }
   ],
   "source": [
    "b = False  # 거짓을 의미하는 키워드 False를 b에 할당\n",
    "print(b)"
   ]
  },
  {
   "cell_type": "code",
   "execution_count": 28,
   "id": "7e607340-e573-46df-b8c0-3e0572a1b98f",
   "metadata": {},
   "outputs": [
    {
     "name": "stdout",
     "output_type": "stream",
     "text": [
      "False\n"
     ]
    }
   ],
   "source": [
    "c = not a  # \"not\" 키워드는 부정을 의미한다. 참의 부정은 거짓\n",
    "print(c)"
   ]
  },
  {
   "cell_type": "code",
   "execution_count": 29,
   "id": "a95fe4bb-074a-4727-84aa-161496460f9a",
   "metadata": {},
   "outputs": [
    {
     "name": "stdout",
     "output_type": "stream",
     "text": [
      "True\n"
     ]
    }
   ],
   "source": [
    "d = not b  # 거짓의 부정은 참\n",
    "print(d)"
   ]
  },
  {
   "cell_type": "code",
   "execution_count": null,
   "id": "bb38f48c-7db0-4923-8b5e-c6718a75af3a",
   "metadata": {},
   "outputs": [],
   "source": []
  }
 ],
 "metadata": {
  "kernelspec": {
   "display_name": "Python 3 (ipykernel)",
   "language": "python",
   "name": "python3"
  },
  "language_info": {
   "codemirror_mode": {
    "name": "ipython",
    "version": 3
   },
   "file_extension": ".py",
   "mimetype": "text/x-python",
   "name": "python",
   "nbconvert_exporter": "python",
   "pygments_lexer": "ipython3",
   "version": "3.9.7"
  }
 },
 "nbformat": 4,
 "nbformat_minor": 5
}
