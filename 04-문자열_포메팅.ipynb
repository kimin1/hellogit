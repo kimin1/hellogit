{
 "cells": [
  {
   "cell_type": "code",
   "execution_count": 15,
   "id": "a06f0bc9-4102-4e9b-9fef-fbeba5ba31f5",
   "metadata": {},
   "outputs": [
    {
     "name": "stdout",
     "output_type": "stream",
     "text": [
      "나는 10000원을 갖고 있다.\n"
     ]
    }
   ],
   "source": [
    "# 문자열 포메팅\n",
    "# 정수값과 문자열을 표현하는 형식문자 %d, %s 사용하기\n",
    "\n",
    "# \"%\"연산자 뒤의 값이 \"%d를 치환한다\"\n",
    "str1 = \"나는 %d원을 갖고 있다.\" % 10000\n",
    "print(str1)"
   ]
  },
  {
   "cell_type": "code",
   "execution_count": 16,
   "id": "d31ceca6-a63b-4f92-ac96-ef72bd785756",
   "metadata": {},
   "outputs": [
    {
     "name": "stdout",
     "output_type": "stream",
     "text": [
      "정모 날짜는 2018년 1월 1일 입니다.\n",
      "약속 날짜는 2018년 3월 5일 입니다.\n"
     ]
    }
   ],
   "source": [
    "# 포멧문자를 포함한 문장만 별도의 변수로 지정\n",
    "str2 = \"%s 날짜는 %d년 %d월 %d일 입니다.\"\n",
    "\n",
    "# 여러 포멧문자를 치환할 경우 값들을 괄호로 묶는다.\n",
    "msg1 = str2 % (\"정모\", 2018, 1, 1)\n",
    "print(msg1)\n",
    "\n",
    "msg2 = str2 % (\"약속\", 2018, 3, 5)\n",
    "print(msg2)"
   ]
  },
  {
   "cell_type": "code",
   "execution_count": 17,
   "id": "37a4d488-786f-4015-91f8-f398afc80bec",
   "metadata": {},
   "outputs": [
    {
     "name": "stdout",
     "output_type": "stream",
     "text": [
      "    120000원을 입금했습니다.\n"
     ]
    }
   ],
   "source": [
    "# 자리수 지정하기 -> 오른쪽 정렬, 빈자리는 공백으로 지정\n",
    "print(\"%10d원을 입금했습니다.\" % 120000)"
   ]
  },
  {
   "cell_type": "code",
   "execution_count": 18,
   "id": "4acf5e29-0cb2-4ffa-aa00-9d4a968db46d",
   "metadata": {},
   "outputs": [
    {
     "name": "stdout",
     "output_type": "stream",
     "text": [
      "0000120000원을 입금했습니다.\n"
     ]
    }
   ],
   "source": [
    "# 자리수 지정하기 -> 오른쪽 정렬, 빈자리는 0으로 지정\n",
    "print(\"%010d원을 입금했습니다.\" % 120000)"
   ]
  },
  {
   "cell_type": "code",
   "execution_count": 19,
   "id": "6d2d75bf-0065-4893-a395-0dd203a00ece",
   "metadata": {},
   "outputs": [
    {
     "name": "stdout",
     "output_type": "stream",
     "text": [
      "120000    원을 입금했습니다.\n"
     ]
    }
   ],
   "source": [
    "# 자리수 지정하기 -> 왼쪽 정렬, 빈자리는 공백으로 지정 (0불가)\n",
    "print(\"%-10d원을 입금했습니다.\" % 120000)"
   ]
  },
  {
   "cell_type": "code",
   "execution_count": 20,
   "id": "50a73ef3-a2df-447f-b7eb-c81dfd77b7af",
   "metadata": {},
   "outputs": [
    {
     "name": "stdout",
     "output_type": "stream",
     "text": [
      "      대한민국에 살고 있습니다.\n",
      "대한민국      에 살고 있습니다.\n"
     ]
    }
   ],
   "source": [
    "# 문자열의 자리수 지정하기 -> 빈자리는 공백지정만 가능함.\n",
    "print(\"%10s에 살고 있습니다.\" % \"대한민국\") \n",
    "print(\"%-10s에 살고 있습니다.\" % \"대한민국\")"
   ]
  },
  {
   "cell_type": "code",
   "execution_count": 21,
   "id": "8b031363-9304-4ab1-b2d4-f4ee77583966",
   "metadata": {},
   "outputs": [
    {
     "name": "stdout",
     "output_type": "stream",
     "text": [
      "123.456789원 입니다.\n"
     ]
    }
   ],
   "source": [
    "# 실수값 표현하기\n",
    "money = 123.456789\n",
    "print(\"%f원 입니다.\" % money)"
   ]
  },
  {
   "cell_type": "code",
   "execution_count": 22,
   "id": "44d9edcc-89b7-4062-a2f4-80abb109f45b",
   "metadata": {},
   "outputs": [
    {
     "name": "stdout",
     "output_type": "stream",
     "text": [
      "123.457원 입니다.\n"
     ]
    }
   ],
   "source": [
    "# 소수점 3자리까지 표현하기 -> 소수점 4째자리에서 반올림.\n",
    "print(\"%0.3f원 입니다.\" % money)"
   ]
  },
  {
   "cell_type": "code",
   "execution_count": 23,
   "id": "9a9e9758-acf0-403b-86d0-47a65ed8a6ae",
   "metadata": {},
   "outputs": [
    {
     "name": "stdout",
     "output_type": "stream",
     "text": [
      "   123.457원 입니다.\n",
      "123.457   원 입니다.\n"
     ]
    }
   ],
   "source": [
    "# 소수점 3자리까지 표현하되 전체 글자수는 10글자 (빈자리 공백)\n",
    "# 소수점이 자리수에 포함됨\n",
    "# -> 오른쪽 정렬\n",
    "print(\"%10.3f원 입니다.\" % money)\n",
    "# -> 왼쪽 정렬\n",
    "print(\"%-10.3f원 입니다.\" % money)"
   ]
  },
  {
   "cell_type": "code",
   "execution_count": 24,
   "id": "32226206-5c13-455a-99cb-461381ca5f43",
   "metadata": {},
   "outputs": [
    {
     "name": "stdout",
     "output_type": "stream",
     "text": [
      "000123.457원 입니다.\n"
     ]
    }
   ],
   "source": [
    "# 소수점 3자리까지 표현하되 전체 글자수는 10글자 (빈자리 0)\n",
    "# -> 빈 자리를 0으로 채우는 경우는 오른쪽 정렬만 가능함.\n",
    "print(\"%010.3f원 입니다.\" % money)"
   ]
  },
  {
   "cell_type": "code",
   "execution_count": 25,
   "id": "0daea75d-30a5-4b8d-82a7-928956a1b2e1",
   "metadata": {},
   "outputs": [
    {
     "name": "stdout",
     "output_type": "stream",
     "text": [
      "I eat 3 apples\n"
     ]
    }
   ],
   "source": [
    "# 문자열 포메팅\n",
    "# 인덱스 번호를 사용한 포메팅\n",
    "\n",
    "# 0번째 위치에 format()함수에 전달된 0번째 값을 대입\n",
    "msg1 = \"I eat {0} apples\"\n",
    "print( msg1.format(3))"
   ]
  },
  {
   "cell_type": "code",
   "execution_count": 26,
   "id": "499ba9b9-127c-4f80-9d4f-8fb21c4d7ca4",
   "metadata": {},
   "outputs": [
    {
     "name": "stdout",
     "output_type": "stream",
     "text": [
      "개강일은 2018년 8월 12일 입니다.\n"
     ]
    }
   ],
   "source": [
    "# 여러 개의 값을 혼용하기\n",
    "msg2 = \"{0}은 {1}년 {2}월 {3}일 입니다.\"\n",
    "print( msg2.format(\"개강일\", 2018, 8, 12))"
   ]
  },
  {
   "cell_type": "code",
   "execution_count": 27,
   "id": "3efa359a-cd2e-4e36-818d-f1ad256e2858",
   "metadata": {},
   "outputs": [
    {
     "name": "stdout",
     "output_type": "stream",
     "text": [
      "종강일은 2021년 10월 20일 입니다.\n"
     ]
    }
   ],
   "source": [
    "# 이름으로 넣기\n",
    "msg3 = \"{name}은 {yy}년 {mm}월 {dd}일 입니다.\"\n",
    "print(msg3.format(name='종강일', yy=2021, mm=10, dd=20))"
   ]
  },
  {
   "cell_type": "code",
   "execution_count": 28,
   "id": "6e8e167a-a8a8-413a-80a9-86d6e3659d8e",
   "metadata": {},
   "outputs": [
    {
     "name": "stdout",
     "output_type": "stream",
     "text": [
      "생일은 2021년 1월 31일 입니다.\n"
     ]
    }
   ],
   "source": [
    "# 혼합사용 -> 숫자형식의 치환자가 먼저 위치해야 한다.\n",
    "msg4 = \"{0}은 {yy}년 {mm}월 {dd}일 입니다.\"\n",
    "print( msg4.format(\"생일\", yy=2021, mm=1, dd=31))"
   ]
  },
  {
   "cell_type": "code",
   "execution_count": 29,
   "id": "e335fa1c-681b-4062-934d-c90300be024d",
   "metadata": {},
   "outputs": [
    {
     "name": "stdout",
     "output_type": "stream",
     "text": [
      "   Hi!!Python,   Welcome~Python\n"
     ]
    }
   ],
   "source": [
    "# 출력값 정렬하기\n",
    "# 5글자 오른쪽 정렬 -> \"%5s\"와 동일\n",
    "msg5 = \"{0:>5}!!Python, {1:>9}~Python\"\n",
    "print( msg5.format(\"Hi\", \"Welcome\"))"
   ]
  },
  {
   "cell_type": "code",
   "execution_count": 37,
   "id": "0b08f1ab-dc03-4da3-8179-7043baa302b2",
   "metadata": {},
   "outputs": [
    {
     "name": "stdout",
     "output_type": "stream",
     "text": [
      "Hi   !!Python, Welcome  ~Python\n"
     ]
    }
   ],
   "source": [
    "# 5글자 왼쪽 정렬 -> \"%-5s\"와 동일\n",
    "msg6 = \"{0:<5}!!Python, {1:<9}~Python\"\n",
    "print( msg6.format(\"Hi\", \"Welcome\"))"
   ]
  },
  {
   "cell_type": "code",
   "execution_count": 31,
   "id": "9efc880d-8994-4e56-a3fd-3a078ef27e91",
   "metadata": {},
   "outputs": [
    {
     "name": "stdout",
     "output_type": "stream",
     "text": [
      "    Hi    !!Python,   Hello  ~python\n"
     ]
    }
   ],
   "source": [
    "# 가운데 정렬\n",
    "msg7 = \"{0:^10}!!Python, {1:^9}~python\"\n",
    "print( msg7.format(\"Hi\", \"Hello\"))"
   ]
  },
  {
   "cell_type": "code",
   "execution_count": 38,
   "id": "b5961b0a-9030-49f5-b6f3-f6eccf71c741",
   "metadata": {},
   "outputs": [
    {
     "name": "stdout",
     "output_type": "stream",
     "text": [
      "Hi~~~!!Python!! **hello**!!Python\n"
     ]
    }
   ],
   "source": [
    "msg8 = \"{0:~<5}!!Python!! {1:*^9}!!Python\"\n",
    "print( msg8.format(\"Hi\",\"hello\"))"
   ]
  },
  {
   "cell_type": "code",
   "execution_count": 33,
   "id": "bbb4515b-7f55-42fc-8b8b-576b64ddf93c",
   "metadata": {},
   "outputs": [
    {
     "name": "stdout",
     "output_type": "stream",
     "text": [
      "{python}은 쉽다\n",
      "{python}은 좋다\n"
     ]
    }
   ],
   "source": [
    "# 중괄호 출력하기\n",
    "# 문자열에 \"{\"나 \"}\"포함시키기 --> 두겹으로 사용\n",
    "\n",
    "msg12 = \"{{python}}은 {0}다\"\n",
    "print(msg12.format(\"쉽\"))\n",
    "print(msg12.format(\"좋\"))"
   ]
  },
  {
   "cell_type": "code",
   "execution_count": 34,
   "id": "b42b2311-71b2-4958-98e8-d28518b4b799",
   "metadata": {},
   "outputs": [
    {
     "name": "stdout",
     "output_type": "stream",
     "text": [
      "00123.4568\n"
     ]
    }
   ],
   "source": [
    "# 소수점 표현하기\n",
    "# 소수점 4째자리까지 표현하기 -> 5째자리에서 반올림\n",
    "msg11 = \"{0:010.4f}\"\n",
    "print( msg11.format(123.456789))"
   ]
  },
  {
   "cell_type": "code",
   "execution_count": 35,
   "id": "a42b07ed-5f7e-4bae-864a-737fb0087f2b",
   "metadata": {},
   "outputs": [
    {
     "name": "stdout",
     "output_type": "stream",
     "text": [
      "123.4568\n"
     ]
    }
   ],
   "source": [
    "# 소수점 4째자리까지 표현하기 -> 5째자리에서 반올림\n",
    "msg9 = \"{0:0.4f}\"\n",
    "print( msg9.format(123.456789))"
   ]
  },
  {
   "cell_type": "code",
   "execution_count": 36,
   "id": "12eab104-73cf-43b4-8291-cbaab0bc9b91",
   "metadata": {},
   "outputs": [
    {
     "name": "stdout",
     "output_type": "stream",
     "text": [
      "  123.4568\n"
     ]
    }
   ],
   "source": [
    "# 전체 10글자, 소수점 4째자리까지 표현하기 -> 5째자리에서 반올림\n",
    "msg10 = \"{0:10.4f}\"\n",
    "print( msg10.format(123.456789))"
   ]
  },
  {
   "cell_type": "code",
   "execution_count": null,
   "id": "a056f3e5-75c4-4008-ad9a-5b994f5ba9a8",
   "metadata": {},
   "outputs": [],
   "source": []
  }
 ],
 "metadata": {
  "kernelspec": {
   "display_name": "Python 3 (ipykernel)",
   "language": "python",
   "name": "python3"
  },
  "language_info": {
   "codemirror_mode": {
    "name": "ipython",
    "version": 3
   },
   "file_extension": ".py",
   "mimetype": "text/x-python",
   "name": "python",
   "nbconvert_exporter": "python",
   "pygments_lexer": "ipython3",
   "version": "3.9.7"
  }
 },
 "nbformat": 4,
 "nbformat_minor": 5
}
