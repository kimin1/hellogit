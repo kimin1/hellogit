{
 "cells": [
  {
   "cell_type": "code",
   "execution_count": 1,
   "id": "0d1b12cc-d270-4151-b305-e2bcbd1f2c40",
   "metadata": {},
   "outputs": [],
   "source": [
    "# 날짜 처리 모듈 참조\n",
    "\n",
    "# 날짜 처리 모듈(datetime)에 dt라는 별칭 적용\n",
    "import datetime as dt"
   ]
  },
  {
   "cell_type": "code",
   "execution_count": 2,
   "id": "372565b3-0b58-4276-a2ff-b5f9ddd0ef30",
   "metadata": {},
   "outputs": [
    {
     "name": "stdout",
     "output_type": "stream",
     "text": [
      "2021-10-13 13:28:12.062679\n"
     ]
    }
   ],
   "source": [
    "# 현재 시각을 갖는 객체 가져오기\n",
    "now_time = dt.datetime.now()\n",
    "print(now_time)"
   ]
  },
  {
   "cell_type": "code",
   "execution_count": 5,
   "id": "17a27d23-4c1d-456d-8748-4d117964360c",
   "metadata": {},
   "outputs": [
    {
     "name": "stdout",
     "output_type": "stream",
     "text": [
      "오늘은 2021년 10월 13일 입니다.\n"
     ]
    }
   ],
   "source": [
    "# 현재시각 객체에서 원하는 값만 추출하기\n",
    "msg = \"오늘은 %d년 %d월 %d일 입니다.\"\n",
    "print(msg % (now_time.year, now_time.month, now_time.day))"
   ]
  },
  {
   "cell_type": "code",
   "execution_count": 6,
   "id": "358b8c76-8f2a-4244-abaf-039bb2e2b47d",
   "metadata": {},
   "outputs": [
    {
     "name": "stdout",
     "output_type": "stream",
     "text": [
      "지금은 13시 28분 12초 입니다.\n"
     ]
    }
   ],
   "source": [
    "msg = \"지금은 %d시 %d분 %d초 입니다.\"\n",
    "print(msg % (now_time.hour, now_time.minute, now_time.second))"
   ]
  },
  {
   "cell_type": "code",
   "execution_count": 7,
   "id": "e739fbf8-0691-403b-a047-7260b2ba378b",
   "metadata": {},
   "outputs": [
    {
     "name": "stdout",
     "output_type": "stream",
     "text": [
      "2\n"
     ]
    }
   ],
   "source": [
    "# 현재시각 객체에서 요일 반환\n",
    "d = now_time.weekday()\n",
    "print(d)"
   ]
  },
  {
   "cell_type": "code",
   "execution_count": 8,
   "id": "6c6a7cdf-05db-468b-bf76-3421a9343d44",
   "metadata": {},
   "outputs": [
    {
     "name": "stdout",
     "output_type": "stream",
     "text": [
      "수\n"
     ]
    }
   ],
   "source": [
    "# 리턴된 요일 값을 튜플의 인덱스로 활용하여 요일이름 출력\n",
    "days = (\"월\", \"화\", \"수\", \"목\", \"금\", \"토\", \"일\")\n",
    "print(days[d])"
   ]
  },
  {
   "cell_type": "code",
   "execution_count": 10,
   "id": "68419f8e-288f-4a7a-a393-fe3b0c9c5057",
   "metadata": {},
   "outputs": [
    {
     "name": "stdout",
     "output_type": "stream",
     "text": [
      "21/10/13 13:28:12\n"
     ]
    }
   ],
   "source": [
    "# 날짜 출력 형식 만들기\n",
    "print(now_time.strftime(\"%y/%m/%d %H:%M:%S\"))"
   ]
  },
  {
   "cell_type": "code",
   "execution_count": 11,
   "id": "5ac02662-7d35-4217-819a-24ab5332fb79",
   "metadata": {},
   "outputs": [
    {
     "name": "stdout",
     "output_type": "stream",
     "text": [
      "18/08/30 13:26:55\n"
     ]
    }
   ],
   "source": [
    "# 현재 시각이 아닌 특정 시각을 저장하는 날짜객체 생성하기\n",
    "someday = dt.datetime(2018, 8, 30, 13, 26, 55)\n",
    "day_str = someday.strftime(\"%y/%m/%d %H:%M:%S\")\n",
    "print(day_str)"
   ]
  },
  {
   "cell_type": "code",
   "execution_count": 12,
   "id": "280dca12-eaa3-411e-8d69-1876b39d8ece",
   "metadata": {},
   "outputs": [
    {
     "name": "stdout",
     "output_type": "stream",
     "text": [
      "17/01/02 14:44:00\n"
     ]
    }
   ],
   "source": [
    "# 날짜 형식의 문자열을 날짜객체로 변환하기\n",
    "date_str = \"2017년 01월 02일 14시 44분\"\n",
    "# 문자열에 대한 날짜 형식을 지정하면 문자열에서 날짜 성분을 추출하여 객체를 생성한다\n",
    "oldday = dt.datetime.strptime(date_str, \"%Y년 %m월 %d일 %H시 %M분\")\n",
    "print(oldday.strftime(\"%y/%m/%d %H:%M:%S\"))"
   ]
  },
  {
   "cell_type": "code",
   "execution_count": 14,
   "id": "7b8bc87b-00c2-4775-b76e-720529c5ec1d",
   "metadata": {},
   "outputs": [
    {
     "name": "stdout",
     "output_type": "stream",
     "text": [
      "18/01/16 15:44:00\n"
     ]
    }
   ],
   "source": [
    "# 날짜객체에서 특정 값 변경하기\n",
    "change_date = oldday.replace(year=2018, day=16, hour=15)\n",
    "print(change_date.strftime(\"%y/%m/%d %H:%M:%S\"))"
   ]
  },
  {
   "cell_type": "code",
   "execution_count": 15,
   "id": "7f37d5c7-8ef7-4103-a6fe-4f496195302e",
   "metadata": {},
   "outputs": [
    {
     "name": "stdout",
     "output_type": "stream",
     "text": [
      "79 days, 10:17:15.543667\n"
     ]
    }
   ],
   "source": [
    "# 두 날짜 객체 사이의 간격 계산\n",
    "# 두 날짜 만들기\n",
    "# -> 오늘날짜\n",
    "dt1 = dt.datetime.now()\n",
    "# -> 내년 1월1일 자정\n",
    "dt2 = dt.datetime(dt1.year+1, 1, 1, 0, 0, 0)\n",
    "\n",
    "# 두 날짜의 차를 구한 결과는 timedelta 객체 형식이 된다\n",
    "# -> datetime 모듈에 정의되어 있는 객체형식임\n",
    "td = dt2 - dt1\n",
    "# -> ex) 25 days, 21:04:12.386733\n",
    "print(td)"
   ]
  },
  {
   "cell_type": "code",
   "execution_count": 16,
   "id": "3cf61ffd-72ea-4f3a-a05d-e5d3dba800e1",
   "metadata": {},
   "outputs": [
    {
     "name": "stdout",
     "output_type": "stream",
     "text": [
      "79\n",
      "37035\n",
      "올해는 79일 남았습니다. \n"
     ]
    }
   ],
   "source": [
    "# 날짜만 추출\n",
    "print(td.days)   # ex) 245일\n",
    "# 날짜를 제외하고 시간, 분, 초 단위를 모두 초로 합산한 값\n",
    "print(td.seconds) #ex) 9800초\n",
    "print(\"올해는 %d일 남았습니다. \" % td.days)"
   ]
  },
  {
   "cell_type": "code",
   "execution_count": 17,
   "id": "d234f79f-628a-418c-82b2-c7343216ee4c",
   "metadata": {},
   "outputs": [
    {
     "name": "stdout",
     "output_type": "stream",
     "text": [
      "6862635.543667\n"
     ]
    }
   ],
   "source": [
    "# 모든 속성을 초단위로 모아서 반환\n",
    "result = td.total_seconds()\n",
    "print(result)"
   ]
  },
  {
   "cell_type": "code",
   "execution_count": 20,
   "id": "c0466fc7-83d1-4736-9e1c-94568cebac7f",
   "metadata": {},
   "outputs": [
    {
     "name": "stdout",
     "output_type": "stream",
     "text": [
      "2022-01-21 14:48:03\n"
     ]
    }
   ],
   "source": [
    "# 100일하고 1시간 후의 날짜 계산하기\n",
    "\n",
    "# timedate 객체 만들기 ( 더하거나 뺄 값 ) -- > 100일 + 3600ch\n",
    "d = dt.timedelta(days=100, seconds=3600)\n",
    "\n",
    "# 특정시간(혹은 현재시각)에 timedate 객체를 더해 연산결과를 얻을 수 있다\n",
    "now_time = dt.datetime.now()\n",
    "\n",
    "# 연산 결과를 datatime 객체가 된다.\n",
    "after_time = now_time + d\n",
    "\n",
    "print(after_time.strftime(\"%Y-%m-%d %H:%M:%S\"))"
   ]
  },
  {
   "cell_type": "code",
   "execution_count": null,
   "id": "bbd8f5a4-cf61-4b84-bb6c-8a9574c01e32",
   "metadata": {},
   "outputs": [],
   "source": []
  }
 ],
 "metadata": {
  "kernelspec": {
   "display_name": "Python 3 (ipykernel)",
   "language": "python",
   "name": "python3"
  },
  "language_info": {
   "codemirror_mode": {
    "name": "ipython",
    "version": 3
   },
   "file_extension": ".py",
   "mimetype": "text/x-python",
   "name": "python",
   "nbconvert_exporter": "python",
   "pygments_lexer": "ipython3",
   "version": "3.9.7"
  }
 },
 "nbformat": 4,
 "nbformat_minor": 5
}
