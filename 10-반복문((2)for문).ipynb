{
 "cells": [
  {
   "cell_type": "code",
   "execution_count": 1,
   "id": "3b7aa4e6-72dd-4c6c-aee6-e693e07d238f",
   "metadata": {},
   "outputs": [
    {
     "name": "stdout",
     "output_type": "stream",
     "text": [
      "x=1\n",
      "x=2\n",
      "x=3\n",
      "x=4\n",
      "x=5\n",
      "x=6\n",
      "x=7\n",
      "x=8\n",
      "x=9\n",
      "x=10\n"
     ]
    }
   ],
   "source": [
    "# for문의 기본특성\n",
    "\n",
    "# x가 1부터 11전까지 1씩 증가하면서 반복수행\n",
    "for x in range(1, 11):\n",
    "    print(\"x=%d\" %x)     # 반복이 진행되는 동안 수행할 명령"
   ]
  },
  {
   "cell_type": "code",
   "execution_count": 2,
   "id": "99d21997-9eab-4bc0-8ee3-888c78af9d84",
   "metadata": {},
   "outputs": [
    {
     "name": "stdout",
     "output_type": "stream",
     "text": [
      "7 x 1 = 7\n",
      "7 x 2 = 14\n",
      "7 x 3 = 21\n",
      "7 x 4 = 28\n",
      "7 x 5 = 35\n",
      "7 x 6 = 42\n",
      "7 x 7 = 49\n",
      "7 x 8 = 56\n",
      "7 x 9 = 63\n"
     ]
    }
   ],
   "source": [
    "# 구구단 7단 출력하기\n",
    "\n",
    "# -> 1부터 10전까지 1씩 증가하는 값을 y에 설정\n",
    "for y in range(1,10):\n",
    "    # 반복이 진행되는 동안 수행할 명령\n",
    "    z = 7*y\n",
    "    print( \"7 x %d = %d\" %(y, z))"
   ]
  },
  {
   "cell_type": "code",
   "execution_count": 3,
   "id": "fe70a196-8304-4153-9b70-5e353ffcd163",
   "metadata": {},
   "outputs": [
    {
     "name": "stdout",
     "output_type": "stream",
     "text": [
      "x=1, sum=1\n",
      "x=2, sum=3\n",
      "x=3, sum=6\n",
      "x=4, sum=10\n",
      "x=5, sum=15\n",
      "x=6, sum=21\n",
      "x=7, sum=28\n",
      "x=8, sum=36\n",
      "x=9, sum=45\n",
      "x=10, sum=55\n"
     ]
    }
   ],
   "source": [
    "# 총 합 구하기\n",
    "\n",
    "# 1~10까지의 총 합을 구하기\n",
    "sum = 0                # 총 합을 누적해서 저장할 변수\n",
    "\n",
    "for x in range(1, 11): # x가 1부터 11전까지 1씩 증가하면서 반복수행\n",
    "    sum += x\n",
    "    print(\"x=%d, sum=%d\" %(x, sum))"
   ]
  },
  {
   "cell_type": "code",
   "execution_count": 4,
   "id": "39082097-6c7b-4776-9751-2fc10999eafa",
   "metadata": {},
   "outputs": [
    {
     "name": "stdout",
     "output_type": "stream",
     "text": [
      "a=0\n",
      "a=10\n",
      "a=20\n",
      "a=30\n",
      "a=40\n",
      "a=50\n",
      "a=60\n",
      "a=70\n",
      "a=80\n",
      "a=90\n"
     ]
    }
   ],
   "source": [
    "# 값의 변화 단계 조절하기\n",
    "\n",
    "# 0부터 100전(=99)까지 10씩 증가\n",
    "for a in range(0, 100, 10):\n",
    "    print(\"a=%d\" % a )"
   ]
  },
  {
   "cell_type": "code",
   "execution_count": 5,
   "id": "ca3254b8-5903-4836-853f-d04f8e7dd753",
   "metadata": {},
   "outputs": [
    {
     "name": "stdout",
     "output_type": "stream",
     "text": [
      "b=10\n",
      "b=8\n",
      "b=6\n",
      "b=4\n",
      "b=2\n"
     ]
    }
   ],
   "source": [
    "# 10부터 0전(=1)까지 2씩 감소\n",
    "for b in range(10, 0, -2):\n",
    "    print(\"b=%d\" % b)"
   ]
  },
  {
   "cell_type": "code",
   "execution_count": 7,
   "id": "98386315-b06a-4a2e-bc01-8d46d3ea579f",
   "metadata": {},
   "outputs": [
    {
     "name": "stdout",
     "output_type": "stream",
     "text": [
      "P\n",
      "y\n",
      "t\n",
      "h\n",
      "o\n",
      "n\n"
     ]
    }
   ],
   "source": [
    "# 문자열에 대한 반복 처리\n",
    "\n",
    "test_str = \"Python\"\n",
    "\n",
    "# -> 문자열의 각 글자를 순차적으로 i에 대입하면서 반복\n",
    "for i in test_str:\n",
    "    print(i)"
   ]
  },
  {
   "cell_type": "code",
   "execution_count": 9,
   "id": "ecb44123-b7e3-4ab5-8926-ab1212b51de4",
   "metadata": {},
   "outputs": [
    {
     "name": "stdout",
     "output_type": "stream",
     "text": [
      "python\n",
      "is\n",
      "good\n"
     ]
    }
   ],
   "source": [
    "# 리스트에 대한 반복\n",
    "\n",
    "test_list = ['python','is','good']\n",
    "\n",
    "# -> 리스트의 각 원소를 순차적으로 i에 대입하면서 반복\n",
    "# -> 단점: 몇 번째 원소인지는 알 수 없다.\n",
    "for i in test_list:\n",
    "    print(i)"
   ]
  },
  {
   "cell_type": "code",
   "execution_count": 10,
   "id": "b1d76b88-a63f-4f48-b344-795a7f9d9f62",
   "metadata": {},
   "outputs": [
    {
     "name": "stdout",
     "output_type": "stream",
     "text": [
      "0번째 원소: python\n",
      "1번째 원소: is\n",
      "2번째 원소: good\n"
     ]
    }
   ],
   "source": [
    "# 반복문 안에서 현재 원소의 인덱스를 파악하기 위한 보완처리\n",
    "\n",
    "# 몇 번째 원소인지를 카운트하기 위한 별도의 변수 사용\n",
    "# -> 단점: 별도의 변수를 관리해야 하므로 처리가 복잡해진다\n",
    "count = 0\n",
    "for i in test_list:\n",
    "    print( \"%d번째 원소: %s\" % (count, i))\n",
    "    count += 1"
   ]
  },
  {
   "cell_type": "code",
   "execution_count": 11,
   "id": "5ce0f001-cb55-470e-be2e-0f933f102778",
   "metadata": {},
   "outputs": [
    {
     "name": "stdout",
     "output_type": "stream",
     "text": [
      "0번째 원소:python\n",
      "1번째 원소:is\n",
      "2번째 원소:good\n"
     ]
    }
   ],
   "source": [
    "# 리스트의 인덱스 자체로 반복의 범위를 지정하기\n",
    "\n",
    "# 원소의 수를 조회한 다음 직접 반복범위 지정하기\n",
    "# -> 단점: 각 원소가 저장되는 변수가 없기 때문에\n",
    "#          원소에 대한 접근을 리스트를 통해 직접 수행해야 한다.\n",
    "size = len(test_list)\n",
    "for i in range(0, size):\n",
    "    print(\"%d번째 원소:%s\" % (i, test_list[i]))"
   ]
  },
  {
   "cell_type": "code",
   "execution_count": 14,
   "id": "33b1055f-862d-4914-9c5a-6e107f1f9f37",
   "metadata": {},
   "outputs": [
    {
     "name": "stdout",
     "output_type": "stream",
     "text": [
      "0번째 값 >> python\n",
      "1번째 값 >> is\n",
      "2번째 값 >> good\n"
     ]
    }
   ],
   "source": [
    "# 중요.내장함수를 사용하여 인덱스와 값 한번에 얻기\n",
    "\n",
    "# i에는 리스트의 인덱스가 저장된다.\n",
    "# value에는 리스트의 값(원소)가 저장된다.\n",
    "# i, value는 단순 변수이므로 개발자 편의에 따라 이름지울 수 있다\n",
    "for i, value in enumerate(test_list):\n",
    "    print(\"%d번째 값 >> %s\" % (i, value))"
   ]
  },
  {
   "cell_type": "code",
   "execution_count": 17,
   "id": "1a5fad9e-dbc2-4e60-ac77-f5c9c7aeab3a",
   "metadata": {},
   "outputs": [
    {
     "name": "stdout",
     "output_type": "stream",
     "text": [
      "총점: 407, 평균: 81\n"
     ]
    }
   ],
   "source": [
    "# 중요.일반적으로 많이 사용되는 응용 패턴\n",
    "\n",
    "# 성적에 대한 총점과 평균 구하기\n",
    "point_list = [100, 82, 98, 76, 51 ]\n",
    "\n",
    "# -> 총점에 저장할 변수\n",
    "total = 0\n",
    "\n",
    "for point in point_list:\n",
    "    # 총점은 각 원소를 누적해서 더한다\n",
    "    total += point\n",
    "    \n",
    "# 평균은 총 합에서 원소의 수를 나눈다.\n",
    "# ->\"//\"는 나눗셈에서 정수부분의 몫만 구한다.\n",
    "avg = total // len(point_list)\n",
    "\n",
    "tpl = \"총점: {0}, 평균: {1}\"\n",
    "print(tpl.format(total, avg))"
   ]
  },
  {
   "cell_type": "code",
   "execution_count": null,
   "id": "56f28f3c-1b45-4b93-bbed-2f0cfc048299",
   "metadata": {},
   "outputs": [],
   "source": []
  }
 ],
 "metadata": {
  "kernelspec": {
   "display_name": "Python 3 (ipykernel)",
   "language": "python",
   "name": "python3"
  },
  "language_info": {
   "codemirror_mode": {
    "name": "ipython",
    "version": 3
   },
   "file_extension": ".py",
   "mimetype": "text/x-python",
   "name": "python",
   "nbconvert_exporter": "python",
   "pygments_lexer": "ipython3",
   "version": "3.9.7"
  }
 },
 "nbformat": 4,
 "nbformat_minor": 5
}
