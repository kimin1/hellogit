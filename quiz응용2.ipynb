{
 "cells": [
  {
   "cell_type": "code",
   "execution_count": 386,
   "id": "0122553e-b615-407d-ad51-75a521459c50",
   "metadata": {},
   "outputs": [
    {
     "name": "stdout",
     "output_type": "stream",
     "text": [
      "426\n",
      "343\n",
      "547\n",
      "490\n",
      "460\n",
      "443\n",
      "338\n",
      "299\n",
      "누적 확진자 수 =28\n",
      "평균 확진자 수 =3.00\n"
     ]
    }
   ],
   "source": [
    "#문제1\n",
    "covid19 = [\n",
    "    {'0125': 426}, {'0126': 343}, {'0127': 547}, {'0128': 490}, \n",
    "    {'0129': 460}, {'0130': 443}, {'0131': 338}, {'0201': 299}\n",
    "]\n",
    "\n",
    "# 첫번째 item.values()함수를 설정 안한 오답리스트\n",
    "total=0\n",
    "tpl=\"{0}\"\n",
    "print(tpl.format(covid19[0]['0125']))\n",
    "print(tpl.format(covid19[1]['0126']))\n",
    "print(tpl.format(covid19[2]['0127']))\n",
    "print(tpl.format(covid19[3]['0128']))\n",
    "print(tpl.format(covid19[4]['0129']))\n",
    "print(tpl.format(covid19[5]['0130']))\n",
    "print(tpl.format(covid19[6]['0131']))\n",
    "print(tpl.format(covid19[7]['0201']))\n",
    "\n",
    "size = len(covid19)\n",
    "total = 0 \n",
    "for i in range(0, size):\n",
    "    total += i\n",
    "avg = total // size\n",
    "print(\"누적 확진자 수 =%d\" % total )\n",
    "print(\"평균 확진자 수 =%0.2f\" % avg)"
   ]
  },
  {
   "cell_type": "code",
   "execution_count": 6,
   "id": "f18916ef-3913-4d02-9041-124f84e838a2",
   "metadata": {},
   "outputs": [
    {
     "name": "stdout",
     "output_type": "stream",
     "text": [
      "426\n",
      "343\n",
      "547\n",
      "490\n",
      "460\n",
      "443\n",
      "338\n",
      "299\n",
      "누적 확진자 수: 3346\n",
      "평균 확진자 수: 418.25\n"
     ]
    }
   ],
   "source": [
    "# 문제1\n",
    "covid19 = [\n",
    "    {'0125': 426}, {'0126': 343}, {'0127': 547}, {'0128': 490}, \n",
    "    {'0129': 460}, {'0130': 443}, {'0131': 338}, {'0201': 299}\n",
    "]\n",
    "# 누적확진자 변수\n",
    "active_sum = 0\n",
    "\n",
    "for item in covid19:\n",
    "    # 리스트의 원소가 딕셔너리이므로 값들만 list로 추출\n",
    "    active_list = list(item.values())\n",
    "    print(active_list[0])\n",
    "    \n",
    "    # 원소가 1개인 리스트이므로 0번째 항목이 해당 날짜의 확진자 수\n",
    "    active_sum += active_list[0]\n",
    "\n",
    "# 평균 확진자 수 -> 누적 확진자 수를 리스트의 길이로 나눈다\n",
    "active_avg = active_sum / len(covid19)\n",
    "\n",
    "print(\"누적 확진자 수: %d\" % active_sum)\n",
    "print('평균 확진자 수: %0.2f'% active_avg)"
   ]
  },
  {
   "cell_type": "code",
   "execution_count": 14,
   "id": "7f1318d3-86a3-4f43-ba74-b31fff8ab7cd",
   "metadata": {},
   "outputs": [
    {
     "name": "stdout",
     "output_type": "stream",
     "text": [
      "확진자가 가장 많이 나타난 날: 0127\n"
     ]
    }
   ],
   "source": [
    "# 문제2\n",
    "covid19 = [\n",
    "    {'0125': 426}, {'0126': 343}, {'0127': 547}, {'0128': 490}, \n",
    "    {'0129': 460}, {'0130': 443}, {'0131': 338}, {'0201': 299}\n",
    "]\n",
    "\n",
    "# 최대 확진자 변수\n",
    "active_max = 0\n",
    "\n",
    "# 최대 확진자가 집계된 날짜\n",
    "day_max = 0\n",
    "\n",
    "for item in covid19:\n",
    "    active_list = list(item.values())\n",
    "    active_keys = list(item.keys())\n",
    "    \n",
    "    if active_max < active_list[0]:\n",
    "        active_max = active_list[0]\n",
    "        day_max = active_keys[0]\n",
    "        \n",
    "print('확진자가 가장 많이 나타난 날: %s' % day_max)"
   ]
  },
  {
   "cell_type": "code",
   "execution_count": 15,
   "id": "eb389a91-9cf8-4861-aa90-da0a66106c12",
   "metadata": {},
   "outputs": [
    {
     "name": "stdout",
     "output_type": "stream",
     "text": [
      "[{'0125': 426}, {'0126': 343}, {'0127': 547}, {'0128': 490}, {'0129': 460}, {'0130': 443}, {'0131': 338}, {'0201': 299}]\n"
     ]
    }
   ],
   "source": [
    "#위의 데이터를 확진자 수에 대한 오름차순으로 정렬하시오.\n",
    "# 틀림! 문제 잘 읽으세요!!!!!!!! 내림차순 했음!!\n",
    "# 문제3\n",
    "my_list = covid19\n",
    "size=len(my_list)\n",
    "i=0\n",
    "sort = my_list[:]\n",
    "for i in my_list :\n",
    "    sort = i\n",
    "        \n",
    "print(my_list)    "
   ]
  },
  {
   "cell_type": "code",
   "execution_count": 18,
   "id": "b42a3ee8-e666-4630-b6fc-ef0887fe26e6",
   "metadata": {},
   "outputs": [
    {
     "name": "stdout",
     "output_type": "stream",
     "text": [
      "[{'0201': 299}, {'0131': 338}, {'0126': 343}, {'0125': 426}, {'0130': 443}, {'0129': 460}, {'0128': 490}, {'0127': 547}]\n"
     ]
    }
   ],
   "source": [
    "# 문제3\n",
    "covid19 = [\n",
    "    {'0125': 426}, {'0126': 343}, {'0127': 547}, {'0128': 490}, \n",
    "    {'0129': 460}, {'0130': 443}, {'0131': 338}, {'0201': 299}\n",
    "]\n",
    "size=len(covid19)\n",
    "for i in range(0, size-1):\n",
    "    for j in range(i+1, size):\n",
    "        x = list(covid19[i].values())\n",
    "        y = list(covid19[j].values())\n",
    "        \n",
    "        if x[0] > y[0]:\n",
    "            covid19[i], covid19[j] = covid19[j], covid19[i]\n",
    "print(covid19)"
   ]
  },
  {
   "cell_type": "code",
   "execution_count": 19,
   "id": "0f94c3b8-d700-4cce-b866-257252456f34",
   "metadata": {},
   "outputs": [
    {
     "name": "stdout",
     "output_type": "stream",
     "text": [
      "{'A': 3, 'B': 2, 'AB': 2, 'O': 3}\n"
     ]
    }
   ],
   "source": [
    "#문제4\n",
    "#다음은 10명의 학생들에 대한 혈액형 데이터 이다.\n",
    "\n",
    "#['A', 'A', 'A', 'O', 'B', 'B', 'O', 'AB', 'AB', 'O']\n",
    "#for문을 이용하여 각 혈액형 별 학생수를 아래의 딕셔너리 reuslt에 구하시오.\n",
    "\n",
    "#result = {\"A\" : 0, \"B\" : 0, \"AB\" : 0, \"O\" : 0}\n",
    "d = ['A', 'A', 'A', 'O', 'B', 'B', 'O', 'AB', 'AB','O']\n",
    "result = {\"A\" : 0, \"B\" : 0, \"AB\" : 0, \"O\" : 0}\n",
    "\n",
    "for i in d:\n",
    "   result[i] += 1\n",
    "print(result)"
   ]
  },
  {
   "cell_type": "code",
   "execution_count": 21,
   "id": "ad6f620b-9ba4-4f01-ba6f-1b5a28511a37",
   "metadata": {},
   "outputs": [
    {
     "name": "stdout",
     "output_type": "stream",
     "text": [
      "0123\n",
      "1234\n",
      "2345\n",
      "3456\n"
     ]
    }
   ],
   "source": [
    "# 문제5\n",
    "#for문을 중첩하여 실행하여 아래와 같은 출력 결과를 만드시오.\n",
    "\n",
    "#0 1 2 3 \n",
    "#1 2 3 4 \n",
    "#2 3 4 5 \n",
    "#3 4 5 6 \n",
    "# 행을 담당하는 반복\n",
    "for i in range(0, 4):\n",
    "    \n",
    "    # 한 줄에 출력할 문자열 <-- \"0 1 2 3\", \"1 2 3 4\"\n",
    "    txt= \"\"\n",
    "    \n",
    "    #열을 담당하는 반복\n",
    "    for j in range(0, 4):\n",
    "        txt += \"%d\" % (i+j)\n",
    "    print(txt)"
   ]
  },
  {
   "cell_type": "code",
   "execution_count": null,
   "id": "f91f55b2-df04-4116-b9d2-5ccbf477e586",
   "metadata": {},
   "outputs": [],
   "source": []
  }
 ],
 "metadata": {
  "kernelspec": {
   "display_name": "Python 3 (ipykernel)",
   "language": "python",
   "name": "python3"
  },
  "language_info": {
   "codemirror_mode": {
    "name": "ipython",
    "version": 3
   },
   "file_extension": ".py",
   "mimetype": "text/x-python",
   "name": "python",
   "nbconvert_exporter": "python",
   "pygments_lexer": "ipython3",
   "version": "3.9.7"
  }
 },
 "nbformat": 4,
 "nbformat_minor": 5
}
