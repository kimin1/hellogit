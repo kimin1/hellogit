{
 "cells": [
  {
   "cell_type": "code",
   "execution_count": 1,
   "id": "7c5ec260-fa65-4db8-b222-aac57af2b2f4",
   "metadata": {},
   "outputs": [],
   "source": [
    "# 함수\n",
    "\n",
    "# 기본적인 함수의 정의 방법\n",
    "def say_hello():\n",
    "    print(\"Hello Python\")\n",
    "    print(\"안녕 파이썬\")"
   ]
  },
  {
   "cell_type": "code",
   "execution_count": 2,
   "id": "a3b77837-4148-468b-82ff-0ac7315bf26e",
   "metadata": {},
   "outputs": [
    {
     "name": "stdout",
     "output_type": "stream",
     "text": [
      "Hello Python\n",
      "안녕 파이썬\n",
      "Hello Python\n",
      "안녕 파이썬\n"
     ]
    }
   ],
   "source": [
    "# 정의한 함수 호출하기\n",
    "say_hello()\n",
    "say_hello()"
   ]
  },
  {
   "cell_type": "code",
   "execution_count": 3,
   "id": "42da5f41-0dc2-4af7-b00c-0af1af9b71d1",
   "metadata": {},
   "outputs": [],
   "source": [
    "# 파라미터(매개변수)를 갖는 함수 정의\n",
    "def f(x):\n",
    "    y = x + 1\n",
    "    tpl = \"f({0}) => {0} + 1 = {1}\"\n",
    "    print(tpl.format(x, y))"
   ]
  },
  {
   "cell_type": "code",
   "execution_count": 10,
   "id": "edf92b67-d139-409c-a5ea-14149a437e5a",
   "metadata": {},
   "outputs": [
    {
     "name": "stdout",
     "output_type": "stream",
     "text": [
      "f(2) => 2 + 1 = 3\n"
     ]
    }
   ],
   "source": [
    "# 파라미터를 갖는 함수 호출하기\n",
    "f(2)"
   ]
  },
  {
   "cell_type": "code",
   "execution_count": 5,
   "id": "d40691e1-a8e8-4f3e-93f3-2ed50ccbc751",
   "metadata": {},
   "outputs": [
    {
     "name": "stdout",
     "output_type": "stream",
     "text": [
      "f(5) => 5 + 1 = 6\n"
     ]
    }
   ],
   "source": [
    "f(5)"
   ]
  },
  {
   "cell_type": "code",
   "execution_count": 11,
   "id": "a6182862-5762-402d-b68c-451762dd18f3",
   "metadata": {},
   "outputs": [],
   "source": [
    "# 여러 개의 파라미터를 갖는 함수 정의\n",
    "\n",
    "def hello(x, y):\n",
    "    z = x + y\n",
    "    tpl = \"hello({0},{1}) => {0} + {1} = {2}\"\n",
    "    print(tpl.format(x, y, z))"
   ]
  },
  {
   "cell_type": "code",
   "execution_count": 12,
   "id": "6c990092-c613-4ac1-9310-765f695ac3fc",
   "metadata": {},
   "outputs": [
    {
     "name": "stdout",
     "output_type": "stream",
     "text": [
      "hello(2,1) => 2 + 1 = 3\n"
     ]
    }
   ],
   "source": [
    "# 다중 파라미터를 갖는 함수 호출\n",
    "hello(2, 1)"
   ]
  },
  {
   "cell_type": "code",
   "execution_count": 8,
   "id": "9512ad7c-1bbe-4366-876e-543c614ea22c",
   "metadata": {},
   "outputs": [
    {
     "name": "stdout",
     "output_type": "stream",
     "text": [
      "hello(5,3) => 5 + 3 = 8\n"
     ]
    }
   ],
   "source": [
    "hello(5, 3)"
   ]
  },
  {
   "cell_type": "code",
   "execution_count": 13,
   "id": "1704805c-0fc4-4f2a-9dcf-37cd3ab99a49",
   "metadata": {},
   "outputs": [],
   "source": [
    "# 파라미터에 기본값 설정하기\n",
    "\n",
    "def sum1(x, y, z=0):\n",
    "    tpl = \"sum({0} + {1} + {2}) -> {0} + {1} + {2} = {3}\"\n",
    "    print(tpl.format(x, y, z, x+y+z))"
   ]
  },
  {
   "cell_type": "code",
   "execution_count": 15,
   "id": "7a60ff3e-b940-4d83-9b05-bc413eb29623",
   "metadata": {},
   "outputs": [
    {
     "name": "stdout",
     "output_type": "stream",
     "text": [
      "sum(1 + 2 + 3) -> 1 + 2 + 3 = 6\n"
     ]
    }
   ],
   "source": [
    "# 기본값을 갖는 파라미터가 정의된 함수의 호출\n",
    "# 모든 파라미터값을 전달하며 함수 호출\n",
    "sum1(1, 2, 3)"
   ]
  },
  {
   "cell_type": "code",
   "execution_count": 16,
   "id": "67c49ca2-0358-47ff-a3db-30882175f41f",
   "metadata": {},
   "outputs": [
    {
     "name": "stdout",
     "output_type": "stream",
     "text": [
      "sum(10 + 20 + 0) -> 10 + 20 + 0 = 30\n"
     ]
    }
   ],
   "source": [
    "# 초기값이 설정된 파라미터는 호출시에 생략 가능함\n",
    "# -> 생략된 파라미터는 초기값으로 설정된다\n",
    "sum1(10, 20)"
   ]
  },
  {
   "cell_type": "code",
   "execution_count": 17,
   "id": "87c9cf79-9ac3-4e33-b2b2-7e8a623c70fb",
   "metadata": {},
   "outputs": [
    {
     "name": "stdout",
     "output_type": "stream",
     "text": [
      "sum(30 + 20 + 10) -> 30 + 20 + 10 = 60\n"
     ]
    }
   ],
   "source": [
    "# 파라미터 이름을 지정한 호출\n",
    "# -> 파라미터 전달 순서가 무시된다\n",
    "sum1(z=10, y=20, x=30)"
   ]
  },
  {
   "cell_type": "code",
   "execution_count": 18,
   "id": "c4ce146a-849d-4586-91d1-274ff6dd900e",
   "metadata": {},
   "outputs": [
    {
     "name": "stdout",
     "output_type": "stream",
     "text": [
      "sum(30 + 20 + 0) -> 30 + 20 + 0 = 50\n"
     ]
    }
   ],
   "source": [
    "# -> 기본값이 없는 파라미터는 생략할 수 없다\n",
    "sum1(y=20, x=30)"
   ]
  },
  {
   "cell_type": "code",
   "execution_count": 19,
   "id": "8a053363-103b-41fb-828a-5a3726172cc1",
   "metadata": {},
   "outputs": [],
   "source": [
    "# 리턴값을 갖는 함수 정의하기\n",
    "\n",
    "def puls(x, y):\n",
    "    z = x + y\n",
    "    # 자신이 호출된 위치로 값을 되돌려준다\n",
    "    return z"
   ]
  },
  {
   "cell_type": "code",
   "execution_count": 21,
   "id": "79a4a049-93a1-4046-a4e4-2e8ae6bd8165",
   "metadata": {},
   "outputs": [
    {
     "name": "stdout",
     "output_type": "stream",
     "text": [
      "30\n"
     ]
    }
   ],
   "source": [
    "# 함수의 리턴값 활용하기\n",
    "a = puls(10, 20)\n",
    "print(a)"
   ]
  },
  {
   "cell_type": "code",
   "execution_count": 23,
   "id": "61341742-4e9b-4614-96bc-8812755da518",
   "metadata": {},
   "outputs": [
    {
     "name": "stdout",
     "output_type": "stream",
     "text": [
      "300\n"
     ]
    }
   ],
   "source": [
    "# 리턴값을 갖는 함수는 그 결과를 직접 출력할 수 있다\n",
    "print(puls(100, 200))"
   ]
  },
  {
   "cell_type": "code",
   "execution_count": 24,
   "id": "7091891c-ae71-482a-b56a-c770e11a7710",
   "metadata": {},
   "outputs": [
    {
     "name": "stdout",
     "output_type": "stream",
     "text": [
      "112\n"
     ]
    }
   ],
   "source": [
    "b = puls(5, 7) + 100\n",
    "print(b)"
   ]
  },
  {
   "cell_type": "code",
   "execution_count": 25,
   "id": "de6d7c87-e200-4dc1-a6e1-078d04ba5f76",
   "metadata": {},
   "outputs": [],
   "source": [
    "# 리턴문의 특성\n",
    "\n",
    "# return문을 중간에 만나는 경우 그 즉시 수행을 종료한다\n",
    "def foo(x, y):\n",
    "    if x < 10 or y < 10:\n",
    "        return 0\n",
    "    \n",
    "    z = x + y\n",
    "    return z"
   ]
  },
  {
   "cell_type": "code",
   "execution_count": 26,
   "id": "fd4c6b74-f2a2-4b5d-8f80-6a362c4af73f",
   "metadata": {},
   "outputs": [
    {
     "name": "stdout",
     "output_type": "stream",
     "text": [
      "300\n"
     ]
    }
   ],
   "source": [
    "# 26라인의 조건이 거짓이 되므로 27라인은 수행되지 않는다\n",
    "print( foo(100, 200 ))"
   ]
  },
  {
   "cell_type": "code",
   "execution_count": 27,
   "id": "5d47e860-711b-45c6-8a67-6c2c70d92069",
   "metadata": {},
   "outputs": [
    {
     "name": "stdout",
     "output_type": "stream",
     "text": [
      "0\n"
     ]
    }
   ],
   "source": [
    "# 26라인이 참이 되므로 27라인이 수행된다\n",
    "# 27라인의 return문에 의해 함수가 종료되므로 29, 30라인은 수행되지 않는다\n",
    "print( foo(1, 2))"
   ]
  },
  {
   "cell_type": "code",
   "execution_count": 28,
   "id": "6e1b8483-cfa8-4cea-9af3-5a3d00fac425",
   "metadata": {},
   "outputs": [],
   "source": [
    "# 함수 활용 예시\n",
    "# 세 가지의 아이디 입력값에 대하여 \"검사하는 기능을 재사용\"할 수 있다\n",
    "\n",
    "# 단순히 실행을 종료할 목적이라면 return키워드만 사용 가능\n",
    "def id_check(user_id):\n",
    "    # 기존에 가입되어 있는 회원들의 아이디\n",
    "    member_list = ['user1', 'user2', 'user3']\n",
    "    \n",
    "    # 만약 user_id가 값이 없다면 처리중단\n",
    "    if not user_id:\n",
    "        return\n",
    "    \n",
    "    # 만약 user_id의 값이 member_list에 속해 있다면?\n",
    "    if user_id in member_list:\n",
    "        print(\"사용할 수 없는 아이디 입니다.\")\n",
    "    else:\n",
    "        print(\"사용 가능한 아이디 입니다.\")"
   ]
  },
  {
   "cell_type": "code",
   "execution_count": 29,
   "id": "1b362add-c6e9-414f-9284-215f3a038a0e",
   "metadata": {},
   "outputs": [],
   "source": [
    "id_check(\"\")"
   ]
  },
  {
   "cell_type": "code",
   "execution_count": 30,
   "id": "78adeb89-6904-4c9b-9085-dc0a5e5a1cb8",
   "metadata": {},
   "outputs": [
    {
     "name": "stdout",
     "output_type": "stream",
     "text": [
      "사용할 수 없는 아이디 입니다.\n"
     ]
    }
   ],
   "source": [
    "id_check(\"user1\")"
   ]
  },
  {
   "cell_type": "code",
   "execution_count": 31,
   "id": "c34de162-7cf0-49ae-952a-2c7e8bc40bbf",
   "metadata": {},
   "outputs": [
    {
     "name": "stdout",
     "output_type": "stream",
     "text": [
      "사용 가능한 아이디 입니다.\n"
     ]
    }
   ],
   "source": [
    "id_check(\"python\")"
   ]
  },
  {
   "cell_type": "code",
   "execution_count": 32,
   "id": "ced2be62-6df7-4503-9b8b-156e6fb7a08e",
   "metadata": {},
   "outputs": [],
   "source": [
    "# 튜플이나 리스트를 리턴하는 함수\n",
    "\n",
    "# 두 개의 값을  튜플이나 리스트로 묶어서 한번에 리턴\n",
    "def bar():\n",
    "    x=1\n",
    "    y=2\n",
    "    return (x,y)"
   ]
  },
  {
   "cell_type": "code",
   "execution_count": 33,
   "id": "6a62e5bd-840d-4089-bb7c-4b5c2e722c18",
   "metadata": {},
   "outputs": [
    {
     "name": "stdout",
     "output_type": "stream",
     "text": [
      "(1, 2)\n",
      "1\n",
      "2\n"
     ]
    }
   ],
   "source": [
    "# 함수가 리턴하는 튜플을 하나의 객체에 할당한 경우\n",
    "\n",
    "# 함수의 리턴값이 튜플이므로 인덱스 번호를 통해 원소에 접근한다\n",
    "a=bar()\n",
    "print(a)\n",
    "print(a[0])\n",
    "print(a[1])"
   ]
  },
  {
   "cell_type": "code",
   "execution_count": 34,
   "id": "72845953-14e3-4a35-ba17-f75c9f7e028f",
   "metadata": {},
   "outputs": [
    {
     "name": "stdout",
     "output_type": "stream",
     "text": [
      "1\n",
      "2\n"
     ]
    }
   ],
   "source": [
    "# 함수가 리턴하는 튜플의 각 원소를 분할해서 반환받는 경우\n",
    "\n",
    "# 'a, b =(1, 2)'의 변수 일괄 생성 규칙을 활용하면\n",
    "# 아래와 같이 튜플이나 리스트 형식의 파라미터를 \n",
    "# 개별변수로 저장 가능함\n",
    "m, n = bar()\n",
    "print(m)\n",
    "print(n)"
   ]
  },
  {
   "cell_type": "code",
   "execution_count": 35,
   "id": "2e920fc0-f69a-49bb-8b7d-4ad124a512ae",
   "metadata": {},
   "outputs": [],
   "source": [
    "# 함수에서 변수의 유효성 범위\n",
    "a= 100\n",
    "b= 100\n",
    "\n",
    "def foo():\n",
    "    # 함수 안에서는 함수 밖의 변수 식별 가능\n",
    "    # -> 함수 안에서는 가급적 바깥의 변수를 사용하지 않는 것이 좋다\n",
    "    # -> 함수 안에서 사용할 변수는 파라미터로 전달하는 것이 바람직\n",
    "    c = a + b\n",
    "    print(c)"
   ]
  },
  {
   "cell_type": "code",
   "execution_count": 36,
   "id": "7d85440e-234d-4060-b501-fd38bc4b31f5",
   "metadata": {},
   "outputs": [
    {
     "name": "stdout",
     "output_type": "stream",
     "text": [
      "200\n"
     ]
    }
   ],
   "source": [
    "foo()"
   ]
  },
  {
   "cell_type": "code",
   "execution_count": 37,
   "id": "136ae308-e8c6-4b96-9cc6-8779b7e40900",
   "metadata": {},
   "outputs": [
    {
     "ename": "NameError",
     "evalue": "name 'c' is not defined",
     "output_type": "error",
     "traceback": [
      "\u001b[1;31m---------------------------------------------------------------------------\u001b[0m",
      "\u001b[1;31mNameError\u001b[0m                                 Traceback (most recent call last)",
      "\u001b[1;32m~\\AppData\\Local\\Temp/ipykernel_19760/2441820528.py\u001b[0m in \u001b[0;36m<module>\u001b[1;34m\u001b[0m\n\u001b[0;32m      1\u001b[0m \u001b[1;31m# 함수 밖에서는 함수 내부에서 생성된 변수 식별 불가\u001b[0m\u001b[1;33m\u001b[0m\u001b[1;33m\u001b[0m\u001b[0m\n\u001b[1;32m----> 2\u001b[1;33m \u001b[0mprint\u001b[0m\u001b[1;33m(\u001b[0m\u001b[0mc\u001b[0m\u001b[1;33m)\u001b[0m\u001b[1;33m\u001b[0m\u001b[1;33m\u001b[0m\u001b[0m\n\u001b[0m",
      "\u001b[1;31mNameError\u001b[0m: name 'c' is not defined"
     ]
    }
   ],
   "source": [
    "# 함수 밖에서는 함수 내부에서 생성된 변수 식별 불가\n",
    "print(c)"
   ]
  },
  {
   "cell_type": "code",
   "execution_count": null,
   "id": "31862050-89ae-4bcb-a1a6-e182a0f8d338",
   "metadata": {},
   "outputs": [],
   "source": []
  }
 ],
 "metadata": {
  "kernelspec": {
   "display_name": "Python 3 (ipykernel)",
   "language": "python",
   "name": "python3"
  },
  "language_info": {
   "codemirror_mode": {
    "name": "ipython",
    "version": 3
   },
   "file_extension": ".py",
   "mimetype": "text/x-python",
   "name": "python",
   "nbconvert_exporter": "python",
   "pygments_lexer": "ipython3",
   "version": "3.9.7"
  }
 },
 "nbformat": 4,
 "nbformat_minor": 5
}
