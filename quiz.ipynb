{
 "cells": [
  {
   "cell_type": "code",
   "execution_count": 1,
   "id": "afddfc23-84a7-4b7a-9871-cb73f9d9354b",
   "metadata": {},
   "outputs": [],
   "source": [
    "# 문제 1\n",
    "Daum = 89000\n",
    "Naver = 751000"
   ]
  },
  {
   "cell_type": "code",
   "execution_count": 4,
   "id": "9258f366-2ef8-47c1-8272-da9f23edcb85",
   "metadata": {},
   "outputs": [
    {
     "name": "stdout",
     "output_type": "stream",
     "text": [
      "23920000\n"
     ]
    }
   ],
   "source": [
    "daum= Daum*100\n",
    "naver= Naver*20\n",
    "print(daum+naver)"
   ]
  },
  {
   "cell_type": "code",
   "execution_count": null,
   "id": "ede5e88d-8849-4d5e-b41a-d669a78efd28",
   "metadata": {},
   "outputs": [],
   "source": []
  },
  {
   "cell_type": "code",
   "execution_count": 3,
   "id": "2daf31b1-4b46-40a3-95d0-c7e272d7e231",
   "metadata": {},
   "outputs": [
    {
     "name": "stdout",
     "output_type": "stream",
     "text": [
      "1947000.0\n"
     ]
    }
   ],
   "source": [
    "# 문제 2\n",
    "#\n",
    "daum = 89000\n",
    "naver= 751000\n",
    "my1 = daum * 100 + naver * 20\n",
    "\n",
    "daum *= 0.95\n",
    "naver *= 0.9\n",
    "my2 = daum * 100 + naver * 20\n",
    "\n",
    "print(my1-my2)"
   ]
  },
  {
   "cell_type": "code",
   "execution_count": 5,
   "id": "9ad68194-9acb-4891-a5b7-df7d55a75757",
   "metadata": {},
   "outputs": [],
   "source": [
    "# 문제3\n",
    "#f=1 #화씨온도_미국,유럽\n",
    "#c=-17.222222 #섭씨온도_우리나라\n",
    "\n"
   ]
  },
  {
   "cell_type": "code",
   "execution_count": 7,
   "id": "162a08ed-339f-4f10-ac56-8c3c03d730dc",
   "metadata": {},
   "outputs": [],
   "source": [
    "#섭씨온도=(화씨온도－32)×5/9\n",
    "#화씨온도=(9/5×섭씨온도)＋32\n",
    "\n",
    "F = 1*50\n",
    "#c = (9/5*-17.222222)+32\n",
    "\n",
    "\n",
    "\n",
    "c = (F-32)/1.8"
   ]
  },
  {
   "cell_type": "code",
   "execution_count": 8,
   "id": "cb7bc233-d8f8-42fe-9d44-defb73b17914",
   "metadata": {},
   "outputs": [
    {
     "name": "stdout",
     "output_type": "stream",
     "text": [
      "10.0\n"
     ]
    }
   ],
   "source": [
    "c =(50-32)/1.8\n",
    "print(c)"
   ]
  },
  {
   "cell_type": "code",
   "execution_count": 10,
   "id": "ba524083-47c0-44e7-97b1-9be4bf51987d",
   "metadata": {},
   "outputs": [
    {
     "name": "stdout",
     "output_type": "stream",
     "text": [
      "KaKao Daum\n"
     ]
    }
   ],
   "source": [
    "# 문제4\n",
    "s = 'Daum KaKao'\n",
    "print(s[5:],s[0:4])"
   ]
  },
  {
   "cell_type": "code",
   "execution_count": null,
   "id": "b176dcd1-9736-412d-8d49-b1ba9e8ebda7",
   "metadata": {},
   "outputs": [],
   "source": []
  },
  {
   "cell_type": "code",
   "execution_count": 9,
   "id": "1610e0a5-d22a-4eae-8ee2-4301268e7356",
   "metadata": {},
   "outputs": [],
   "source": [
    "#문제5\n",
    "#year = \"1988\"\n",
    "#now_year = \"2021\""
   ]
  },
  {
   "cell_type": "code",
   "execution_count": 10,
   "id": "57e8a6e9-a1bc-4edc-b929-5de58dd64999",
   "metadata": {},
   "outputs": [
    {
     "name": "stdin",
     "output_type": "stream",
     "text": [
      "태어난 년도를 입력하세요: 1988\n",
      "현재 년도를 입력하세요: 2021\n"
     ]
    },
    {
     "name": "stdout",
     "output_type": "stream",
     "text": [
      "성인입니다.\n"
     ]
    }
   ],
   "source": [
    "year = int(input(\"태어난 년도를 입력하세요:\"))\n",
    "now_year = int(input(\"현재 년도를 입력하세요:\"))\n",
    "\n",
    "age = now_year - year + 1\n",
    "\n",
    "if age >= 20:\n",
    "    print(\"성인입니다.\")\n",
    "else:\n",
    "    print(\"성인이 아닙니다.\")\n"
   ]
  },
  {
   "cell_type": "code",
   "execution_count": 11,
   "id": "0176c5a6-ae72-4e78-b387-aeda33e55f7d",
   "metadata": {},
   "outputs": [
    {
     "name": "stdin",
     "output_type": "stream",
     "text": [
      "키를 숫자만 입력하세요: 160\n"
     ]
    },
    {
     "name": "stdout",
     "output_type": "stream",
     "text": [
      "1m 60cm\n"
     ]
    }
   ],
   "source": [
    "# 문제6\n",
    "height = int(input(\"키를 숫자만 입력하세요:\"))\n",
    "\n",
    "m = height // 100\n",
    "c = height % 100\n",
    "\n",
    "print(\"%dm %dcm\" % (m, c))"
   ]
  },
  {
   "cell_type": "code",
   "execution_count": 12,
   "id": "16ddf689-ad1a-4435-9ecf-ccea0a151dd2",
   "metadata": {},
   "outputs": [
    {
     "name": "stdout",
     "output_type": "stream",
     "text": [
      "폴더의 위치: C:\\myphoto\n",
      "파일이름: helloworld\n",
      "확장자: jpg\n"
     ]
    }
   ],
   "source": [
    "# 문제7\n",
    "photo_path = \"C:\\\\myphoto\\\\helloworld.jpg\"\n",
    "\n",
    "p1 = photo_path.rfind(\"\\\\\")\n",
    "p2 = photo_path.rfind(\".\")\n",
    "\n",
    "dirname = photo_path[:p1]\n",
    "filename = photo_path[p1+1:p2]\n",
    "extname = photo_path[p2+1:]\n",
    "\n",
    "print(\"폴더의 위치: %s\" %dirname)\n",
    "print(\"파일이름: %s\" %filename)\n",
    "print(\"확장자: %s\" %extname) "
   ]
  },
  {
   "cell_type": "code",
   "execution_count": 13,
   "id": "579a914f-6623-49f0-9187-841109fd1220",
   "metadata": {},
   "outputs": [
    {
     "name": "stdin",
     "output_type": "stream",
     "text": [
      "숫자를 입력하세요: 12458\n"
     ]
    },
    {
     "name": "stdout",
     "output_type": "stream",
     "text": [
      "12458(은)는 짝수입니다.\n"
     ]
    }
   ],
   "source": [
    "# 문제 8\n",
    "num = int(input(\"숫자를 입력하세요:\"))\n",
    "\n",
    "if num % 2 == 0:\n",
    "    typename = '짝수'\n",
    "else:\n",
    "    typrname = '홀수'\n",
    "    \n",
    "print(\"%d(은)는 %s입니다.\" %(num, typename))"
   ]
  },
  {
   "cell_type": "code",
   "execution_count": 14,
   "id": "1dfd993c-033d-4485-96f6-693fc629ecdc",
   "metadata": {},
   "outputs": [
    {
     "name": "stdin",
     "output_type": "stream",
     "text": [
      "숫자를 입력하세요: 12\n"
     ]
    },
    {
     "name": "stdout",
     "output_type": "stream",
     "text": [
      "HelloPythonHelloPythonHelloPythonHelloPythonHelloPythonHelloPythonHelloPythonHelloPythonHelloPythonHelloPythonHelloPythonHelloPython\n"
     ]
    }
   ],
   "source": [
    "# 문제 9\n",
    "\n",
    "\n",
    "num = int(input(\"숫자를 입력하세요:\"))\n",
    "print(\"HelloPython\" * num )"
   ]
  },
  {
   "cell_type": "code",
   "execution_count": null,
   "id": "2296b3c8-db74-4ddf-83fc-287cf7b2a0a9",
   "metadata": {},
   "outputs": [],
   "source": []
  }
 ],
 "metadata": {
  "kernelspec": {
   "display_name": "Python 3 (ipykernel)",
   "language": "python",
   "name": "python3"
  },
  "language_info": {
   "codemirror_mode": {
    "name": "ipython",
    "version": 3
   },
   "file_extension": ".py",
   "mimetype": "text/x-python",
   "name": "python",
   "nbconvert_exporter": "python",
   "pygments_lexer": "ipython3",
   "version": "3.9.7"
  }
 },
 "nbformat": 4,
 "nbformat_minor": 5
}
