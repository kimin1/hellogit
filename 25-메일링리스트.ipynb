{
 "cells": [
  {
   "cell_type": "code",
   "execution_count": 1,
   "id": "7f5bc3bc-d9aa-4ff4-8a5e-678228e87958",
   "metadata": {},
   "outputs": [],
   "source": [
    "# 필요한 모듈 참조\n",
    "\n",
    "# 직접 만든 모듈에 정의된 함수 참조\n",
    "from SendMail import send_mail\n",
    "# 날짜 처리 모듈\n",
    "import datetime as dt"
   ]
  },
  {
   "cell_type": "code",
   "execution_count": 2,
   "id": "4d020c84-bcc1-4ce8-a355-b2ad732618a8",
   "metadata": {},
   "outputs": [
    {
     "name": "stdout",
     "output_type": "stream",
     "text": [
      "2021 10\n"
     ]
    }
   ],
   "source": [
    "# 이번년도와 월 조회\n",
    "\n",
    "# 이번년도와 월 얻기\n",
    "now_time = dt.datetime.now()\n",
    "now_year = now_time.year\n",
    "now_month = now_time.month\n",
    "print(now_year, now_month)"
   ]
  },
  {
   "cell_type": "code",
   "execution_count": 3,
   "id": "f062cb60-14c2-458f-80e2-f053a434d477",
   "metadata": {},
   "outputs": [],
   "source": [
    "# 발송자 메일 주소와 메일 제목\n",
    "from_addr = \"k7132474@gmail.com\"\n",
    "subject_tpl = '{name}님의 {yy}년 {mm}월 급여명세서 입니다.'"
   ]
  },
  {
   "cell_type": "code",
   "execution_count": 4,
   "id": "ad8cbc61-5d92-4c6f-8630-ad6b75c92ae3",
   "metadata": {},
   "outputs": [],
   "source": [
    "# 메일 본문 HTML파일 읽기\n",
    "with open(\"mail/content.html\", \"r\", encoding='utf-8') as f:\n",
    "    content_tpl = f.read()"
   ]
  },
  {
   "cell_type": "code",
   "execution_count": 5,
   "id": "df9c7ce8-deb6-4386-b6e2-c40a3209f72a",
   "metadata": {},
   "outputs": [
    {
     "name": "stdout",
     "output_type": "stream",
     "text": [
      "1/20 >> 주영아강사님(k7132474@gmail.com)님께 메일을 발송했습니다.\n",
      "2/20 >> 김인솔(k7132474@naver.com)님께 메일을 발송했습니다.\n",
      "3/20 >> 김인솔(k7132475@naver.com)님께 메일을 발송했습니다.\n",
      "4/20 >> 김인솔(k7132476@naver.com)님께 메일을 발송했습니다.\n",
      "5/20 >> 김인솔(k7132477@naver.com)님께 메일을 발송했습니다.\n",
      "6/20 >> 김인솔(k7132478@naver.com)님께 메일을 발송했습니다.\n",
      "7/20 >> 김인솔(k7132479@naver.com)님께 메일을 발송했습니다.\n",
      "8/20 >> 김인솔(k7132480@naver.com)님께 메일을 발송했습니다.\n",
      "9/20 >> 김인솔(k7132481@naver.com)님께 메일을 발송했습니다.\n",
      "10/20 >> 김인솔(k7132482@naver.com)님께 메일을 발송했습니다.\n",
      "11/20 >> 김인솔(k7132483@naver.com)님께 메일을 발송했습니다.\n",
      "12/20 >> 김인솔(k7132484@naver.com)님께 메일을 발송했습니다.\n",
      "13/20 >> 김인솔(k7132485@naver.com)님께 메일을 발송했습니다.\n",
      "14/20 >> 김인솔(k7132486@naver.com)님께 메일을 발송했습니다.\n",
      "15/20 >> 김인솔(k7132487@naver.com)님께 메일을 발송했습니다.\n",
      "16/20 >> 김인솔(k7132488@naver.com)님께 메일을 발송했습니다.\n",
      "17/20 >> 김인솔(k7132489@naver.com)님께 메일을 발송했습니다.\n",
      "18/20 >> 김인솔(k7132490@naver.com)님께 메일을 발송했습니다.\n",
      "19/20 >> 김인솔(k7132491@naver.com)님께 메일을 발송했습니다.\n",
      "20/20 >> 김인솔(k7132492@naver.com)님께 메일을 발송했습니다.\n"
     ]
    }
   ],
   "source": [
    "# 수신자 목록에 대한 CSV파일 읽기\n",
    "with open(\"mail/mail_list.csv\", \"r\", encoding='euc-kr') as f:\n",
    "    csv_data = f.readlines()   # 전체 내용을 리스트로 읽어옴\n",
    "    count = len(csv_data)      # 전체 행 수\n",
    "    \n",
    "    # 결과 출력을 위한 문자열 템플릿\n",
    "    result_tpl = \"{0}/{1} >> {2}({3})님께 메일을 발송했습니다.\"\n",
    "    \n",
    "    # 리스트 행 수 만큼 반복 -> i에는 인덱스, line은 한 행의 문자열이 저장됨\n",
    "    # line = \"학생, hello@gmail.com,mail/document.pptx,mail/pay1.xlsx\"\n",
    "    for i, line in enumerate(csv_data):\n",
    "        item = line.strip().split(\",\")\n",
    "        to_name = item[0].strip()\n",
    "        to_addr = item[1].strip()\n",
    "        file1 = item[2].strip() \n",
    "        file2 = item[3].strip() \n",
    "        \n",
    "        # 제목과 내용에 포함된 {이름} 형식의 치환자에 변수값 적용\n",
    "        subject = subject_tpl.format(name=to_name, yy=now_year, mm=now_month)\n",
    "        content = content_tpl.format(name=to_name, yy=now_year, mm=now_month)\n",
    "        \n",
    "        # 메일을 발송한다\n",
    "        send_mail(from_addr, to_addr, subject, content, [file1, file2])\n",
    "        \n",
    "        # 결과 출력\n",
    "        print(result_tpl.format(i+1, count, to_name, to_addr))"
   ]
  },
  {
   "cell_type": "code",
   "execution_count": null,
   "id": "077b3707-4f40-4241-8bea-d7db151ac4bb",
   "metadata": {},
   "outputs": [],
   "source": []
  }
 ],
 "metadata": {
  "kernelspec": {
   "display_name": "Python 3 (ipykernel)",
   "language": "python",
   "name": "python3"
  },
  "language_info": {
   "codemirror_mode": {
    "name": "ipython",
    "version": 3
   },
   "file_extension": ".py",
   "mimetype": "text/x-python",
   "name": "python",
   "nbconvert_exporter": "python",
   "pygments_lexer": "ipython3",
   "version": "3.9.7"
  }
 },
 "nbformat": 4,
 "nbformat_minor": 5
}
