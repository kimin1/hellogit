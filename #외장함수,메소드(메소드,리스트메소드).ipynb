{
 "cells": [
  {
   "cell_type": "code",
   "execution_count": 24,
   "id": "57eff53a-1af9-4e99-a5c2-8610cecafee5",
   "metadata": {},
   "outputs": [
    {
     "data": {
      "text/plain": [
       "0.7484656609843476"
      ]
     },
     "execution_count": 24,
     "metadata": {},
     "output_type": "execute_result"
    }
   ],
   "source": [
    "# random : random은 난수(규칙이 없는 임의의 수)를 발생키시는 모듈이다\n",
    "\n",
    "import random\n",
    "random.random() # 0.0에서 1.0사이의 실수 중에서 난수값을 리턴\n"
   ]
  },
  {
   "cell_type": "code",
   "execution_count": 25,
   "id": "8f85c122-819e-4faa-9b9d-dba1acbd7ca2",
   "metadata": {},
   "outputs": [
    {
     "data": {
      "text/plain": [
       "4"
      ]
     },
     "execution_count": 25,
     "metadata": {},
     "output_type": "execute_result"
    }
   ],
   "source": [
    "import random\n",
    "random.random()\n",
    "random.randint(1, 10) # 1에서 10사이의 정수 중에서 난수값을 리턴한다"
   ]
  },
  {
   "cell_type": "code",
   "execution_count": 26,
   "id": "3872b79d-ac17-4223-9fca-196f66de482c",
   "metadata": {},
   "outputs": [
    {
     "data": {
      "text/plain": [
       "[2, 4, 3, 1, 5]"
      ]
     },
     "execution_count": 26,
     "metadata": {},
     "output_type": "execute_result"
    }
   ],
   "source": [
    "# random.choice 함수는 입력으로 받은 리스트에서 무작위로 하나를 선택하여 리턴한다. \n",
    "# 리스트의 항목을 무작위로 섞고 싶을 때는 random.shuffl함수를 이용하면 된다.\n",
    "import random\n",
    "data = [1, 2, 3, 4, 5]\n",
    "random.shuffle(data)\n",
    "data"
   ]
  },
  {
   "cell_type": "code",
   "execution_count": 27,
   "id": "55e8ef3e-5464-4092-966d-c081af667c99",
   "metadata": {},
   "outputs": [
    {
     "data": {
      "text/plain": [
       "'I ate 10 apples. so I was sick for three days.'"
      ]
     },
     "execution_count": 27,
     "metadata": {},
     "output_type": "execute_result"
    }
   ],
   "source": [
    "# 메소드(method)\n",
    "# 문자열(string)\n",
    "\n",
    "# 문자열 포매팅 - %s : %s 포맷 코드는 어떤 형태의 값이든 변환해 넣을 수 있다.\n",
    "\n",
    "number = 10\n",
    "day = \"three\"\n",
    "\"I ate %s apples. so I was sick for %s days.\" % (number, day)"
   ]
  },
  {
   "cell_type": "code",
   "execution_count": 28,
   "id": "364ac88d-9e13-4800-9925-4ff57823cda2",
   "metadata": {},
   "outputs": [
    {
     "data": {
      "text/plain": [
       "'I have 3 apples'"
      ]
     },
     "execution_count": 28,
     "metadata": {},
     "output_type": "execute_result"
    }
   ],
   "source": [
    "\"I have %s apples\" % 3"
   ]
  },
  {
   "cell_type": "code",
   "execution_count": 29,
   "id": "a8631aab-961b-45b8-9049-3f8311d84537",
   "metadata": {},
   "outputs": [
    {
     "data": {
      "text/plain": [
       "'I eat 3 apples'"
      ]
     },
     "execution_count": 29,
     "metadata": {},
     "output_type": "execute_result"
    }
   ],
   "source": [
    "# format() : 문자열의 format 함수를 이용하면 좀 더 발전된 스타일로 문자열 포맷을 지정할 수 있다.\n",
    "\n",
    "number = 3\n",
    "\"I eat {} apples\".format(number)"
   ]
  },
  {
   "cell_type": "code",
   "execution_count": 30,
   "id": "091b2c7d-cf65-4153-b59c-019e17282a77",
   "metadata": {},
   "outputs": [
    {
     "data": {
      "text/plain": [
       "3"
      ]
     },
     "execution_count": 30,
     "metadata": {},
     "output_type": "execute_result"
    }
   ],
   "source": [
    "# 리스트(list) 메소드\n",
    "\n",
    "# .pop() : pop()은 리스트의 맨 마지막 요소를 돌려 주고 그 요소는 삭제하는 함수이다\n",
    "\n",
    "a = [ 1, 2, 3 ]\n",
    "a.pop()"
   ]
  },
  {
   "cell_type": "code",
   "execution_count": 31,
   "id": "f6725308-8b50-4170-8c2c-467ba4d49fc1",
   "metadata": {},
   "outputs": [
    {
     "data": {
      "text/plain": [
       "[1, 2]"
      ]
     },
     "execution_count": 31,
     "metadata": {},
     "output_type": "execute_result"
    }
   ],
   "source": [
    "a"
   ]
  },
  {
   "cell_type": "code",
   "execution_count": 32,
   "id": "93d137e6-c2ee-4bd1-9238-82b96b2ee919",
   "metadata": {},
   "outputs": [
    {
     "data": {
      "text/plain": [
       "2"
      ]
     },
     "execution_count": 32,
     "metadata": {},
     "output_type": "execute_result"
    }
   ],
   "source": [
    "# pop(x)는 리스트의 x번째 요소를 돌려 주고 그 요소는 삭제한다.\n",
    "a = [1, 2, 3]\n",
    "a.pop(1)"
   ]
  },
  {
   "cell_type": "code",
   "execution_count": 33,
   "id": "d79461e0-9417-4513-9ffa-388b708ee9f7",
   "metadata": {},
   "outputs": [
    {
     "data": {
      "text/plain": [
       "[1, 3]"
      ]
     },
     "execution_count": 33,
     "metadata": {},
     "output_type": "execute_result"
    }
   ],
   "source": [
    "a"
   ]
  },
  {
   "cell_type": "code",
   "execution_count": 34,
   "id": "f5c36c97-fa32-4a44-9392-6aeb8c438883",
   "metadata": {},
   "outputs": [
    {
     "data": {
      "text/plain": [
       "1"
      ]
     },
     "execution_count": 34,
     "metadata": {},
     "output_type": "execute_result"
    }
   ],
   "source": [
    "# list.index( value ) : 값을 이용하여 위치를 찾는 기능\n",
    "\n",
    "list1 = ['a','b','q','f']\n",
    "list1.index('b')"
   ]
  },
  {
   "cell_type": "code",
   "execution_count": 35,
   "id": "664e6f8b-0f33-407e-b9b9-c4f58affd0e4",
   "metadata": {},
   "outputs": [
    {
     "data": {
      "text/plain": [
       "['a', 'b', 'q', 'f', 1, 2, 3]"
      ]
     },
     "execution_count": 35,
     "metadata": {},
     "output_type": "execute_result"
    }
   ],
   "source": [
    "# list.extend( [value1, value2] ) \n",
    "# extend(x)에서 x에는 리스트만 올 수 있으며 원래의 a 리스트에 x 리스트를 더하게 된다\n",
    "# a.extend([4,5])는 a += [4,5]와 동일 (.extend() > ‘+’연산자 보다 성능이 좋음)\n",
    "\n",
    "list1 = ['a', 'b', 'q', 'f']\n",
    "list2 = [1, 2, 3]\n",
    "list1.extend(list2)\n",
    "list1"
   ]
  },
  {
   "cell_type": "code",
   "execution_count": 36,
   "id": "f1ed2f75-18bc-4b15-b01d-f7534d89114c",
   "metadata": {},
   "outputs": [
    {
     "data": {
      "text/plain": [
       "[1, 2, 3, 4]"
      ]
     },
     "execution_count": 36,
     "metadata": {},
     "output_type": "execute_result"
    }
   ],
   "source": [
    "# list.append\n",
    "# append를 사전에서 검색해 보면 “덧붙이다, 첨부하다”라는 뜻이 있다. 이 뜻을 안다면 아래의 예가 금방 이해가 될 것이다. \n",
    "# append(x)는 리스트의 맨 마지막에 x를 추가시키는 함수이다.\n",
    "\n",
    "a = [1, 2, 3]\n",
    "a.append(4)\n",
    "a"
   ]
  },
  {
   "cell_type": "code",
   "execution_count": 37,
   "id": "0b3aab76-8a20-4120-85ba-64246c63d749",
   "metadata": {},
   "outputs": [
    {
     "data": {
      "text/plain": [
       "[1, 2, 3, 4, [5, 6]]"
      ]
     },
     "execution_count": 37,
     "metadata": {},
     "output_type": "execute_result"
    }
   ],
   "source": [
    "a.append([5, 6])\n",
    "a"
   ]
  },
  {
   "cell_type": "code",
   "execution_count": 38,
   "id": "613a9b2f-11f6-49ad-b0d6-fd8225f717da",
   "metadata": {},
   "outputs": [
    {
     "data": {
      "text/plain": [
       "['a', 'hi', 'b', 'q', 'f', 1, 2, 3]"
      ]
     },
     "execution_count": 38,
     "metadata": {},
     "output_type": "execute_result"
    }
   ],
   "source": [
    "# list.insert( index, value )\n",
    "# 원하는 위치에 값을 추가\n",
    "\n",
    "list1 = ['a', 'b', 'q', 'f', 1, 2, 3]\n",
    "list1.insert(1, 'hi')\n",
    "list1"
   ]
  },
  {
   "cell_type": "code",
   "execution_count": 42,
   "id": "25b67c99-3956-4453-a3cf-656b83e5bf29",
   "metadata": {},
   "outputs": [],
   "source": [
    "# list.sort( ) / list.reverse( )\n",
    "# 값을 순서대로 정렬 / 값을 역순으로 정렬\n",
    "\n",
    "list1 = ['a', 'hi', 'b', 'q', 'f', 1, 2, 3 ]"
   ]
  },
  {
   "cell_type": "code",
   "execution_count": 43,
   "id": "9fe8f073-7ce3-469f-9f3b-85ac4a4aaa4c",
   "metadata": {},
   "outputs": [
    {
     "ename": "TypeError",
     "evalue": "'<' not supported between instances of 'int' and 'str'",
     "output_type": "error",
     "traceback": [
      "\u001b[1;31m---------------------------------------------------------------------------\u001b[0m",
      "\u001b[1;31mTypeError\u001b[0m                                 Traceback (most recent call last)",
      "\u001b[1;32m~\\AppData\\Local\\Temp/ipykernel_19104/3465620299.py\u001b[0m in \u001b[0;36m<module>\u001b[1;34m\u001b[0m\n\u001b[1;32m----> 1\u001b[1;33m \u001b[0mlist1\u001b[0m\u001b[1;33m.\u001b[0m\u001b[0msort\u001b[0m\u001b[1;33m(\u001b[0m\u001b[1;33m)\u001b[0m\u001b[1;33m\u001b[0m\u001b[1;33m\u001b[0m\u001b[0m\n\u001b[0m\u001b[0;32m      2\u001b[0m \u001b[0mlist1\u001b[0m\u001b[1;33m\u001b[0m\u001b[1;33m\u001b[0m\u001b[0m\n",
      "\u001b[1;31mTypeError\u001b[0m: '<' not supported between instances of 'int' and 'str'"
     ]
    }
   ],
   "source": [
    "list1.sort()\n",
    "list1"
   ]
  },
  {
   "cell_type": "code",
   "execution_count": 44,
   "id": "e7a16581-d7a5-477a-ad3a-97a6f3731bee",
   "metadata": {},
   "outputs": [
    {
     "data": {
      "text/plain": [
       "[3, 2, 1, 'q', 'hi', 'f', 'b', 'a']"
      ]
     },
     "execution_count": 44,
     "metadata": {},
     "output_type": "execute_result"
    }
   ],
   "source": [
    "list1.reverse()\n",
    "list1"
   ]
  },
  {
   "cell_type": "code",
   "execution_count": 45,
   "id": "1f0ffdf0-edf5-4df5-b1b2-6709e6818447",
   "metadata": {},
   "outputs": [
    {
     "ename": "TypeError",
     "evalue": "'<' not supported between instances of 'str' and 'int'",
     "output_type": "error",
     "traceback": [
      "\u001b[1;31m---------------------------------------------------------------------------\u001b[0m",
      "\u001b[1;31mTypeError\u001b[0m                                 Traceback (most recent call last)",
      "\u001b[1;32m~\\AppData\\Local\\Temp/ipykernel_19104/3465620299.py\u001b[0m in \u001b[0;36m<module>\u001b[1;34m\u001b[0m\n\u001b[1;32m----> 1\u001b[1;33m \u001b[0mlist1\u001b[0m\u001b[1;33m.\u001b[0m\u001b[0msort\u001b[0m\u001b[1;33m(\u001b[0m\u001b[1;33m)\u001b[0m\u001b[1;33m\u001b[0m\u001b[1;33m\u001b[0m\u001b[0m\n\u001b[0m\u001b[0;32m      2\u001b[0m \u001b[0mlist1\u001b[0m\u001b[1;33m\u001b[0m\u001b[1;33m\u001b[0m\u001b[0m\n",
      "\u001b[1;31mTypeError\u001b[0m: '<' not supported between instances of 'str' and 'int'"
     ]
    }
   ],
   "source": [
    "list1.sort()\n",
    "list1"
   ]
  },
  {
   "cell_type": "code",
   "execution_count": null,
   "id": "9efabdf2-0991-4351-b9a1-3b7b87d34846",
   "metadata": {},
   "outputs": [],
   "source": []
  }
 ],
 "metadata": {
  "kernelspec": {
   "display_name": "Python 3 (ipykernel)",
   "language": "python",
   "name": "python3"
  },
  "language_info": {
   "codemirror_mode": {
    "name": "ipython",
    "version": 3
   },
   "file_extension": ".py",
   "mimetype": "text/x-python",
   "name": "python",
   "nbconvert_exporter": "python",
   "pygments_lexer": "ipython3",
   "version": "3.9.7"
  }
 },
 "nbformat": 4,
 "nbformat_minor": 5
}
