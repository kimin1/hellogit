{
 "cells": [
  {
   "cell_type": "code",
   "execution_count": 1,
   "id": "f7d917a3-a3c5-400c-94b7-11bef48095e2",
   "metadata": {},
   "outputs": [],
   "source": [
    "# 내장 모듈\n",
    "\n",
    "# 시스템 관련 모듈 참조하기\n",
    "# 모듈 참조\n",
    "import sys  # 현재 시스템의 정보를 제공하는 모듈\n",
    "import os   # 운영체제의 기능에 접근할 수 있는 모듈"
   ]
  },
  {
   "cell_type": "code",
   "execution_count": 2,
   "id": "3a4e0cf2-615a-419c-8a40-77d08ab77dc8",
   "metadata": {},
   "outputs": [
    {
     "data": {
      "text/plain": [
       "'win32'"
      ]
     },
     "execution_count": 2,
     "metadata": {},
     "output_type": "execute_result"
    }
   ],
   "source": [
    "# 현재 운영체제 이름 얻기\n",
    "# 원도우 = win32, Mac=darwin, Linux=linux1 혹은 linux2로 표시된다.\n",
    "sys.platform"
   ]
  },
  {
   "cell_type": "code",
   "execution_count": 3,
   "id": "4409b405-7b56-4c13-8857-5cd45d8b76d0",
   "metadata": {},
   "outputs": [
    {
     "data": {
      "text/plain": [
       "'C:\\\\Users\\\\k7132\\\\Foundation'"
      ]
     },
     "execution_count": 3,
     "metadata": {},
     "output_type": "execute_result"
    }
   ],
   "source": [
    "# 현재 작업중이 폴더(Current Wording Directory)위치 확인\n",
    "# 소스파일이 위치한 폴더\n",
    "os.getcwd()"
   ]
  },
  {
   "cell_type": "code",
   "execution_count": 4,
   "id": "5a9e8dce-f6fa-4832-ae13-9eeb17aeefbf",
   "metadata": {},
   "outputs": [
    {
     "data": {
      "text/plain": [
       "1"
      ]
     },
     "execution_count": 4,
     "metadata": {},
     "output_type": "execute_result"
    }
   ],
   "source": [
    "# 터미널 명령어 실행하기\n",
    "# os.system(명령어)는 터미널 명령어를 파이썬을통해서 실행할 수 있다.\n",
    "# - 원도우 : explorer 해당경로 폴더창 여는 명령어\n",
    "# - 맥이나 리눅스 : open 폴더경로 명령어가 같은 역할을 수행한다.\n",
    "\n",
    "# 현재 폴더 위치\n",
    "path = os.getcwd()\n",
    "\n",
    "# 운영체제 종류에 따른 분기\n",
    "if sys.platform == 'win32':\n",
    "    command = 'explorer %s' % path\n",
    "else:\n",
    "    command = 'open %s' % path\n",
    "    \n",
    "# 지정된 경로의 폴더가 열림\n",
    "os.system(command)"
   ]
  },
  {
   "cell_type": "code",
   "execution_count": 5,
   "id": "c729c31b-b0ee-4f33-bfdf-f2ae2f461826",
   "metadata": {},
   "outputs": [
    {
     "name": "stdout",
     "output_type": "stream",
     "text": [
      "['#내장함수.ipynb', '#외장함수,메소드(메소드,리스트메소드).ipynb', '.ipynb_checkpoints', 'CSV파일 처리.ipynb', 'grade.csv', 'grade2.csv', 'hellopython.txt', 'helloworld.txt', 'my_mod1.py', 'my_mod2.py', 'my_mod3.py', 'quiz.ipynb', 'quiz2.ipynb', 'quiz3.ipynb', 'quiz응용2.ipynb', '__pycache__', '내장 모듈.ipynb', '딕셔너리.ipynb', '리스트.ipynb', '모듈의_이해.ipynb', '문법의 중첩사용.ipynb', '문자열.ipynb', '문자열포메팅.ipynb', '문자열함수.ipynb', '반복문(for문).ipynb', '반복문(while문).ipynb', '변수.ipynb', '변수의 특성.ipynb', '연산자.ipynb', '자주 등장하는 반복문 예제 패턴.ipynb', '조건문(if문).ipynb', '클래스와 객체(1).ipynb', '클래스와 객체(2).ipynb', '파이썬 기본 내장 함수.ipynb', '파이썬 기본 문법 응용 문제(1)_풀이.ipynb', '파이썬 기본 문법 응용 문제(2).ipynb', '파일 입출력.ipynb', '함수.ipynb']\n"
     ]
    }
   ],
   "source": [
    "# 지정된 경로의 하위 항목 조회\n",
    "\n",
    "# 현재 폴더 내의 하위 항목들의 이름을 리스트로 리턴받음\n",
    "# -> \"./\"혹은 \".\"은 현재 폴더라는 의미\n",
    "# -> \"../ 는 상위 폴더라는 의미\"\n",
    "ls = os.listdir('./')\n",
    "print(ls)"
   ]
  },
  {
   "cell_type": "code",
   "execution_count": 6,
   "id": "5cf3c1a4-e5b7-47a3-84a8-6015a92f5ad0",
   "metadata": {},
   "outputs": [
    {
     "name": "stdout",
     "output_type": "stream",
     "text": [
      "False\n"
     ]
    }
   ],
   "source": [
    "# 경로 문자열 관련 기능\n",
    "\n",
    "# 특정 폴더나 파일이 존재하는 지 확인 -> 상대경로일 경우 현재 소스파일 기준\n",
    "k = os.path.exists('./hello')\n",
    "print(k)"
   ]
  },
  {
   "cell_type": "code",
   "execution_count": 7,
   "id": "26608da3-150b-4b4b-84c7-c0e61bb8a4e9",
   "metadata": {},
   "outputs": [
    {
     "name": "stdout",
     "output_type": "stream",
     "text": [
      "C:\\Users\\k7132\\Foundation\\hello\n"
     ]
    }
   ],
   "source": [
    "# 절대경로 확인 -> 존재하지 않더라고 경로값은 확인 가능\n",
    "print( os.path.abspath('./hello'))"
   ]
  },
  {
   "cell_type": "code",
   "execution_count": 8,
   "id": "798a30f7-5cca-4043-bf61-54a9820df50e",
   "metadata": {},
   "outputs": [
    {
     "name": "stdout",
     "output_type": "stream",
     "text": [
      "hello 폴더를 생성했습니다.\n"
     ]
    }
   ],
   "source": [
    "# 폴더의 생성과 삭제\n",
    "# - rmdir() 함수는 비어 있는 폴더만 삭제 가능하다\n",
    "# - 비어 있지 않은 폴더의 경우 뒤에서 소개하는 shutil모듈의 내용을 참고해야 한다\n",
    "if os.path.exists('./hello') == False:\n",
    "    # 없다면 생성\n",
    "    os.mkdir('./hello')\n",
    "    print('hello 폴더를 생성했습니다.')\n",
    "else:\n",
    "    # 있다면 삭제 --> 빈 폴더만 삭제가능\n",
    "    os.rmdir('./hello')\n",
    "    print('hello 폴더를 삭제했습니다.')"
   ]
  },
  {
   "cell_type": "code",
   "execution_count": 9,
   "id": "fabbfc8c-3186-4a3f-a981-f6bfd0e4f586",
   "metadata": {},
   "outputs": [],
   "source": [
    "# 모듈 참조하기\n",
    "import glob as gl"
   ]
  },
  {
   "cell_type": "code",
   "execution_count": 11,
   "id": "e0c684d6-7a4c-4ffc-8e83-0fa23f973dfa",
   "metadata": {},
   "outputs": [
    {
     "name": "stdout",
     "output_type": "stream",
     "text": [
      "['#내장함수.ipynb', '#외장함수,메소드(메소드,리스트메소드).ipynb', 'CSV파일 처리.ipynb', 'grade.csv', 'grade2.csv', 'hello', 'hellopython.txt', 'helloworld.txt', 'my_mod1.py', 'my_mod2.py', 'my_mod3.py', 'quiz.ipynb', 'quiz2.ipynb', 'quiz3.ipynb', 'quiz응용2.ipynb', '__pycache__', '내장 모듈.ipynb', '딕셔너리.ipynb', '리스트.ipynb', '모듈의_이해.ipynb', '문법의 중첩사용.ipynb', '문자열.ipynb', '문자열포메팅.ipynb', '문자열함수.ipynb', '반복문(for문).ipynb', '반복문(while문).ipynb', '변수.ipynb', '변수의 특성.ipynb', '연산자.ipynb', '자주 등장하는 반복문 예제 패턴.ipynb', '조건문(if문).ipynb', '클래스와 객체(1).ipynb', '클래스와 객체(2).ipynb', '파이썬 기본 내장 함수.ipynb', '파이썬 기본 문법 응용 문제(1)_풀이.ipynb', '파이썬 기본 문법 응용 문제(2).ipynb', '파일 입출력.ipynb', '함수.ipynb']\n"
     ]
    }
   ],
   "source": [
    "# 현재 폴더의 모든 하위 요소들 조회\n",
    "ls = gl.glob('*')\n",
    "print(ls)"
   ]
  },
  {
   "cell_type": "code",
   "execution_count": 12,
   "id": "9d4266d3-1470-4b59-a18c-a1313411e1a1",
   "metadata": {},
   "outputs": [
    {
     "name": "stdout",
     "output_type": "stream",
     "text": [
      "['my_mod1.py', 'my_mod2.py', 'my_mod3.py']\n"
     ]
    }
   ],
   "source": [
    "# 현재 폴더에서 \".py\"로 끝나는 모든 요소들 조회\n",
    "ls = gl.glob('*.py')\n",
    "print(ls)"
   ]
  },
  {
   "cell_type": "code",
   "execution_count": 13,
   "id": "96677f40-470e-4906-b349-4a49ed6e390d",
   "metadata": {},
   "outputs": [
    {
     "name": "stdout",
     "output_type": "stream",
     "text": [
      "[]\n"
     ]
    }
   ],
   "source": [
    "# 현재 폴더에서 \"5\"를 포함하는 모든 요소들 조회\n",
    "ls = gl.glob('*5*')\n",
    "print(ls)"
   ]
  },
  {
   "cell_type": "code",
   "execution_count": 14,
   "id": "03890898-4044-426a-a640-7f6a80b4cb44",
   "metadata": {},
   "outputs": [],
   "source": [
    "# 파일, 폴더의 이동\n",
    "# shutil 모듈의 move() 함수를 사용하면 파일을 이동시킬 수 있다.\n",
    "\n",
    "# 폴더 트리 복사\n",
    "# 현재 폴더 내의 need 폴더를 python으로 복사\n",
    "# shutil.copytree(\"need\",\"python\")"
   ]
  },
  {
   "cell_type": "code",
   "execution_count": 27,
   "id": "790833ac-b095-4576-8654-86f78715b4a5",
   "metadata": {},
   "outputs": [
    {
     "name": "stdout",
     "output_type": "stream",
     "text": [
      "python 폴더와 하위 폴더들을 생성 했습니다.\n",
      "python 폴더를 python1로 이동 했습니다.\n",
      "python1폴더를 python2로 복사 했습니다.\n"
     ]
    }
   ],
   "source": [
    "# 폴더 복사, 삭제 작업\n",
    "import shutil  # 파일, 폴더 관련 작업에 확장된 기능을 제공\n",
    "\n",
    "# 현재 작업 위치에서 \"python1\"이라는 이름의 폴더와 \"python2\"라는 폴더가 없다면?\n",
    "if os.path.exists('python1') == False and os.path.exists('python2') == False :\n",
    "    # 순환적으로 폴더를 생성함\n",
    "    # -> exist_ok=True 옵션은 이미 존재하더라도 에러 발생 안함\n",
    "    os.makedirs('python/test/hello/world', exist_ok=True)\n",
    "    print('python 폴더와 하위 폴더들을 생성 했습니다.')\n",
    "    \n",
    "    # 파일의 이동(같은 위치에서 이름만 변경하는 기능도 겸함)\n",
    "    # -> 이미 대상이 존재할 경우 에러이므로 사전에 존재여부 검사 필요함\n",
    "    if os.path.exists('python1') == False:\n",
    "        shutil.move('python','python1')\n",
    "        print('python 폴더를 python1로 이동 했습니다.')\n",
    "        \n",
    "    # 폴더 복사\n",
    "    # -> 이미 대상이 존재할 경우 에러이므로 사전에 존재여부 검사 필요함\n",
    "    if os.path.exists('python2') == False:\n",
    "        shutil.copytree('python1','python2')\n",
    "        print('python1폴더를 python2로 복사 했습니다.')\n",
    "    \n",
    "# 그렇지 않다면?    \n",
    "else:\n",
    "    # 비어있지 않은 폴더도 강제 삭제 -> 존재하지 않는 폴더인 경우 에러\n",
    "    shtil.rmtree('python1')\n",
    "    shtil.rmtree('python2')\n",
    "    print('python1, python2 폴더가 삭제되었습니다.')\n"
   ]
  },
  {
   "cell_type": "code",
   "execution_count": null,
   "id": "518fe0ec-b2fb-4a44-b97e-58011efb6623",
   "metadata": {},
   "outputs": [],
   "source": []
  }
 ],
 "metadata": {
  "kernelspec": {
   "display_name": "Python 3 (ipykernel)",
   "language": "python",
   "name": "python3"
  },
  "language_info": {
   "codemirror_mode": {
    "name": "ipython",
    "version": 3
   },
   "file_extension": ".py",
   "mimetype": "text/x-python",
   "name": "python",
   "nbconvert_exporter": "python",
   "pygments_lexer": "ipython3",
   "version": "3.9.7"
  }
 },
 "nbformat": 4,
 "nbformat_minor": 5
}
