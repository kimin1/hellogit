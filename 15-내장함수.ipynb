{
 "cells": [
  {
   "cell_type": "code",
   "execution_count": 1,
   "id": "86e7b263-a879-44de-a61c-33e25753019b",
   "metadata": {},
   "outputs": [
    {
     "name": "stdout",
     "output_type": "stream",
     "text": [
      "Hello World\n"
     ]
    }
   ],
   "source": [
    "# 내장함수\n",
    "\n",
    "# print() 함수의 다양한 사용 방법(1)\n",
    "\n",
    "# 기본형\n",
    "print(\"Hello World\")"
   ]
  },
  {
   "cell_type": "code",
   "execution_count": 2,
   "id": "d342685d-546c-4ec1-8111-d219b585e2e8",
   "metadata": {},
   "outputs": [
    {
     "name": "stdout",
     "output_type": "stream",
     "text": [
      "Lifeisshort\n",
      "Lifeisshort\n"
     ]
    }
   ],
   "source": [
    "# 문장 여러개를 공백으로 구분하여 지정할 경우 \"+\"연산과 동일하다\n",
    "# -> 단순한 문자열 연결\n",
    "print(\"Life\"+\"is\"+\"short\")\n",
    "print(\"Life\" \"is\" \"short\")"
   ]
  },
  {
   "cell_type": "code",
   "execution_count": 3,
   "id": "ae138cc4-ce70-4061-8f25-b453ef536e98",
   "metadata": {},
   "outputs": [
    {
     "name": "stdout",
     "output_type": "stream",
     "text": [
      "Life is short 100\n"
     ]
    }
   ],
   "source": [
    "# 문장을 콤마로 구분하면 띄어쓰기가 수행된다\n",
    "# -> 문자열 이외의 다른 타입의 변수도 사용 가능함\n",
    "a = 100\n",
    "print(\"Life\", \"is\", \"short\", a)"
   ]
  },
  {
   "cell_type": "code",
   "execution_count": 4,
   "id": "97fb774b-5517-48fd-b0dc-8ddfc283ed4b",
   "metadata": {},
   "outputs": [
    {
     "name": "stdout",
     "output_type": "stream",
     "text": [
      "Life is short "
     ]
    }
   ],
   "source": [
    "# print()함수의 다양한 사용 방법(2)\n",
    "\n",
    "# 출력할 내용을 구성하고 마지막 'end=\"\"'라고 지정하면 줄바꿈을 수행하지 않는다\n",
    "print(\"Life \", end=\"\")\n",
    "print(\"is \", end=\"\")\n",
    "print(\"short \", end=\"\")"
   ]
  },
  {
   "cell_type": "code",
   "execution_count": 5,
   "id": "3eb0232e-2f16-481c-9170-3a754b1d19c9",
   "metadata": {},
   "outputs": [
    {
     "name": "stdout",
     "output_type": "stream",
     "text": [
      "you need Python~~^^)/"
     ]
    }
   ],
   "source": [
    "# end는 출력후 마무리를 어떻게 할 지 지정하는 기능\n",
    "# -> 기본값은 (줄바꿈문자)\"\\n\"으로 지정되어 있다\n",
    "print(\"you\", \"need\", \"Python\", end=\"~~^^)/\")"
   ]
  },
  {
   "cell_type": "code",
   "execution_count": 6,
   "id": "62438c5c-6eb7-48d7-8349-1536e21425b1",
   "metadata": {},
   "outputs": [
    {
     "name": "stdout",
     "output_type": "stream",
     "text": [
      "<class 'int'>\n"
     ]
    }
   ],
   "source": [
    "# 변수의 자료형 조회\n",
    "a = 123\n",
    "print( type(a))"
   ]
  },
  {
   "cell_type": "code",
   "execution_count": 7,
   "id": "54d97fc5-3b2e-4ebe-8676-1098d24ea95f",
   "metadata": {},
   "outputs": [
    {
     "name": "stdout",
     "output_type": "stream",
     "text": [
      "<class 'float'>\n"
     ]
    }
   ],
   "source": [
    "b = 123.45\n",
    "print( type(b))"
   ]
  },
  {
   "cell_type": "code",
   "execution_count": 8,
   "id": "5f10c39d-435e-4f94-b1c0-d24526383a8b",
   "metadata": {},
   "outputs": [
    {
     "name": "stdout",
     "output_type": "stream",
     "text": [
      "<class 'str'>\n",
      "<class 'bool'>\n",
      "<class 'list'>\n",
      "<class 'tuple'>\n",
      "<class 'dict'>\n"
     ]
    }
   ],
   "source": [
    "# 변수에 저장하지 않고 값을 직접 전달하여 자료형 조회\n",
    "print( type(\"hello\"))\n",
    "print( type( True ))\n",
    "print( type( [ 1, 2 ] ))\n",
    "print( type( ( 1, 2 ) ))\n",
    "print( type({\"name\": \"Python\"} ))"
   ]
  },
  {
   "cell_type": "code",
   "execution_count": 40,
   "id": "184538d8-e19c-4163-8d21-62a21888e934",
   "metadata": {},
   "outputs": [
    {
     "name": "stdout",
     "output_type": "stream",
     "text": [
      "True\n"
     ]
    }
   ],
   "source": [
    "# 변수의 자료형 검사\n",
    "\n",
    "# 첫 번째 파라미터는 검사하고자 하는 변수\n",
    "# 두 번째 파라미터는 type()함수에서 표시하는 자료형(클래스) 이름\n",
    "i = {\"name\": \"Python\"}\n",
    "k = isinstance(i, dict)\n",
    "print(k)"
   ]
  },
  {
   "cell_type": "code",
   "execution_count": 10,
   "id": "0ebe8ad0-8e99-4242-9714-4673881515f3",
   "metadata": {},
   "outputs": [
    {
     "name": "stdout",
     "output_type": "stream",
     "text": [
      "a는 정수 타입 입니다.\n"
     ]
    }
   ],
   "source": [
    "a = 100\n",
    "if isinstance(a, int):\n",
    "    print(\"a는 정수 타입 입니다.\")\n",
    "else:\n",
    "    print(\"a는 정수 타입이 아닙니다.\")"
   ]
  },
  {
   "cell_type": "code",
   "execution_count": 11,
   "id": "f6ece959-33cc-4f3a-8a42-a48dd6311d68",
   "metadata": {},
   "outputs": [
    {
     "name": "stdout",
     "output_type": "stream",
     "text": [
      "12345\n",
      "168\n"
     ]
    }
   ],
   "source": [
    "# 문자열과 숫자의 상호 변환\n",
    "# 변수의 타입을 변환하는 처리를 데이터 형 변환이라고 한다\n",
    "\n",
    "# 문자열을 숫자로 변환하기\n",
    "x = \"123\"\n",
    "y = \"45\"\n",
    "\n",
    "# -> 문자열끼리 연결 : 12345\n",
    "print(x+y)\n",
    "\n",
    "# -> 문자열을 정수로 변환\n",
    "x1 = int(x)  # 123\n",
    "y1 = int(y)  # 45\n",
    "print(x1 + y1)"
   ]
  },
  {
   "cell_type": "code",
   "execution_count": 12,
   "id": "459b66f7-54a7-4c1f-8cf0-2dedc3d5595d",
   "metadata": {},
   "outputs": [
    {
     "name": "stdout",
     "output_type": "stream",
     "text": [
      "168.0\n"
     ]
    }
   ],
   "source": [
    "# -> 문자열이나 정수형을 실수형태로 변환\n",
    "x2 = float(x)   # -> 문자열을 실수로 변환 = 123.0\n",
    "y2 = float(y1)  # -> 정수형을 실수로 변환 = 45.0\n",
    "print(x2 + y2)"
   ]
  },
  {
   "cell_type": "code",
   "execution_count": 13,
   "id": "0c6f6ba1-11d7-4ce3-a0ea-bbfdd3e89710",
   "metadata": {},
   "outputs": [
    {
     "name": "stdout",
     "output_type": "stream",
     "text": [
      "256\n"
     ]
    }
   ],
   "source": [
    "# 간단한 연산 기능 함수\n",
    "\n",
    "# 제곱 구하기 -> '2**8' 연산과 동일한 결과\n",
    "a = pow(2, 8)\n",
    "print(a)"
   ]
  },
  {
   "cell_type": "code",
   "execution_count": 15,
   "id": "4db45c7f-9165-436e-acfb-32a00da68d58",
   "metadata": {},
   "outputs": [
    {
     "name": "stdout",
     "output_type": "stream",
     "text": [
      "100\n",
      "100\n",
      "12.345\n"
     ]
    }
   ],
   "source": [
    "# 절대값 구하기\n",
    "a = abs(100)\n",
    "print(a)\n",
    "\n",
    "b = abs(-100)\n",
    "print(b)\n",
    "\n",
    "c = abs(-12.345)\n",
    "print(c)"
   ]
  },
  {
   "cell_type": "code",
   "execution_count": 16,
   "id": "429363b0-bcc7-4bff-b1ea-b2d66561261e",
   "metadata": {},
   "outputs": [
    {
     "name": "stdout",
     "output_type": "stream",
     "text": [
      "(2, 1)\n"
     ]
    }
   ],
   "source": [
    "# 나눗셈의 몫과 나머지 구하기\n",
    "\n",
    "# 나눗셈의 연산 결과를 정수 부분의 몫과 나머지로 계산하여 튜플로 리턴\n",
    "c = divmod(7, 3)\n",
    "print(c)"
   ]
  },
  {
   "cell_type": "code",
   "execution_count": 17,
   "id": "fa42cb49-3fbd-4414-9ada-c710ade2dc79",
   "metadata": {},
   "outputs": [
    {
     "name": "stdout",
     "output_type": "stream",
     "text": [
      "33일 8시간\n"
     ]
    }
   ],
   "source": [
    "hours = 800\n",
    "k = divmod(800, 24)\n",
    "tpl = \"{0}일 {1}시간\"\n",
    "print( tpl.format(k[0],k[1]))"
   ]
  },
  {
   "cell_type": "code",
   "execution_count": 38,
   "id": "2e1e410f-ba7d-4618-b465-c7ca8272a90c",
   "metadata": {},
   "outputs": [
    {
     "name": "stdout",
     "output_type": "stream",
     "text": [
      "37일 12시간\n"
     ]
    }
   ],
   "source": [
    "# 결과가 튜플로 리턴되므로 값을 서로 다른 변수에 나누어 저장할 수 있다\n",
    "days, hours = divmod(900, 24)\n",
    "tpl = \"{0}일 {1}시간\"\n",
    "tpl = \"{0}일 {1}시간\"\n",
    "print( tpl.format(days, hours))"
   ]
  },
  {
   "cell_type": "code",
   "execution_count": 20,
   "id": "1477eebd-a7bc-493e-924c-bef0ee0d472f",
   "metadata": {},
   "outputs": [
    {
     "name": "stdout",
     "output_type": "stream",
     "text": [
      "3\n"
     ]
    }
   ],
   "source": [
    "# 연속성 자료형의 길이 구하기\n",
    "\n",
    "# 반복가능한 자료형(리스트, 튜플, 문자열, 딕셔너리)의 길이 구하기\n",
    "# -> 문자열인 경우 각 글자를 리스트의 원소로 변환함\n",
    "a = [ 1, 2, 3 ]\n",
    "size = len(a)\n",
    "print(size)"
   ]
  },
  {
   "cell_type": "code",
   "execution_count": 21,
   "id": "5a2b6102-4bce-4fc1-9a96-b939bd22b0ce",
   "metadata": {},
   "outputs": [
    {
     "name": "stdout",
     "output_type": "stream",
     "text": [
      "3\n",
      "1\n",
      "6\n"
     ]
    }
   ],
   "source": [
    "# 최대값, 최소값, 합계 구하기\n",
    "\n",
    "# 리스트, 튜플 중에서\n",
    "# 최대값, 최소값, 합계 구하기 -> 문자열은 계산 불가\n",
    "a = [ 1, 2, 3 ]\n",
    "print( max(a) )\n",
    "print( min(a) )\n",
    "print( sum(a) )"
   ]
  },
  {
   "cell_type": "code",
   "execution_count": 22,
   "id": "034991af-9e12-47f8-a4b5-f0cc9a0caf3d",
   "metadata": {},
   "outputs": [
    {
     "name": "stdout",
     "output_type": "stream",
     "text": [
      "2.0\n"
     ]
    }
   ],
   "source": [
    "# 평균을 구하는 기능은 없기 때문에 직접 계산해야 함\n",
    "avg = sum(a) / len(a)\n",
    "print(avg)"
   ]
  },
  {
   "cell_type": "code",
   "execution_count": 26,
   "id": "5d8c2a45-0eb9-42cb-ab27-09342031223c",
   "metadata": {},
   "outputs": [
    {
     "name": "stdout",
     "output_type": "stream",
     "text": [
      "['P', 'y', 't', 'h', 'o', 'n']\n"
     ]
    }
   ],
   "source": [
    "# 리스트, 튜플 상호 변환\n",
    "\n",
    "# 반복 가능한 자료형을 리스트로 변환\n",
    "# 문자열의 경우 글자들의 모음으로 변환함\n",
    "\n",
    "a = \"Python\"\n",
    "b = list(a)\n",
    "#b = tuple(a)\n",
    "print(b)"
   ]
  },
  {
   "cell_type": "code",
   "execution_count": 27,
   "id": "c0bcf15b-113a-45b9-b2f2-19e85fdcc2eb",
   "metadata": {},
   "outputs": [
    {
     "name": "stdout",
     "output_type": "stream",
     "text": [
      "[1, 2, 3]\n"
     ]
    }
   ],
   "source": [
    "# 튜플을 리스트 혹은 튜플로 변환함\n",
    "c = (1, 2, 3)\n",
    "d = list(c)\n",
    "#d = tuple(c)\n",
    "print(d)"
   ]
  },
  {
   "cell_type": "code",
   "execution_count": 28,
   "id": "21e3dfae-8614-43c7-a2a1-93906554fc6c",
   "metadata": {},
   "outputs": [
    {
     "name": "stdout",
     "output_type": "stream",
     "text": [
      "[10, 20, 30]\n"
     ]
    }
   ],
   "source": [
    "# 리스트를 리스트 혹은 튜플로 변환함\n",
    "e = [10, 20, 30]\n",
    "f = list(e)\n",
    "#f = tuple(e)\n",
    "print(f)"
   ]
  },
  {
   "cell_type": "code",
   "execution_count": 41,
   "id": "60da6b2e-a56c-451b-88e5-4c7733d4389d",
   "metadata": {},
   "outputs": [
    {
     "name": "stdout",
     "output_type": "stream",
     "text": [
      "['a', 'b']\n"
     ]
    }
   ],
   "source": [
    "# 딕셔너리의 key와 value 분리\n",
    "\n",
    "# 딕셔너리일 경우 key만 추려서 리스트 혹은 튜플로 변환하기\n",
    "g = {\"a\": 100, \"b\":200}\n",
    "h = list(g.keys())\n",
    "#h = tuple(g.key())\n",
    "print(h)"
   ]
  },
  {
   "cell_type": "code",
   "execution_count": 31,
   "id": "6846f74e-bd1e-4400-a161-fe0e6f51deeb",
   "metadata": {},
   "outputs": [
    {
     "name": "stdout",
     "output_type": "stream",
     "text": [
      "[100, 200]\n"
     ]
    }
   ],
   "source": [
    "# 딕셔너리일 경우 valse만 추려서 리스트 혹은 튜플로 변환하기\n",
    "i = list(g.values())\n",
    "#i = tuple(g.values())\n",
    "print(i)"
   ]
  },
  {
   "cell_type": "code",
   "execution_count": 32,
   "id": "744f1a28-0581-4d60-a28d-db7d88460f10",
   "metadata": {},
   "outputs": [
    {
     "name": "stdout",
     "output_type": "stream",
     "text": [
      "<class 'range'>\n",
      "range(1, 10)\n"
     ]
    }
   ],
   "source": [
    "# 1부터 10전까지 1씩 증가하는 range 객체 생성\n",
    "k = range(1, 10)\n",
    "print(type(k))\n",
    "print(k)"
   ]
  },
  {
   "cell_type": "code",
   "execution_count": 33,
   "id": "1f2ffb4c-f20c-4bf0-9e6a-a1efa9da7dc1",
   "metadata": {},
   "outputs": [
    {
     "name": "stdout",
     "output_type": "stream",
     "text": [
      "[1, 2, 3, 4, 5, 6, 7, 8, 9]\n"
     ]
    }
   ],
   "source": [
    "# 생성된 수열 객체를 리스트로 변환\n",
    "z = list(k)\n",
    "print(z)"
   ]
  },
  {
   "cell_type": "code",
   "execution_count": 34,
   "id": "02e143f5-e3df-480d-8477-4d2ff663886b",
   "metadata": {},
   "outputs": [
    {
     "name": "stdout",
     "output_type": "stream",
     "text": [
      "[1, 4, 7]\n"
     ]
    }
   ],
   "source": [
    "# 1부터 10 전까지 3씩 증가하는 range 객체를 list 변환\n",
    "k = list(range(1, 10, 3))\n",
    "print(k)"
   ]
  },
  {
   "cell_type": "code",
   "execution_count": 35,
   "id": "ce040981-923a-41de-9b44-dbc5f3965b7a",
   "metadata": {},
   "outputs": [
    {
     "name": "stdout",
     "output_type": "stream",
     "text": [
      "[1, 2, 3, 4, 5]\n"
     ]
    }
   ],
   "source": [
    "# 리스트의 정렬\n",
    "\n",
    "# 리스트 자체를 정렬하기\n",
    "data = [ 1, 4, 2, 3, 5 ]\n",
    "data.sort()\n",
    "print(data) # 원본 리스트 자체가 정렬됨, 리턴값은 없음"
   ]
  },
  {
   "cell_type": "code",
   "execution_count": 36,
   "id": "fad5a066-4841-4178-a109-33b6ca37f4db",
   "metadata": {},
   "outputs": [
    {
     "name": "stdout",
     "output_type": "stream",
     "text": [
      "[1, 4, 2, 3, 5]\n",
      "[1, 2, 3, 4, 5]\n"
     ]
    }
   ],
   "source": [
    "data = [ 1, 4 ,2, 3, 5 ]\n",
    "k = sorted(data)\n",
    "print(data) # 원본은 변화 없음\n",
    "print(k)    # 정렬된 결과가 리턴됨"
   ]
  },
  {
   "cell_type": "code",
   "execution_count": null,
   "id": "bc8b64b2-5351-4ccd-b7dd-3cff88394bdb",
   "metadata": {},
   "outputs": [],
   "source": []
  }
 ],
 "metadata": {
  "kernelspec": {
   "display_name": "Python 3 (ipykernel)",
   "language": "python",
   "name": "python3"
  },
  "language_info": {
   "codemirror_mode": {
    "name": "ipython",
    "version": 3
   },
   "file_extension": ".py",
   "mimetype": "text/x-python",
   "name": "python",
   "nbconvert_exporter": "python",
   "pygments_lexer": "ipython3",
   "version": "3.9.7"
  }
 },
 "nbformat": 4,
 "nbformat_minor": 5
}
