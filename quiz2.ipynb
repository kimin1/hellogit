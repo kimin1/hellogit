{
 "cells": [
  {
   "cell_type": "code",
   "execution_count": 3,
   "id": "983079db-c1f0-428d-9a27-8621d1bb3866",
   "metadata": {},
   "outputs": [
    {
     "name": "stdout",
     "output_type": "stream",
     "text": [
      "x=3, sum=3\n",
      "x=6, sum=9\n",
      "x=9, sum=18\n",
      "x=12, sum=30\n",
      "x=15, sum=45\n",
      "x=18, sum=63\n",
      "x=21, sum=84\n",
      "x=24, sum=108\n",
      "x=27, sum=135\n",
      "x=30, sum=165\n",
      "x=33, sum=198\n",
      "x=36, sum=234\n",
      "x=39, sum=273\n",
      "x=42, sum=315\n",
      "x=45, sum=360\n",
      "x=48, sum=408\n",
      "x=51, sum=459\n",
      "x=54, sum=513\n",
      "x=57, sum=570\n",
      "x=60, sum=630\n",
      "x=63, sum=693\n",
      "x=66, sum=759\n",
      "x=69, sum=828\n",
      "x=72, sum=900\n",
      "x=75, sum=975\n",
      "x=78, sum=1053\n",
      "x=81, sum=1134\n",
      "x=84, sum=1218\n",
      "x=87, sum=1305\n",
      "x=90, sum=1395\n",
      "x=93, sum=1488\n",
      "x=96, sum=1584\n",
      "x=99, sum=1683\n"
     ]
    }
   ],
   "source": [
    "# 문제1\n",
    "x=3\n",
    "sum=0\n",
    "\n",
    "while x <= 100:\n",
    "    sum += x\n",
    "    print (\"x=%d, sum=%d\" %(x,sum))\n",
    "    x += 3"
   ]
  },
  {
   "cell_type": "code",
   "execution_count": 11,
   "id": "5d24bf3f-6d7a-4e67-805d-f4866c2e96c9",
   "metadata": {},
   "outputs": [
    {
     "name": "stdout",
     "output_type": "stream",
     "text": [
      "1683\n"
     ]
    }
   ],
   "source": [
    "total = 0 \n",
    "for i in range(1, 101):\n",
    "    if i % 3 ==0:\n",
    "        total += i\n",
    "print(total)"
   ]
  },
  {
   "cell_type": "code",
   "execution_count": 11,
   "id": "ae39262f-33a1-435a-8130-e06a4dc0b869",
   "metadata": {},
   "outputs": [
    {
     "name": "stdin",
     "output_type": "stream",
     "text": [
      " 숫자를 입력하세요 :  3\n"
     ]
    },
    {
     "name": "stdout",
     "output_type": "stream",
     "text": [
      "3의 값은 6  \n"
     ]
    }
   ],
   "source": [
    "# 문제2\n",
    "# 숫자 x를 입력받은 후 x에 대한 팩토리얼을 for문 활용\n",
    "a=int(input(\" 숫자를 입력하세요 : \"))\n",
    "x=1\n",
    "for numbers in range(1, a+1):\n",
    "    x *=numbers\n",
    "print(\"%d의 값은 %d  \" % (a,x))"
   ]
  },
  {
   "cell_type": "code",
   "execution_count": null,
   "id": "c4afed45-b250-4cf2-a17d-1c48be3421dd",
   "metadata": {},
   "outputs": [
    {
     "name": "stdout",
     "output_type": "stream",
     "text": [
      "a=0, x=0\n",
      "a=2, x=2\n",
      "a=4, x=6\n",
      "a=6, x=12\n",
      "a=8, x=20\n",
      "a=10, x=30\n",
      "a=12, x=42\n",
      "a=14, x=56\n",
      "a=16, x=72\n",
      "a=18, x=90\n",
      "a=20, x=110\n",
      "a=22, x=132\n",
      "a=24, x=156\n",
      "a=26, x=182\n",
      "a=28, x=210\n",
      "a=30, x=240\n",
      "a=32, x=272\n",
      "a=34, x=306\n",
      "a=36, x=342\n",
      "a=38, x=380\n",
      "a=40, x=420\n",
      "a=42, x=462\n",
      "a=44, x=506\n",
      "a=46, x=552\n",
      "a=48, x=600\n",
      "a=50, x=650\n",
      "a=52, x=702\n",
      "a=54, x=756\n",
      "a=56, x=812\n",
      "a=58, x=870\n",
      "a=60, x=930\n",
      "a=62, x=992\n",
      "a=64, x=1056\n",
      "a=66, x=1122\n",
      "a=68, x=1190\n",
      "a=70, x=1260\n",
      "a=72, x=1332\n",
      "a=74, x=1406\n",
      "a=76, x=1482\n",
      "a=78, x=1560\n",
      "a=80, x=1640\n",
      "a=82, x=1722\n",
      "a=84, x=1806\n",
      "a=86, x=1892\n",
      "a=88, x=1980\n",
      "a=90, x=2070\n",
      "a=92, x=2162\n",
      "a=94, x=2256\n",
      "a=96, x=2352\n",
      "a=98, x=2450\n",
      "a=100, x=2550\n"
     ]
    }
   ],
   "source": [
    "# 문제3\n",
    "a=0\n",
    "sum=0\n",
    "while a <= 100:\n",
    "    sum += a\n",
    "    print(\"a=%d, x=%d\" % (a,sum) )\n",
    "    a += 2"
   ]
  },
  {
   "cell_type": "code",
   "execution_count": 10,
   "id": "3d36d9d4-c71d-4296-9fb4-3b811eee8d03",
   "metadata": {},
   "outputs": [
    {
     "name": "stdout",
     "output_type": "stream",
     "text": [
      "0과 100사이에 있는 짝수의 합계 : 2550\n"
     ]
    }
   ],
   "source": [
    "total = 0\n",
    "i = 0\n",
    "\n",
    "while i <= 100:\n",
    "    total += i\n",
    "    i+=2\n",
    "print(\"0과 100사이에 있는 짝수의 합계 : %d\" % total)"
   ]
  },
  {
   "cell_type": "code",
   "execution_count": 4,
   "id": "c7ccc8f6-1185-47c5-8a1d-dd1c127d3eb2",
   "metadata": {},
   "outputs": [
    {
     "name": "stdout",
     "output_type": "stream",
     "text": [
      "85는 80점 이상\n",
      "83는 80점 이상\n",
      "98는 80점 이상\n",
      "88는 80점 이상\n",
      "100는 80점 이상\n",
      "총합은 : 454\n"
     ]
    }
   ],
   "source": [
    "#문제4\n",
    "# 80 점 이상의 총합\n",
    "students=[85, 65, 77, 83, 75, 22, 98, 88, 38, 100 ]\n",
    "total = 0\n",
    "for student in students:\n",
    "    if student >= 80:\n",
    "        print(\"%d는 80점 이상\" %student)\n",
    "        total += student\n",
    "print((\"총합은 : %d\" % (total)))"
   ]
  },
  {
   "cell_type": "code",
   "execution_count": 8,
   "id": "3eb67568-9c50-4d3b-8255-2ba46149d4ef",
   "metadata": {},
   "outputs": [
    {
     "name": "stdout",
     "output_type": "stream",
     "text": [
      "454\n"
     ]
    }
   ],
   "source": [
    "students=[85, 65, 77, 83, 75, 22, 98, 88, 38, 100 ]\n",
    "total = 0\n",
    "for i in students:\n",
    "    if i >= 80:\n",
    "        total += i\n",
    "print(total)"
   ]
  },
  {
   "cell_type": "code",
   "execution_count": 2,
   "id": "2fe84855-862f-4835-98e1-aaa0866c6d1c",
   "metadata": {},
   "outputs": [
    {
     "name": "stdin",
     "output_type": "stream",
     "text": [
      " 숫자를 입력하세요 :  3\n"
     ]
    },
    {
     "name": "stdout",
     "output_type": "stream",
     "text": [
      "2 1\n",
      "3 4\n",
      "4 9\n",
      "5 16\n",
      "6 25\n",
      "7 36\n",
      "8 49\n",
      "9 64\n",
      "10 81\n",
      "11 100\n"
     ]
    }
   ],
   "source": [
    "#문제5\n",
    "n=int(input(\" 숫자를 입력하세요 : \"))\n",
    "a=1\n",
    "while a <= 10 :\n",
    "    n = a ** 2\n",
    "    a += 1 \n",
    "    \n",
    "    print(\"%d %d\" % ( a, n ))"
   ]
  },
  {
   "cell_type": "code",
   "execution_count": 6,
   "id": "f236c4d3-f861-4c6d-ade9-ef0da8264660",
   "metadata": {},
   "outputs": [
    {
     "name": "stdin",
     "output_type": "stream",
     "text": [
      " 숫자를 입력하세요 :  3\n"
     ]
    },
    {
     "name": "stdout",
     "output_type": "stream",
     "text": [
      "1 1\n",
      "2 4\n",
      "3 9\n"
     ]
    }
   ],
   "source": [
    "n=int(input(\" 숫자를 입력하세요 : \"))\n",
    "a=1\n",
    "while a <= n :\n",
    "    print(\"%d %d\" % ( a, a**2 ))   \n",
    "    a += 1 \n",
    "    \n"
   ]
  },
  {
   "cell_type": "code",
   "execution_count": 12,
   "id": "e50290b8-a4b8-48f7-97bd-a3e3031e2e6a",
   "metadata": {},
   "outputs": [
    {
     "name": "stdout",
     "output_type": "stream",
     "text": [
      "9\n"
     ]
    }
   ],
   "source": [
    "# 문제6\n",
    "a = [9, 8, 6, 1, 4, 5]\n",
    "max = a[0]\n",
    "\n",
    "for i in a :\n",
    "    if i > max:\n",
    "        max = i\n",
    "        \n",
    "print(max)"
   ]
  },
  {
   "cell_type": "code",
   "execution_count": 9,
   "id": "df609f4c-2497-46b4-a8dd-42a0aec92d4d",
   "metadata": {},
   "outputs": [
    {
     "name": "stdout",
     "output_type": "stream",
     "text": [
      "1\n"
     ]
    }
   ],
   "source": [
    "# 문제7\n",
    "a = [9, 8, 6, 1, 4, 5]\n",
    "min = a[0]\n",
    "\n",
    "for i in a:\n",
    "    if i < min:\n",
    "        min=i\n",
    "        \n",
    "        \n",
    "print(m)"
   ]
  },
  {
   "cell_type": "code",
   "execution_count": 7,
   "id": "8f7bc4b1-ffad-4444-a476-26708983d961",
   "metadata": {},
   "outputs": [
    {
     "name": "stdout",
     "output_type": "stream",
     "text": [
      "1\n"
     ]
    }
   ],
   "source": [
    "# 문제7\n",
    "mylist = [9, 8, 6, 1, 4, 5]\n",
    "\n",
    "#구해야 하는 최소값 --> 리스트의 원소 중 임의의 하나를 지정해서 시작\n",
    "min_value = mylist[0]\n",
    "\n",
    "#리스트의 각 원소와 max_value를 비교하여 원소가 더 크다면 그 원소값을 max_value에 저장\n",
    "for i in mylist:\n",
    "    if min_value > i:\n",
    "        min_value=i\n",
    "        \n",
    "        \n",
    "print(min_value)"
   ]
  },
  {
   "cell_type": "code",
   "execution_count": null,
   "id": "cf12e32b-47d4-4b83-b0ee-19667d07b82e",
   "metadata": {},
   "outputs": [],
   "source": []
  }
 ],
 "metadata": {
  "kernelspec": {
   "display_name": "Python 3 (ipykernel)",
   "language": "python",
   "name": "python3"
  },
  "language_info": {
   "codemirror_mode": {
    "name": "ipython",
    "version": 3
   },
   "file_extension": ".py",
   "mimetype": "text/x-python",
   "name": "python",
   "nbconvert_exporter": "python",
   "pygments_lexer": "ipython3",
   "version": "3.9.7"
  }
 },
 "nbformat": 4,
 "nbformat_minor": 5
}
