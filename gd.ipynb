{
 "cells": [
  {
   "cell_type": "code",
   "execution_count": 1,
   "id": "30c89d07-d614-437e-a049-bfebb80a5749",
   "metadata": {},
   "outputs": [],
   "source": [
    "grade_dic = {\n",
    "    '이름': ['철수', '영희', '민철', '수현', '호영'],\n",
    "    '국어': [98, 88, 92, 63, 120],\n",
    "    '영어': [76, 90, 70, 60, 50],\n",
    "    '수학': [88, 62, 88, 31, 76],\n",
    "    '과학': [64, 72, 45, 70, 88]\n",
    "}\n",
    "\n",
    "tpl = \"{0},{1},{2},{3},{4}\\n\""
   ]
  },
  {
   "cell_type": "code",
   "execution_count": 3,
   "id": "e2309ed7-196d-49d7-97ef-a3b29de6c650",
   "metadata": {},
   "outputs": [],
   "source": [
    "keys = list(grade_dic.keys())\n",
    "p = \",\"\n",
    "title = p.join(keys) \n",
    "with open(\"grade3.csv\", \"w\", encoding='euc-kr') as f:\n",
    "    f.write(title + \"\\n\")\n",
    "    \n",
    "    for i in range(0, len(grade_dic['이름'])):\n",
    "        tmp = tpl.format(grade_dic['이름'][i], grade_dic['국어'][i],\n",
    "                         grade_dic['영어'][i], grade_dic['수학'][i],\n",
    "                         grade_dic['과학'][i])\n",
    "        f.write( tmp )"
   ]
  },
  {
   "cell_type": "code",
   "execution_count": null,
   "id": "77a7de09-bb03-4609-89cf-dd26789e315f",
   "metadata": {},
   "outputs": [],
   "source": []
  }
 ],
 "metadata": {
  "kernelspec": {
   "display_name": "Python 3 (ipykernel)",
   "language": "python",
   "name": "python3"
  },
  "language_info": {
   "codemirror_mode": {
    "name": "ipython",
    "version": 3
   },
   "file_extension": ".py",
   "mimetype": "text/x-python",
   "name": "python",
   "nbconvert_exporter": "python",
   "pygments_lexer": "ipython3",
   "version": "3.9.7"
  }
 },
 "nbformat": 4,
 "nbformat_minor": 5
}
