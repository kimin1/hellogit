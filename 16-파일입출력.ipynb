{
 "cells": [
  {
   "cell_type": "code",
   "execution_count": 1,
   "id": "0da7a93e-3778-4090-9929-82eb99d37da7",
   "metadata": {},
   "outputs": [],
   "source": [
    "# 파일 입출력\n",
    "\n",
    "# 파일 객체 생성하기\n",
    "# 파일쓰기\n",
    "\n",
    "# 새로운 파일 생성, 혹은 기존의 파일 열기\n",
    "# -> 파일 경로와 파일 열기 모드 설정\n",
    "# -> r : 읽기모드\n",
    "#    w : 쓰기모드 ( 기존의 내용을 덮어쓴다. )\n",
    "#    a : 추가모드 ( 기존의 내용을 유지하고 뒤에 추가 )\n",
    "f = open(\"helloworld.txt\", \"w\", encoding='utf-8')\n",
    "\n",
    "# 파일에 내용 기록하기\n",
    "# -> 두 문장을 연달아서 한 줄에 기록한다\n",
    "# -> 줄바꿈을 원하는 위치에 줄바꿈을 의미하는 이스케이프 문자(\\n)을 사용\n",
    "f.write(\"Hello Python!!\\n\")\n",
    "f.write(\"안녕하세요. 파이썬!!!\\n\")\n",
    "\n",
    "# open()함수를 단독으로 사용할 경우 파일작업 완료 후 닫기를 반드시 수행.\n",
    "f.close()"
   ]
  },
  {
   "cell_type": "code",
   "execution_count": 2,
   "id": "da603823-da8e-4415-9876-58161756b7b1",
   "metadata": {},
   "outputs": [
    {
     "name": "stdout",
     "output_type": "stream",
     "text": [
      "Hello Python!!\n",
      "안녕하세요. 파이썬!!!\n",
      "\n"
     ]
    }
   ],
   "source": [
    "# 파일 읽기\n",
    "\n",
    "# 이전 예제에서 생성한 파일을 읽어들이기 위해 연다\n",
    "# -> 읽기모드(r) 지정에 유의\n",
    "# -> 인코딩 방식은 저장 방식과 동일하게 지정.(다를 경우 에러)\n",
    "f = open(\"helloworld.txt\", \"r\", encoding='utf-8')\n",
    "\n",
    "# 파일의 모든 내용을 한 번에 문자열로 읽어들인다.\n",
    "# -> 아래와 같이 파일의 모든 내용을 변수에 저장한 것과 동일한 효과\n",
    "#      data = \"Hello Python!!!\\n안녕하세요. 파이썬!!!\"\n",
    "data = f.read()\n",
    "print(data)\n",
    "\n",
    "# open()함수를 단독으로 사용할 경우 파일작업 완료 후 닫기를 반드시 수행.\n",
    "f.close()"
   ]
  },
  {
   "cell_type": "code",
   "execution_count": 4,
   "id": "3b49c4e1-b6f7-4379-9fb9-878c0f5f7dca",
   "metadata": {},
   "outputs": [
    {
     "name": "stdout",
     "output_type": "stream",
     "text": [
      "파일 저장이 완료되었습니다.\n"
     ]
    }
   ],
   "source": [
    "# with 블록을 활용한 파일 쓰기\n",
    "\n",
    "# 이전 예제와 동일하지만 f.close()처리는 자동으로 수행함.\n",
    "with open(\"hellopython.txt\", \"w\", encoding='utf-8') as f:\n",
    "    # With 블록 안에서만 파일 객체 f가 유효함\n",
    "    for i in range(0, 10):\n",
    "        f.write(\"%d >> \" % i )\n",
    "        f.write(\"Life is too short, \")\n",
    "        f.write(\"you need python\\n\")\n",
    "        \n",
    "    print(\"파일 저장이 완료되었습니다.\")"
   ]
  },
  {
   "cell_type": "code",
   "execution_count": 5,
   "id": "054ad1d5-0ca7-4e14-ac41-b045de4814d6",
   "metadata": {},
   "outputs": [
    {
     "name": "stdout",
     "output_type": "stream",
     "text": [
      "0 >> Life is too short, you need python\n",
      "1 >> Life is too short, you need python\n",
      "2 >> Life is too short, you need python\n",
      "3 >> Life is too short, you need python\n",
      "4 >> Life is too short, you need python\n",
      "5 >> Life is too short, you need python\n",
      "6 >> Life is too short, you need python\n",
      "7 >> Life is too short, you need python\n",
      "8 >> Life is too short, you need python\n",
      "9 >> Life is too short, you need python\n",
      "\n"
     ]
    }
   ],
   "source": [
    "# with 블록을  활용한 파일 읽기\n",
    "\n",
    "# 읽기 모드로 파일 객체 생성하기 \n",
    "# 'w'에서 'r'로 모드가 변경되어야 하므로 파일 객체를 새로 생성해야 한다.\n",
    "with open(\"hellopython.txt\", \"r\", encoding='utf-8') as f:\n",
    "    # 파일의 내용을 변수에 저장함\n",
    "    data = f.read()\n",
    "    print(data)"
   ]
  },
  {
   "cell_type": "code",
   "execution_count": 7,
   "id": "fb7eeda3-28c7-462d-81f5-7fc75218efe6",
   "metadata": {},
   "outputs": [
    {
     "name": "stdout",
     "output_type": "stream",
     "text": [
      "['Hello Python!!\\n', '안녕하세요. 파이썬!!!\\n']\n",
      "------------------------------\n",
      "읽어들인 데이터는 총 2줄 입니다.\n",
      "------------------------------\n",
      "Hello Python!!\n",
      "안녕하세요. 파이썬!!!\n"
     ]
    }
   ],
   "source": [
    "# 파일내용의 한 줄 단위를 리스트 타입으로 읽어 오기\n",
    "with open(\"helloworld.txt\", \"r\", encoding='utf-8') as f:\n",
    "    # 파일의 각 행을 원소로 갖는 리스트 생성\n",
    "    # -> 아래의 구문과 동일한 효과\n",
    "    #      lines = [\"Hello Python!!!\\n\", \"안녕하세요. 파이썬!!!\\n\"]\n",
    "    lines = f.readlines()\n",
    "    print(lines)\n",
    "    print(\"-\" * 30)\n",
    "    \n",
    "    # 전체 리스트의 크기 확인\n",
    "    size = len(lines)\n",
    "    print(\"읽어들인 데이터는 총 %d줄 입니다.\" % size)\n",
    "    print(\"-\" * 30)\n",
    "    \n",
    "    for item in lines:\n",
    "        # 읽어들인 데이터에 줄바꿈 문자가 포함되므로 공백제거 필요\n",
    "        print( item.strip())"
   ]
  },
  {
   "cell_type": "code",
   "execution_count": null,
   "id": "6c3abd0d-40e8-4bbd-be02-9d015417938b",
   "metadata": {},
   "outputs": [],
   "source": []
  }
 ],
 "metadata": {
  "kernelspec": {
   "display_name": "Python 3 (ipykernel)",
   "language": "python",
   "name": "python3"
  },
  "language_info": {
   "codemirror_mode": {
    "name": "ipython",
    "version": 3
   },
   "file_extension": ".py",
   "mimetype": "text/x-python",
   "name": "python",
   "nbconvert_exporter": "python",
   "pygments_lexer": "ipython3",
   "version": "3.9.7"
  }
 },
 "nbformat": 4,
 "nbformat_minor": 5
}
