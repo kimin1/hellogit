{
 "cells": [
  {
   "cell_type": "code",
   "execution_count": 8,
   "id": "3c690451-d799-458f-a540-1b711c7378c7",
   "metadata": {},
   "outputs": [],
   "source": [
    "# 클래스, 객체(1)\n",
    "\n",
    "# 변수를 그룹화 하는 클래스 정의하기\n",
    "\n",
    "# 변수들을 그룹화 한 클래스 정의( 객체안의 변수 = 멤버변수)\n",
    "class Member:\n",
    "    userid=\"python\"\n",
    "    email = \"python@gmail.com\"\n",
    "    phone = \"01012345678\""
   ]
  },
  {
   "cell_type": "code",
   "execution_count": 4,
   "id": "1490f046-1082-4961-a622-1534b4b5915e",
   "metadata": {},
   "outputs": [
    {
     "name": "stdout",
     "output_type": "stream",
     "text": [
      "python\n",
      "python@gmail.com\n",
      "01012345678\n"
     ]
    }
   ],
   "source": [
    "# 클래스를 기반으로 객체 생성하기\n",
    "\n",
    "# 객체 생성하기 -> 변수이름 = 클래스이름()\n",
    "mem1 = Member()\n",
    "\n",
    "# 객체에게 부여된 멤버변수 출력하기\n",
    "print(mem1.userid)\n",
    "print(mem1.email)\n",
    "print(mem1.phone)"
   ]
  },
  {
   "cell_type": "code",
   "execution_count": 6,
   "id": "7c541240-6fea-4726-b0c7-4626f52c07d7",
   "metadata": {},
   "outputs": [
    {
     "name": "stdout",
     "output_type": "stream",
     "text": [
      "life\n",
      "life@naver.com\n",
      "01098765432\n"
     ]
    }
   ],
   "source": [
    "# 객체 안에 내장된 변수는 일반 변수와 동일하게 사용 가능\n",
    "# -> 값을 변경하는 것도 가능.\n",
    "mem1.userid = \"life\"\n",
    "mem1.email = \"life@naver.com\"\n",
    "mem1.phone = \"01098765432\"\n",
    "print(mem1.userid)\n",
    "print(mem1.email)\n",
    "print(mem1.phone)"
   ]
  },
  {
   "cell_type": "code",
   "execution_count": 7,
   "id": "8ac61e5b-0c59-4bd6-a22e-919f1330ada4",
   "metadata": {},
   "outputs": [
    {
     "name": "stdout",
     "output_type": "stream",
     "text": [
      "hello\n",
      "hello@daum.com\n",
      "01087682342\n"
     ]
    }
   ],
   "source": [
    "# 클래스의 재사용\n",
    "mem2 = Member()\n",
    "mem2.userid = \"hello\"\n",
    "mem2.email = \"hello@daum.com\"\n",
    "mem2.phone = \"01087682342\"\n",
    "print(mem2.userid)\n",
    "print(mem2.email)\n",
    "print(mem2.phone)"
   ]
  },
  {
   "cell_type": "code",
   "execution_count": 9,
   "id": "7ad1837a-2f60-4ec7-9de4-cedba922a8e4",
   "metadata": {},
   "outputs": [],
   "source": [
    "# 클래스에 메서드 정의하기\n",
    "# 파이썬에서는 클래스에 포함되는 모든 메서드의 첫 번째 파라미터로 \"self\"를 정의하도록 규정하고 있다.\n",
    "\n",
    "# self의 용법 : 자기 자신을 의미하는 키워드\n",
    "\n",
    "class calc :\n",
    "    def plus(self, x, y):\n",
    "        return x + y\n",
    "    \n",
    "    def minus(self, x, y):\n",
    "        return x - y\n",
    "    \n",
    "    def all(self, x, y):\n",
    "        z = self.plus(x, y) * self.minus(x, y)\n",
    "        return z"
   ]
  },
  {
   "cell_type": "code",
   "execution_count": 12,
   "id": "682280bd-b37e-42eb-9144-ac5c97b71c0e",
   "metadata": {},
   "outputs": [],
   "source": [
    "# 함수를 그룹화하기 위한 클래스 정의하기\n",
    "class Calc:\n",
    "    # 클래스에 포함되는 함수들은 반드시 첫 번쨰 파라미터 self를 정의해야 한다.\n",
    "    def plus(self, x, y):\n",
    "        return x + y\n",
    "    \n",
    "    def minus(self, x, y):\n",
    "        return x-y\n",
    "    \n",
    "    def all(self, x, y):\n",
    "        # 같은 클래스에 소속된 함수들끼리 호출할 경우\n",
    "        # self.함수이름() 형식으로 접근 가능.\n",
    "        a = self.plus(x, y)\n",
    "        b = self.minus(x, y)\n",
    "        \n",
    "        # 튜플로 묶어서 여러개의 값을 한번에 리턴\n",
    "        return(a, b)"
   ]
  },
  {
   "cell_type": "code",
   "execution_count": 13,
   "id": "7b3b2889-03b2-4854-9176-578b4846211f",
   "metadata": {},
   "outputs": [],
   "source": [
    "# 클래스를 통한 객체 생성\n",
    "\n",
    "# 생성된 객체는 클래스에 정의된 모든 함수를 부여받는다.\n",
    "my = Calc()"
   ]
  },
  {
   "cell_type": "code",
   "execution_count": 14,
   "id": "49744b23-79ea-467d-8876-c0b85e3feba6",
   "metadata": {},
   "outputs": [
    {
     "name": "stdout",
     "output_type": "stream",
     "text": [
      "30\n",
      "50\n"
     ]
    }
   ],
   "source": [
    "# 객체를 통한 함수의 호출\n",
    "print(my.plus(10, 20))\n",
    "print(my.minus(100, 50))"
   ]
  },
  {
   "cell_type": "code",
   "execution_count": 15,
   "id": "8a83d311-44f6-431a-975d-d08bb10fdcd9",
   "metadata": {},
   "outputs": [
    {
     "name": "stdout",
     "output_type": "stream",
     "text": [
      "30\n",
      "-10\n"
     ]
    }
   ],
   "source": [
    "# 튜플을 리턴하는 메서드 사용하기\n",
    "\n",
    "# all() 함수는 튜플을 리턴한다\n",
    "a = my.all(10, 20)\n",
    "# -> 튜플의 각 원소 확인\n",
    "print( a[0] )\n",
    "print( a[1] )"
   ]
  },
  {
   "cell_type": "code",
   "execution_count": 16,
   "id": "f52f87b3-6915-4141-9645-798f50be8c78",
   "metadata": {},
   "outputs": [
    {
     "name": "stdout",
     "output_type": "stream",
     "text": [
      "300\n",
      "-100\n"
     ]
    }
   ],
   "source": [
    "# 튜플로 묶여서 리턴되는 경우 튜플의 각 원소를 콤마로 구변하여 각각 반환받을 수 있다\n",
    "p, m = my.all(100, 200)\n",
    "print(p)\n",
    "print(m)"
   ]
  },
  {
   "cell_type": "code",
   "execution_count": null,
   "id": "228cb93e-2cde-4468-af01-68d8c2225de4",
   "metadata": {},
   "outputs": [],
   "source": []
  }
 ],
 "metadata": {
  "kernelspec": {
   "display_name": "Python 3 (ipykernel)",
   "language": "python",
   "name": "python3"
  },
  "language_info": {
   "codemirror_mode": {
    "name": "ipython",
    "version": 3
   },
   "file_extension": ".py",
   "mimetype": "text/x-python",
   "name": "python",
   "nbconvert_exporter": "python",
   "pygments_lexer": "ipython3",
   "version": "3.9.7"
  }
 },
 "nbformat": 4,
 "nbformat_minor": 5
}
