{
 "cells": [
  {
   "cell_type": "code",
   "execution_count": 1,
   "id": "a2a8a8be-7e0a-4a31-9c8e-f4e5c390f0eb",
   "metadata": {},
   "outputs": [
    {
     "name": "stdout",
     "output_type": "stream",
     "text": [
      "python\n",
      "bigdata\n"
     ]
    }
   ],
   "source": [
    "# 변수의 특성\n",
    "\n",
    "# 튜플을 활용하여 여러 개의 변수를 일괄 생성하기\n",
    "# 튜플을 통한 변수 생성\n",
    "a, b = (\"python\", \"bigdata\")\n",
    "print(a)\n",
    "print(b)"
   ]
  },
  {
   "cell_type": "code",
   "execution_count": 2,
   "id": "1f344a1b-3d3e-4b6b-a949-f9737999d310",
   "metadata": {},
   "outputs": [
    {
     "name": "stdout",
     "output_type": "stream",
     "text": [
      "hello\n",
      "world\n"
     ]
    }
   ],
   "source": [
    "# 위의 구문과 동일한 기능\n",
    "(a, b) = (\"hello\",\"world\")\n",
    "print(a)\n",
    "print(b)"
   ]
  },
  {
   "cell_type": "code",
   "execution_count": 3,
   "id": "b9ca839c-a4d0-45dd-839a-ac7ae4c74170",
   "metadata": {},
   "outputs": [
    {
     "name": "stdout",
     "output_type": "stream",
     "text": [
      "안녕\n",
      "파이썬\n"
     ]
    }
   ],
   "source": [
    "# 위의 구문과 동일한 기능\n",
    "(a, b) = (\"안녕\",\"파이썬\")\n",
    "print(a)\n",
    "print(b)"
   ]
  },
  {
   "cell_type": "code",
   "execution_count": 4,
   "id": "fb99b69e-3cf7-4afe-b037-798393a0609d",
   "metadata": {},
   "outputs": [
    {
     "name": "stdout",
     "output_type": "stream",
     "text": [
      "python\n",
      "bigdata\n"
     ]
    }
   ],
   "source": [
    "# 리스트를 활용하여 여러 개의 변수를 일괄 생성하기\n",
    "\n",
    "# 리스트를 통한 방법과 같은 결과\n",
    "a, b = [\"python\", \"bigdata\"]\n",
    "print(a)\n",
    "print(b)"
   ]
  },
  {
   "cell_type": "code",
   "execution_count": 5,
   "id": "3c301b71-23d8-47ea-9ce9-60030be1f389",
   "metadata": {},
   "outputs": [
    {
     "name": "stdout",
     "output_type": "stream",
     "text": [
      "hello\n",
      "world\n"
     ]
    }
   ],
   "source": [
    "[a, b] = \"hello\", \"world\"\n",
    "print(a)\n",
    "print(b)"
   ]
  },
  {
   "cell_type": "code",
   "execution_count": 6,
   "id": "c65f38b0-006f-4449-83b6-5012f760a710",
   "metadata": {},
   "outputs": [
    {
     "name": "stdout",
     "output_type": "stream",
     "text": [
      "안녕\n",
      "파이썬\n"
     ]
    }
   ],
   "source": [
    "# 리스트를 활용한 변수 생성\n",
    "[a, b] = [\"안녕\", \"파이썬\"]\n",
    "print(a)\n",
    "print(b)"
   ]
  },
  {
   "cell_type": "code",
   "execution_count": 7,
   "id": "56b00666-57de-4c42-9a98-948aa8dd635a",
   "metadata": {},
   "outputs": [
    {
     "name": "stdout",
     "output_type": "stream",
     "text": [
      "1234\n",
      "1234\n",
      "1234\n"
     ]
    }
   ],
   "source": [
    "# 동일한 값을 갖는 여러 개의 변수 일괄 생성\n",
    "a = b = c = 1234\n",
    "print(a)\n",
    "print(b)\n",
    "print(c)"
   ]
  },
  {
   "cell_type": "code",
   "execution_count": 9,
   "id": "e70424c2-af2e-4246-a393-8fde9b3a7c4d",
   "metadata": {},
   "outputs": [
    {
     "name": "stdout",
     "output_type": "stream",
     "text": [
      "x=1, y=2\n",
      "x=2, y=1\n"
     ]
    }
   ],
   "source": [
    "# 두 변수의 값을 교환하기\n",
    "x = 1\n",
    "y = 2\n",
    "print(\"x=%d, y=%d\" %(x, y))\n",
    "\n",
    "# 두 변수의 값을 교환\n",
    "x, y = y, x\n",
    "print(\"x=%d, y=%d\" %(x, y))"
   ]
  },
  {
   "cell_type": "code",
   "execution_count": 10,
   "id": "527d2fba-b38e-4842-87a7-923534f45f36",
   "metadata": {},
   "outputs": [
    {
     "name": "stdout",
     "output_type": "stream",
     "text": [
      "100\n",
      "100\n"
     ]
    }
   ],
   "source": [
    "# 값 복사\n",
    "\n",
    "# 숫자형, 문자열, 논리값을 대입할 경우 변수 값의 복사\n",
    "a = 100\n",
    "b = a\n",
    "print(a)\n",
    "print(b)"
   ]
  },
  {
   "cell_type": "code",
   "execution_count": 11,
   "id": "b253b160-fbb4-45e6-ab57-29e1c14c1531",
   "metadata": {},
   "outputs": [
    {
     "name": "stdout",
     "output_type": "stream",
     "text": [
      "100\n",
      "200\n"
     ]
    }
   ],
   "source": [
    "# 복사본을 변경하더라도 원본에는 변화가 없다.( 반대의 경우도 마찬가지)\n",
    "b = 200\n",
    "print(a)\n",
    "print(b)"
   ]
  },
  {
   "cell_type": "code",
   "execution_count": 12,
   "id": "4d1bb5d6-fea1-45b1-8f72-9fb32b286262",
   "metadata": {},
   "outputs": [
    {
     "name": "stdout",
     "output_type": "stream",
     "text": [
      "[1, 2, 3]\n",
      "[1, 2, 3]\n"
     ]
    }
   ],
   "source": [
    "# 리스트나 딕셔너리의 경우 발생하는 참조 복사\n",
    "\n",
    "# 객체의 참조 --> 리스트, 딕셔너리 등\n",
    "foo = [ 1, 2, 3 ]\n",
    "bar = foo\n",
    "print(foo)\n",
    "print(bar)"
   ]
  },
  {
   "cell_type": "code",
   "execution_count": 13,
   "id": "49a9e827-1cf5-49c6-b03a-b659006dfe85",
   "metadata": {},
   "outputs": [
    {
     "name": "stdout",
     "output_type": "stream",
     "text": [
      "[1, 20, 3]\n",
      "[1, 20, 3]\n"
     ]
    }
   ],
   "source": [
    "# -> 참조된 복사본을 변경하면 원본도 함께 변경됨\n",
    "# -> 반대의 경우도 마찬가지\n",
    "# -> 지금까지의 내용들 중에는 리스트, 딕셔너리에 적용됨\n",
    "bar[1] = 20\n",
    "print(foo)\n",
    "print(bar)"
   ]
  },
  {
   "cell_type": "code",
   "execution_count": 14,
   "id": "e4755efa-bc1f-4d4d-8e9b-49120cd7f5f0",
   "metadata": {},
   "outputs": [
    {
     "name": "stdout",
     "output_type": "stream",
     "text": [
      "[1, 2, 3]\n",
      "[1, 2, 1000]\n"
     ]
    }
   ],
   "source": [
    "# 연속형 자료형의 고전적인 값 복사 방법\n",
    "\n",
    "# 리스트 복사(고전적인 방법)\n",
    "# -> 같은 길이의 리스트를 만들고 각 원소를 일일이 복사함\n",
    "bar = [ 1, 2, 3 ]\n",
    "cp1 = [ 0, 0, 0 ]\n",
    "cp1[0] = bar[0]\n",
    "cp1[1] = bar[1]\n",
    "cp1[2] = bar[2]\n",
    "\n",
    "# -> 복사본을 변경하더라도 원본에는 변화 없음\n",
    "cp1[2] = 1000\n",
    "print(bar)\n",
    "print(cp1)"
   ]
  },
  {
   "cell_type": "code",
   "execution_count": 15,
   "id": "a6521700-199d-4314-9c1e-91d12a53ed63",
   "metadata": {},
   "outputs": [
    {
     "name": "stdout",
     "output_type": "stream",
     "text": [
      "[1, 2, 3]\n",
      "[1, 12345, 3]\n"
     ]
    }
   ],
   "source": [
    "# 슬라이싱을 활용한 리스트의 값 복사\n",
    "\n",
    "# 슬라이싱을 활용한 방법\n",
    "cp2 = bar[:]\n",
    "\n",
    "# -> 복사본을 변경하더라도 원본에 영향이 없다\n",
    "cp2[1]=12345\n",
    "print(bar)\n",
    "print(cp2)"
   ]
  },
  {
   "cell_type": "code",
   "execution_count": 17,
   "id": "df835fc3-ea3a-4856-b5bf-7ec3c9d324ba",
   "metadata": {},
   "outputs": [
    {
     "name": "stdout",
     "output_type": "stream",
     "text": [
      "[1, 12345, 3]\n",
      "[12345, 12345, 3]\n"
     ]
    }
   ],
   "source": [
    "# 슬라이싱을 활용한 리스트의 값 복사\n",
    "\n",
    "# 리스트 객체의 함수를 사용하는 방법\n",
    "cp3 = cp2.copy()\n",
    "\n",
    "# -> 복사본을 변경하더라도 원본에는 영향이 없다\n",
    "cp3[0] = 12345\n",
    "print(cp2)\n",
    "print(cp3)"
   ]
  },
  {
   "cell_type": "code",
   "execution_count": 18,
   "id": "d2c9f146-f252-4e5d-b958-99f25eb79200",
   "metadata": {},
   "outputs": [
    {
     "name": "stdout",
     "output_type": "stream",
     "text": [
      "100\n",
      "200\n"
     ]
    }
   ],
   "source": [
    "# 조건문에서 변수의 유효범위\n",
    "\n",
    "# 변수는 자신이 최초로 생성된 위치보다 깊은 레벨로는 침투가 가능\n",
    "num1 = 100\n",
    "\n",
    "if num1 == 100:\n",
    "    print(num1)\n",
    "    num2 = num1 + 100\n",
    "    \n",
    "# 자신이 최초로 생선된 위치보다 얕은 레벨에서는\n",
    "# 변수를 생성하는 구문의 실행 여부에 따라 식별 가능여부가 결정됨\n",
    "print(num2)"
   ]
  },
  {
   "cell_type": "code",
   "execution_count": 19,
   "id": "8b799b0a-e37b-4d6e-9150-e935a7de1c00",
   "metadata": {},
   "outputs": [
    {
     "name": "stdout",
     "output_type": "stream",
     "text": [
      "900\n"
     ]
    }
   ],
   "source": [
    "# 반복문에서의 변수의 유효범위\n",
    "\n",
    "# 반복문이 1회 이상 수행되었다면 반복문 안에서 생성된 변수는 밖에서 식별 가능\n",
    "for i in range( 1, 10 ):\n",
    "    result = i * 100\n",
    "    \n",
    "# 반복문이 한번도 실행되지 않는다면 result라는 변수는 존재하지 않는다\n",
    "print(result)"
   ]
  },
  {
   "cell_type": "code",
   "execution_count": 29,
   "id": "77e00bc5-4c0b-4dd9-8266-4a06d47e4a1b",
   "metadata": {},
   "outputs": [
    {
     "name": "stdout",
     "output_type": "stream",
     "text": [
      "None\n"
     ]
    }
   ],
   "source": [
    "# 중요.변수의 유효성 범위에 대한 결론\n",
    "\n",
    "# if, for 등의 블록을 구성하는 구문 안에서 변수를 생성해야 한다면,\n",
    "# 블록 밖에서 미리 변수를 만들어 두는 것이 좋다.\n",
    "x = None\n",
    "\n",
    "# if 문이 실행되지 않더라도 미리 x를 준비해 두었기 때문에\n",
    "# 42라인은 에러가 발생하지 않는다.\n",
    "if num1 > 100:\n",
    "    x = num1\n",
    "    \n",
    "print(x)"
   ]
  },
  {
   "cell_type": "code",
   "execution_count": 30,
   "id": "dee7a85c-fc47-4bff-94f5-a3cb4fdd29b2",
   "metadata": {},
   "outputs": [
    {
     "name": "stdout",
     "output_type": "stream",
     "text": [
      "100\n"
     ]
    }
   ],
   "source": [
    "# 중요.변수의 유효성 범위에 대한 결론\n",
    "\n",
    "# if, for 등의 블록을 구성하는 구문 안에서 변수를 생성해야 한다면,\n",
    "# 블록 밖에서 미리 변수를 만들어 두는 것이 좋다.\n",
    "x = None\n",
    "\n",
    "# if 문이 실행되지 않더라도 미리 x를 준비해 두었기 때문에\n",
    "# 42라인은 에러가 발생하지 않는다.\n",
    "if num1 == 100:\n",
    "    x = num1\n",
    "    \n",
    "print(x)"
   ]
  },
  {
   "cell_type": "code",
   "execution_count": null,
   "id": "bdb21593-9563-4075-9261-034fa50b1433",
   "metadata": {},
   "outputs": [],
   "source": []
  }
 ],
 "metadata": {
  "kernelspec": {
   "display_name": "Python 3 (ipykernel)",
   "language": "python",
   "name": "python3"
  },
  "language_info": {
   "codemirror_mode": {
    "name": "ipython",
    "version": 3
   },
   "file_extension": ".py",
   "mimetype": "text/x-python",
   "name": "python",
   "nbconvert_exporter": "python",
   "pygments_lexer": "ipython3",
   "version": "3.9.7"
  }
 },
 "nbformat": 4,
 "nbformat_minor": 5
}
