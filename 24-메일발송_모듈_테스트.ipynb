{
 "cells": [
  {
   "cell_type": "code",
   "execution_count": 6,
   "id": "0be75fb6-25f3-42b1-9485-e064a51c621f",
   "metadata": {},
   "outputs": [],
   "source": [
    "from SendMail import send_mail\n",
    "\n",
    "from_addr = \"k7132474@gmail.com\" # 보내는 사람 주소\n",
    "to_addr = \"k7132474@naver.com\"  # 받는 사람 주소\n",
    "subject = '테스트 12345'          # 메일제목\n",
    "\n",
    "content = \"\"\"<html>\n",
    "    <head></head>\n",
    "    <body>\n",
    "      <h1>hi!<h1>\n",
    "      <h2>How are you></h2>\n",
    "      <p>\n",
    "          Here is the\n",
    "          <a href=\"http://www.python.org\">link</a>\n",
    "          you wanted.\n",
    "      </p>\n",
    "    </body>\n",
    "</html>\"\"\"\n",
    "\n",
    "#첨부파일이 필요없는 경우\n",
    "#files = []\n",
    "\n",
    "#첨부파일이 필요한 경우 (파일이 실제로 존재해야 함)\n",
    "files = [\"mail/hello.txt\", \"mail/world.txt\"]"
   ]
  },
  {
   "cell_type": "code",
   "execution_count": 7,
   "id": "94738ebd-de35-48f5-ad1b-7b273cb87672",
   "metadata": {},
   "outputs": [],
   "source": [
    "send_mail(from_addr, to_addr, subject, content, files)"
   ]
  },
  {
   "cell_type": "code",
   "execution_count": null,
   "id": "41f5bdfe-727c-45fe-b63d-51b6c38b86be",
   "metadata": {},
   "outputs": [],
   "source": []
  },
  {
   "cell_type": "code",
   "execution_count": null,
   "id": "e763dc68-a683-4d6c-a38b-b2e22217cf4e",
   "metadata": {},
   "outputs": [],
   "source": []
  }
 ],
 "metadata": {
  "kernelspec": {
   "display_name": "Python 3 (ipykernel)",
   "language": "python",
   "name": "python3"
  },
  "language_info": {
   "codemirror_mode": {
    "name": "ipython",
    "version": 3
   },
   "file_extension": ".py",
   "mimetype": "text/x-python",
   "name": "python",
   "nbconvert_exporter": "python",
   "pygments_lexer": "ipython3",
   "version": "3.9.7"
  }
 },
 "nbformat": 4,
 "nbformat_minor": 5
}
