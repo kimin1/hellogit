{
 "cells": [
  {
   "cell_type": "code",
   "execution_count": 6,
   "id": "530545d0-a433-4bb6-964c-f989e874129f",
   "metadata": {},
   "outputs": [
    {
     "name": "stdout",
     "output_type": "stream",
     "text": [
      "index : 0 value : 1\n",
      "index : 1 value : 2\n",
      "index : 2 value : 3\n",
      "index : 3 value : 4\n",
      "index : 4 value : 5\n"
     ]
    }
   ],
   "source": [
    "# enumeratr () : 순서가 있는 자료형(리스트, 튜플, 문자열)을 입력으로 받아 인덱스 값을 포함하는 enumeratr 객체를 리턴한다.(보통 for문과 함께 사용)\n",
    "\n",
    "list = [ 1, 2, 3, 4, 5 ]\n",
    "for i, v in enumerate(list):\n",
    "    print('index : {} value : {}'.format(i, v))\n"
   ]
  },
  {
   "cell_type": "code",
   "execution_count": 9,
   "id": "64ec1b02-b8b3-49c3-8dee-b7bd04edff62",
   "metadata": {},
   "outputs": [
    {
     "data": {
      "text/plain": [
       "'3'"
      ]
     },
     "execution_count": 9,
     "metadata": {},
     "output_type": "execute_result"
    }
   ],
   "source": [
    "# str() : str(object)은 문자열 형태로 객체를 반환하여 리턴하는 함수이다.\n",
    "str(3)"
   ]
  },
  {
   "cell_type": "code",
   "execution_count": 10,
   "id": "35d6e70e-b9b7-449c-97f3-a6d69305279c",
   "metadata": {},
   "outputs": [
    {
     "data": {
      "text/plain": [
       "'hi'"
      ]
     },
     "execution_count": 10,
     "metadata": {},
     "output_type": "execute_result"
    }
   ],
   "source": [
    "str('hi')"
   ]
  },
  {
   "cell_type": "code",
   "execution_count": 11,
   "id": "906a9ef1-2cd9-40bc-ad89-cbcb6b7b56f8",
   "metadata": {},
   "outputs": [
    {
     "data": {
      "text/plain": [
       "'HI'"
      ]
     },
     "execution_count": 11,
     "metadata": {},
     "output_type": "execute_result"
    }
   ],
   "source": [
    "str('hi'.upper())"
   ]
  },
  {
   "cell_type": "code",
   "execution_count": 17,
   "id": "69e9cc06-7de3-4db9-b683-34a4ab2fb2be",
   "metadata": {},
   "outputs": [
    {
     "name": "stdout",
     "output_type": "stream",
     "text": [
      "사자,코끼리,기린,원숭이,바나나원숭이\n",
      "사자\n",
      "코끼리\n",
      "기린\n",
      "원숭이\n",
      "바나나원숭이\n"
     ]
    }
   ],
   "source": [
    "# join() / split() : 리스트를 문자열로 / 문자열을 리스트로 변환하는 함수.\n",
    "# 구분자.join(리스트) - 리스트(List)를 특정 구분자를 포함해 문자열(String)으로 변환\n",
    "\n",
    "animals = ['사자', '코끼리', '기린', '원숭이', '바나나원숭이']\n",
    "\n",
    "# >> 사자, 코끼리, 기린, 원숭이, 바나나원숭이\n",
    "print( \",\".join(animals))\n",
    "\n",
    "# >> 사자\n",
    "# >> 코끼리\n",
    "# >> 기린\n",
    "# >> 원숭이\n",
    "# >> 바나나원숭이\n",
    "print( \"\\n\".join(animals))\n"
   ]
  },
  {
   "cell_type": "code",
   "execution_count": 18,
   "id": "6e9cc62a-4c43-42cd-8f17-92ee2e7b6f41",
   "metadata": {},
   "outputs": [
    {
     "name": "stdout",
     "output_type": "stream",
     "text": [
      "사자/코끼리/기린/원숭이/바나나원숭이\n"
     ]
    }
   ],
   "source": [
    "# >> 사자/코끼리/기린/원숭이/바나나원숭이\n",
    "print(\"/\".join(animals))"
   ]
  },
  {
   "cell_type": "code",
   "execution_count": 23,
   "id": "da907d33-1175-4ce1-9f0e-b0fa5dfab58a",
   "metadata": {},
   "outputs": [],
   "source": [
    "# zip() : zip(iterable*)은 동일한 개수로 이루어진 자료형을 묶어 주는 역할을 하는 함수이다.\n",
    "\n",
    "# list(zip([1, 2, 3], [4, 5, 6]))\n",
    "# [(1, 4), (2, 5), (3, 6)]\n",
    "# list(zip([1, 2, 3],[4, 5, 6],[7, 8, 9]))\n",
    "# [(1, 4, 7), (2, 5, 8),(3, 6, 9)]\n",
    "# list(zip(\"abc\", \"def\"))\n",
    "#[('a', 'd'), ('b','e'), ('c','f')]"
   ]
  },
  {
   "cell_type": "code",
   "execution_count": null,
   "id": "2752b812-e0ea-4851-b034-42bb135a3507",
   "metadata": {},
   "outputs": [],
   "source": []
  }
 ],
 "metadata": {
  "kernelspec": {
   "display_name": "Python 3 (ipykernel)",
   "language": "python",
   "name": "python3"
  },
  "language_info": {
   "codemirror_mode": {
    "name": "ipython",
    "version": 3
   },
   "file_extension": ".py",
   "mimetype": "text/x-python",
   "name": "python",
   "nbconvert_exporter": "python",
   "pygments_lexer": "ipython3",
   "version": "3.9.7"
  }
 },
 "nbformat": 4,
 "nbformat_minor": 5
}
