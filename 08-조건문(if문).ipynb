{
 "cells": [
  {
   "cell_type": "code",
   "execution_count": 2,
   "id": "59b835b6-6c70-42d1-992a-aac00a9f4e1c",
   "metadata": {},
   "outputs": [
    {
     "name": "stdout",
     "output_type": "stream",
     "text": [
      "배고픈데\n",
      "식당에서\n",
      "밥을 먹자\n"
     ]
    }
   ],
   "source": [
    "print(\"배고픈데\")\n",
    "\n",
    "have_money = True\n",
    "# have_money = False\n",
    "\n",
    "if have_money:\n",
    "    print(\"식당에서\")\n",
    "    \n",
    "print(\"밥을 먹자\")    "
   ]
  },
  {
   "cell_type": "code",
   "execution_count": 3,
   "id": "7fe0da2b-1422-4e3c-99d4-5af156bdd983",
   "metadata": {},
   "outputs": [
    {
     "name": "stdout",
     "output_type": "stream",
     "text": [
      "택시를 타고\n",
      "집에가자\n"
     ]
    }
   ],
   "source": [
    "money = 10000\n",
    "#money = 0\n",
    "\n",
    "if money:\n",
    "    print(\"택시를 타고\")\n",
    "\n",
    "print(\"집에가자\")"
   ]
  },
  {
   "cell_type": "code",
   "execution_count": 4,
   "id": "37f779c6-b959-4459-911e-7447e3e678b9",
   "metadata": {},
   "outputs": [
    {
     "name": "stdout",
     "output_type": "stream",
     "text": [
      "Python\n",
      "프로그래밍\n"
     ]
    }
   ],
   "source": [
    "name = \"Python\"\n",
    "#name=\"\"\n",
    "\n",
    "if name:\n",
    "    print(name)\n",
    "    \n",
    "print(\"프로그래밍\")"
   ]
  },
  {
   "cell_type": "code",
   "execution_count": 5,
   "id": "2d280814-5db1-4036-be20-0d5d1432eb8c",
   "metadata": {},
   "outputs": [
    {
     "name": "stdout",
     "output_type": "stream",
     "text": [
      "국어:100, 영어:80, 수학70\n",
      "성적처리\n"
     ]
    }
   ],
   "source": [
    "grade = [100, 80, 70]\n",
    "#grade =[]\n",
    "\n",
    "if grade:\n",
    "    msg=\"국어:{0}, 영어:{1}, 수학{2}\"\n",
    "    print(msg.format(grade[0],grade[1],grade[2]))\n",
    "    \n",
    "    print(\"성적처리\")"
   ]
  },
  {
   "cell_type": "code",
   "execution_count": 6,
   "id": "42cf0c97-bf5e-46eb-9091-51f0357208e3",
   "metadata": {},
   "outputs": [],
   "source": [
    "money = 12000"
   ]
  },
  {
   "cell_type": "code",
   "execution_count": 7,
   "id": "8f81a666-c917-40e0-bdda-97c87751b242",
   "metadata": {},
   "outputs": [
    {
     "name": "stdout",
     "output_type": "stream",
     "text": [
      "돈이 있다.\n"
     ]
    }
   ],
   "source": [
    "if money:\n",
    "    print(\"돈이 있다.\")"
   ]
  },
  {
   "cell_type": "code",
   "execution_count": 8,
   "id": "57194758-8c1e-4a3d-b651-6df6fb1e2790",
   "metadata": {},
   "outputs": [
    {
     "name": "stdout",
     "output_type": "stream",
     "text": [
      "선물을 사고 7000원 남는다.\n"
     ]
    }
   ],
   "source": [
    "if money >= 5000:\n",
    "    print(\"선물을 사고 %d원 남는다.\"%(money-5000)) "
   ]
  },
  {
   "cell_type": "code",
   "execution_count": 9,
   "id": "6fe09218-83b5-4b3d-85e9-d2c1c3e3dd07",
   "metadata": {},
   "outputs": [
    {
     "name": "stdout",
     "output_type": "stream",
     "text": [
      "돈이 있지만 3000원 부족하다\n"
     ]
    }
   ],
   "source": [
    "if money and money < 15000:\n",
    "    print(\"돈이 있지만 %d원 부족하다\" %(15000-money))"
   ]
  },
  {
   "cell_type": "code",
   "execution_count": 10,
   "id": "5443c916-a3cd-4c65-9f27-1c171e3b7835",
   "metadata": {},
   "outputs": [
    {
     "name": "stdout",
     "output_type": "stream",
     "text": [
      "a와 b는 같다\n"
     ]
    }
   ],
   "source": [
    "a=123\n",
    "b=123\n",
    "c=234\n",
    "\n",
    "if a is b:\n",
    "    print(\"a와 b는 같다\")\n",
    "    \n",
    "    if b is c:\n",
    "        print(\"b와 c는 같다\")"
   ]
  },
  {
   "cell_type": "code",
   "execution_count": 11,
   "id": "1d4f11ae-b2e4-4898-beea-064754a39394",
   "metadata": {},
   "outputs": [
    {
     "name": "stdout",
     "output_type": "stream",
     "text": [
      "x와 z는 같다\n"
     ]
    }
   ],
   "source": [
    "x=1\n",
    "y=1\n",
    "z=1.0\n",
    "\n",
    "if x == z:\n",
    "    print(\"x와 z는 같다\")\n",
    "    \n",
    "if y is z:\n",
    "    print(\"y와 z는 같다\")"
   ]
  },
  {
   "cell_type": "code",
   "execution_count": 12,
   "id": "64879374-495f-4319-a754-c4878fda2e82",
   "metadata": {},
   "outputs": [
    {
     "name": "stdout",
     "output_type": "stream",
     "text": [
      "a와 b는 다르다\n",
      "b와 c는 다르다\n"
     ]
    }
   ],
   "source": [
    "a=123.0\n",
    "b=123\n",
    "c=234\n",
    "\n",
    "if a is not b:\n",
    "    print(\"a와 b는 다르다\")\n",
    "    \n",
    "if b is not c:\n",
    "    print(\"b와 c는 다르다\")"
   ]
  },
  {
   "cell_type": "code",
   "execution_count": 20,
   "id": "54be0111-beef-43db-b0cd-7a7dd30c74ee",
   "metadata": {},
   "outputs": [],
   "source": [
    "user1=\"hello\"\n",
    "user2=\"world\"\n",
    "member_list = ['hello', 'python', 'life']"
   ]
  },
  {
   "cell_type": "code",
   "execution_count": 21,
   "id": "6b378838-edb0-4e06-8b06-14779e138172",
   "metadata": {},
   "outputs": [
    {
     "name": "stdout",
     "output_type": "stream",
     "text": [
      "True\n"
     ]
    }
   ],
   "source": [
    "a=user1 in member_list\n",
    "print(a)"
   ]
  },
  {
   "cell_type": "code",
   "execution_count": 22,
   "id": "428e86cb-3223-4193-9e2c-a6e0103883d2",
   "metadata": {},
   "outputs": [
    {
     "name": "stdout",
     "output_type": "stream",
     "text": [
      "False\n"
     ]
    }
   ],
   "source": [
    "b= user2 in member_list\n",
    "print(b)"
   ]
  },
  {
   "cell_type": "code",
   "execution_count": 23,
   "id": "fc0d0617-8c9d-4253-b53c-d4ea19b073c5",
   "metadata": {},
   "outputs": [
    {
     "name": "stdout",
     "output_type": "stream",
     "text": [
      "hello(은)는 이미 가입되어 있습니다.\n"
     ]
    }
   ],
   "source": [
    "if user1 in member_list:\n",
    "    print(user1+\"(은)는 이미 가입되어 있습니다.\")"
   ]
  },
  {
   "cell_type": "code",
   "execution_count": 24,
   "id": "646f36f8-ca34-439a-bff0-d7e8f651f574",
   "metadata": {},
   "outputs": [],
   "source": [
    "if user2 in member_list:\n",
    "    print(user2+\"(은)는 이미 가입되어 있습니다.\")"
   ]
  },
  {
   "cell_type": "code",
   "execution_count": 25,
   "id": "3eb16816-04a4-415e-8167-afdead0be4b8",
   "metadata": {},
   "outputs": [],
   "source": [
    "if user1 not in member_list:\n",
    "    print(user1 + \"(은)는 가입되어 있지 않습니다.\")"
   ]
  },
  {
   "cell_type": "code",
   "execution_count": 26,
   "id": "def91df6-7946-460d-9a12-93f9b950c2f8",
   "metadata": {},
   "outputs": [
    {
     "name": "stdout",
     "output_type": "stream",
     "text": [
      "world(은)는 가입되어 있지 않습니다.\n"
     ]
    }
   ],
   "source": [
    "if user2 not in member_list:\n",
    "    print(user2 + \"(은)는 가입되어 있지 않습니다.\")"
   ]
  },
  {
   "cell_type": "code",
   "execution_count": 27,
   "id": "4e7d97be-9c3a-43e5-8d88-45a04c6b54da",
   "metadata": {},
   "outputs": [
    {
     "name": "stdout",
     "output_type": "stream",
     "text": [
      "성인이 아닙니다.\n"
     ]
    }
   ],
   "source": [
    "age = 19\n",
    "\n",
    "if age > 19:\n",
    "    print(\"성인입니다.\")\n",
    "else:\n",
    "    print(\"성인이 아닙니다.\")"
   ]
  },
  {
   "cell_type": "code",
   "execution_count": 28,
   "id": "bfafe81b-fab5-4355-91eb-4d5453df5719",
   "metadata": {},
   "outputs": [],
   "source": [
    "user1= \"hello\"\n",
    "user2= \"world\"\n",
    "member_list = ['hello','phthon','life']"
   ]
  },
  {
   "cell_type": "code",
   "execution_count": 29,
   "id": "2cd158d9-f3fd-4a4b-ab7a-720c66f511d0",
   "metadata": {},
   "outputs": [
    {
     "name": "stdout",
     "output_type": "stream",
     "text": [
      "hello는 이미 가입되어 있습니다.\n"
     ]
    }
   ],
   "source": [
    "if user1 in member_list:\n",
    "    print(\"%s는 이미 가입되어 있습니다.\" % user1)\n",
    "else:\n",
    "    print(\"%s는 이미 가입되어 있지 않습니다.\" % user1)"
   ]
  },
  {
   "cell_type": "code",
   "execution_count": 30,
   "id": "a8462944-22ed-4a97-a116-955f6a6653db",
   "metadata": {},
   "outputs": [
    {
     "name": "stdout",
     "output_type": "stream",
     "text": [
      "world는 이미 가입되어 있지 않습니다.\n"
     ]
    }
   ],
   "source": [
    "if user2 in member_list:\n",
    "    print(\"%s는 이미 가입되어 있습니다\" %user2)\n",
    "else:\n",
    "    print(\"%s는 이미 가입되어 있지 않습니다.\" %user2)"
   ]
  },
  {
   "cell_type": "code",
   "execution_count": 31,
   "id": "c130ff10-de2b-4729-a990-8874fdd74030",
   "metadata": {},
   "outputs": [
    {
     "name": "stdout",
     "output_type": "stream",
     "text": [
      "C학점\n"
     ]
    }
   ],
   "source": [
    "point = 72\n",
    "\n",
    "if point > 90:\n",
    "    print(\"A학점\")\n",
    "elif point > 80:\n",
    "    print(\"B학점\")\n",
    "elif point > 70:\n",
    "    print(\"C학점\")\n",
    "elif point > 60:\n",
    "    print(\"D학점\")\n",
    "else:\n",
    "    print(\"F학점\")\n"
   ]
  },
  {
   "cell_type": "code",
   "execution_count": null,
   "id": "87b63ff2-9c75-4abe-824e-300538aca57f",
   "metadata": {},
   "outputs": [],
   "source": []
  }
 ],
 "metadata": {
  "kernelspec": {
   "display_name": "Python 3 (ipykernel)",
   "language": "python",
   "name": "python3"
  },
  "language_info": {
   "codemirror_mode": {
    "name": "ipython",
    "version": 3
   },
   "file_extension": ".py",
   "mimetype": "text/x-python",
   "name": "python",
   "nbconvert_exporter": "python",
   "pygments_lexer": "ipython3",
   "version": "3.9.7"
  }
 },
 "nbformat": 4,
 "nbformat_minor": 5
}
