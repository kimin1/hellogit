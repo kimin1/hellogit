{
 "cells": [
  {
   "cell_type": "code",
   "execution_count": null,
   "id": "c90da5dd-7172-4505-8b6d-fee53cec9b69",
   "metadata": {},
   "outputs": [],
   "source": [
    "content = \"\"\"<html>\n",
    "    <head></head>\n",
    "    <body>\n",
    "      <h1>hi!<h1>\n",
    "      <h2>How are you></h2>\n",
    "      <p>\n",
    "          Here is the\n",
    "          <a href=\"http://www.python.org\">link</a>\n",
    "          you wanted.\n",
    "      </p>\n",
    "    </body>\n",
    "</html>\"\"\""
   ]
  }
 ],
 "metadata": {
  "kernelspec": {
   "display_name": "Python 3 (ipykernel)",
   "language": "python",
   "name": "python3"
  },
  "language_info": {
   "codemirror_mode": {
    "name": "ipython",
    "version": 3
   },
   "file_extension": ".py",
   "mimetype": "text/x-python",
   "name": "python",
   "nbconvert_exporter": "python",
   "pygments_lexer": "ipython3",
   "version": "3.9.7"
  }
 },
 "nbformat": 4,
 "nbformat_minor": 5
}
