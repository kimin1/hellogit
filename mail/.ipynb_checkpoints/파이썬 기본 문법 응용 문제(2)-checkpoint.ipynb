{
 "cells": [
  {
   "cell_type": "markdown",
   "metadata": {},
   "source": [
    "# 파이썬 기본 문법 응용 문제 (2)\n",
    "\n",
    "---\n",
    "\n",
    "# 문제(1~3)\n",
    "\n",
    "아래의 데이터는 2021년 01월 25일부터 02월 01일까지의 Covid19 일별 확진자 수를 표현한 자료구조다.\n",
    "\n",
    "```python\n",
    "covid19 = [\n",
    "    {'0125': 426}, {'0126': 343}, {'0127': 547}, {'0128': 490}, \n",
    "    {'0129': 460}, {'0130': 443}, {'0131': 338}, {'0201': 299}\n",
    "]\n",
    "```\n",
    "\n",
    "위 데이터를 기반으로하여 아래의 물음에 답하시오.\n",
    "\n",
    "## 문제1.\n",
    "\n",
    "1월 25일부터 2월 1일까지의 누적 확진자 수와 일 평균 확진자 수를 구하시오."
   ]
  },
  {
   "cell_type": "code",
   "execution_count": 1,
   "metadata": {},
   "outputs": [
    {
     "name": "stdout",
     "output_type": "stream",
     "text": [
      "426\n",
      "343\n",
      "547\n",
      "490\n",
      "460\n",
      "443\n",
      "338\n",
      "299\n",
      "누적 확진자 수: 3346\n",
      "평균 확진자 수: 418.25\n"
     ]
    }
   ],
   "source": []
  },
  {
   "cell_type": "markdown",
   "metadata": {},
   "source": [
    "---\n",
    "\n",
    "## 문제2\n",
    "\n",
    "1월 25일부터 2월 1일까지 중에서 확진자가 가장 많이 나타난 날짜는 언제인가?"
   ]
  },
  {
   "cell_type": "code",
   "execution_count": 14,
   "metadata": {},
   "outputs": [
    {
     "name": "stdout",
     "output_type": "stream",
     "text": [
      "확진자가 가장 많이 나타난 날: 0127\n"
     ]
    }
   ],
   "source": []
  },
  {
   "cell_type": "markdown",
   "metadata": {},
   "source": [
    "---\n",
    "\n",
    "## 문제 3\n",
    "\n",
    "위의 데이터를 확진자 수에 대한 오름차순으로 정렬하시오."
   ]
  },
  {
   "cell_type": "code",
   "execution_count": 2,
   "metadata": {},
   "outputs": [
    {
     "name": "stdout",
     "output_type": "stream",
     "text": [
      "[{'0201': 299}, {'0131': 338}, {'0126': 343}, {'0125': 426}, {'0130': 443}, {'0129': 460}, {'0128': 490}, {'0127': 547}]\n"
     ]
    }
   ],
   "source": []
  },
  {
   "cell_type": "markdown",
   "metadata": {},
   "source": [
    "---\n",
    "\n",
    "## 문제 4.\n",
    "\n",
    "다음은 10명의 학생들에 대한 혈액형 데이터 이다.\n",
    "\n",
    "```python\n",
    "['A', 'A', 'A', 'O', 'B', 'B', 'O', 'AB', 'AB', 'O']\n",
    "```\n",
    "\n",
    "for문을 이용하여 각 혈액형 별 학생수를 아래의 딕셔너리 `reuslt`에 구하시오.\n",
    "\n",
    "```python\n",
    "result = {\"A\" : 0, \"B\" : 0, \"AB\" : 0, \"O\" : 0}\n",
    "```"
   ]
  },
  {
   "cell_type": "code",
   "execution_count": 3,
   "metadata": {},
   "outputs": [
    {
     "name": "stdout",
     "output_type": "stream",
     "text": [
      "{'A': 3, 'B': 2, 'AB': 2, 'O': 3}\n"
     ]
    }
   ],
   "source": []
  },
  {
   "cell_type": "markdown",
   "metadata": {},
   "source": [
    "---\n",
    "\n",
    "## 문제 5.\n",
    "\n",
    "for문을 중첩하여 실행하여 아래와 같은 출력 결과를 만드시오.\n",
    "\n",
    "```python\n",
    "0 1 2 3 \n",
    "1 2 3 4 \n",
    "2 3 4 5 \n",
    "3 4 5 6 \n",
    "```"
   ]
  },
  {
   "cell_type": "code",
   "execution_count": 4,
   "metadata": {},
   "outputs": [
    {
     "name": "stdout",
     "output_type": "stream",
     "text": [
      "0 1 2 3 \n",
      "1 2 3 4 \n",
      "2 3 4 5 \n",
      "3 4 5 6 \n"
     ]
    }
   ],
   "source": []
  },
  {
   "cell_type": "code",
   "execution_count": null,
   "metadata": {},
   "outputs": [],
   "source": []
  }
 ],
 "metadata": {
  "kernelspec": {
   "display_name": "Python 3",
   "language": "python",
   "name": "python3"
  },
  "language_info": {
   "codemirror_mode": {
    "name": "ipython",
    "version": 3
   },
   "file_extension": ".py",
   "mimetype": "text/x-python",
   "name": "python",
   "nbconvert_exporter": "python",
   "pygments_lexer": "ipython3",
   "version": "3.8.7"
  }
 },
 "nbformat": 4,
 "nbformat_minor": 4
}
