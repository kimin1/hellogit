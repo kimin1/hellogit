{
 "cells": [
  {
   "cell_type": "markdown",
   "metadata": {},
   "source": [
    "# numpy"
   ]
  },
  {
   "cell_type": "code",
   "execution_count": 1,
   "metadata": {},
   "outputs": [],
   "source": [
    "# 모듈 가져오기 -> pip install numpy\n",
    "import numpy"
   ]
  },
  {
   "cell_type": "markdown",
   "metadata": {},
   "source": [
    "## 1) numpy 배열 생성과 기본 활용"
   ]
  },
  {
   "cell_type": "code",
   "execution_count": 2,
   "metadata": {},
   "outputs": [
    {
     "name": "stdout",
     "output_type": "stream",
     "text": [
      "[1 3 5 7 9]\n"
     ]
    }
   ],
   "source": [
    "# 리스트를 통한 1차원(=1행으로 구성) 배열 만들기\n",
    "arr = numpy.array([1,3,5,7,9])\n",
    "print(arr)"
   ]
  },
  {
   "cell_type": "code",
   "execution_count": 3,
   "metadata": {},
   "outputs": [
    {
     "name": "stdout",
     "output_type": "stream",
     "text": [
      "배열의 원소는 5개 입니다.\n"
     ]
    }
   ],
   "source": [
    "# 배열의 크기와 각 원소에 접근하기\n",
    "# -> 내장함수 len()은 모든 연속성 데이터(문자열,리스트,튜플 등)에 사용 가능\n",
    "size = len(arr)\n",
    "print(\"배열의 원소는 %d개 입니다.\" % size)"
   ]
  },
  {
   "cell_type": "code",
   "execution_count": 4,
   "metadata": {},
   "outputs": [
    {
     "name": "stdout",
     "output_type": "stream",
     "text": [
      "1\n",
      "3\n",
      "7\n"
     ]
    }
   ],
   "source": [
    "# 배열의 원소에 접근하기\n",
    "#-> 리스트와 마찬가지로 각 원소에 인덱스 번호로 접근 가능.\n",
    "print(arr[0])\n",
    "print(arr[1])\n",
    "print(arr[3])"
   ]
  },
  {
   "cell_type": "code",
   "execution_count": null,
   "metadata": {},
   "outputs": [],
   "source": [
    "# 인덱스가 있기 때문에 반복문을 통해서 제어할 각 원소에 접근 가능\n",
    "for i, v in enumerate(arr):\n",
    "    print(\"%d번째 원소 >> %d\" % (i, v))"
   ]
  },
  {
   "cell_type": "markdown",
   "metadata": {},
   "source": [
    "## 2) numpy 배열의 특성"
   ]
  },
  {
   "cell_type": "code",
   "execution_count": 5,
   "metadata": {},
   "outputs": [
    {
     "name": "stdout",
     "output_type": "stream",
     "text": [
      "[1.2, 3, '4']\n"
     ]
    }
   ],
   "source": [
    "# 서로 다른 타입의 원소를 갖는 list만들기\n",
    "# -> 파이썬의 리스트는 서로 다른 타입 허용\n",
    "arr2 = [1.2, 3, '4']\n",
    "print(arr2)"
   ]
  },
  {
   "cell_type": "code",
   "execution_count": 6,
   "metadata": {},
   "outputs": [
    {
     "name": "stdout",
     "output_type": "stream",
     "text": [
      "[1.  2.4 3.  4.6]\n"
     ]
    }
   ],
   "source": [
    "# 정수와 실수가 섞인 리스트를 배열로 변환\n",
    "# -> 배열은 원소의 타입이 서로 다른것을 허용하지 않음\n",
    "# -> 가장 포괄적인 형태의 자료형으로 통일함\n",
    "# -> 여기서는 실수가 범위가 더 크므로 모든 원소가 실수형으로 변환됨\n",
    "arr3 = numpy.array( [1, 2.4, 3, 4.6] )\n",
    "print(arr3)"
   ]
  },
  {
   "cell_type": "code",
   "execution_count": 7,
   "metadata": {},
   "outputs": [
    {
     "name": "stdout",
     "output_type": "stream",
     "text": [
      "['1.2' '3' '4']\n"
     ]
    }
   ],
   "source": [
    "# 정수,실수,문자열이 포함된 리스트를 배열로 변환\n",
    "# -> 모든 타입이 문자열로 변환되어 있음\n",
    "arr4 = numpy.array([1.2, 3, '4'])\n",
    "print(arr4)"
   ]
  },
  {
   "cell_type": "code",
   "execution_count": 8,
   "metadata": {},
   "outputs": [
    {
     "name": "stdout",
     "output_type": "stream",
     "text": [
      "[1 2 3 4]\n"
     ]
    }
   ],
   "source": [
    "# 모든 원소의 타입을 강제로 int(정수)로 지정\n",
    "# -> 소수점 아래 값들은 모두 버려진다.\n",
    "arr5 = numpy.array( [1, 2.4, 3, 4.6], dtype='int' )\n",
    "print(arr5)"
   ]
  },
  {
   "cell_type": "markdown",
   "metadata": {},
   "source": [
    "## 1) numpy 배열의 기초 통계값"
   ]
  },
  {
   "cell_type": "code",
   "execution_count": 9,
   "metadata": {},
   "outputs": [
    {
     "name": "stdout",
     "output_type": "stream",
     "text": [
      "[82 77 91 88]\n"
     ]
    }
   ],
   "source": [
    "# 예제를 위한 배열 구성\n",
    "grade = numpy.array([82, 77, 91, 88])\n",
    "print(grade)"
   ]
  },
  {
   "cell_type": "code",
   "execution_count": 10,
   "metadata": {},
   "outputs": [
    {
     "name": "stdout",
     "output_type": "stream",
     "text": [
      "총점: 338\n"
     ]
    }
   ],
   "source": [
    "# 모든 원소의 합\n",
    "s1 = numpy.sum(grade)\n",
    "print(\"총점: %d\" % s1)"
   ]
  },
  {
   "cell_type": "code",
   "execution_count": 11,
   "metadata": {},
   "outputs": [
    {
     "name": "stdout",
     "output_type": "stream",
     "text": [
      "평균 : 84\n"
     ]
    }
   ],
   "source": [
    "# 모든 원소의 평균\n",
    "s2 = numpy.average(grade)\n",
    "print(\"평균 : %d\" % s2)"
   ]
  },
  {
   "cell_type": "code",
   "execution_count": 12,
   "metadata": {},
   "outputs": [
    {
     "name": "stdout",
     "output_type": "stream",
     "text": [
      "최대값 : 91, 최소값: 77\n"
     ]
    }
   ],
   "source": [
    "# 최대, 최소값\n",
    "s3 = numpy.max(grade)\n",
    "s4 = numpy.min(grade)\n",
    "print(\"최대값 : %d, 최소값: %d\" % (s3, s4) )"
   ]
  },
  {
   "cell_type": "markdown",
   "metadata": {},
   "source": [
    "## 2) numpy 배열의 각 원소에 대한 연산"
   ]
  },
  {
   "cell_type": "code",
   "execution_count": 13,
   "metadata": {},
   "outputs": [
    {
     "name": "stdout",
     "output_type": "stream",
     "text": [
      "[84 79 93 90]\n"
     ]
    }
   ],
   "source": [
    "# 모든 원소에 대한 사칙연산 수행\n",
    "#-> 모든 원소에 대하여 2씩 더함\n",
    "new1 = grade + 2\n",
    "print(new1)"
   ]
  },
  {
   "cell_type": "code",
   "execution_count": 14,
   "metadata": {},
   "outputs": [
    {
     "name": "stdout",
     "output_type": "stream",
     "text": [
      "[77 72 86 83]\n"
     ]
    }
   ],
   "source": [
    "#-> 모든 원소에 대하여 5씩 뺌\n",
    "new2 = grade - 5\n",
    "print(new2)"
   ]
  },
  {
   "cell_type": "markdown",
   "metadata": {},
   "source": [
    "## 3) numpy 배열끼리의 연산 (1)"
   ]
  },
  {
   "cell_type": "code",
   "execution_count": 15,
   "metadata": {},
   "outputs": [
    {
     "name": "stdout",
     "output_type": "stream",
     "text": [
      "[10 15 20 25 30]\n",
      "[2 3 4 5 6]\n"
     ]
    }
   ],
   "source": [
    "# 연산자를 사용한 배열간의 연산 => 위치가 동일한 각 원소끼리 수행된다.\n",
    "arr1 = numpy.array([10,15,20,25,30])\n",
    "arr2 = numpy.array([2,3,4,5,6])\n",
    "print(arr1)\n",
    "print(arr2)"
   ]
  },
  {
   "cell_type": "code",
   "execution_count": 16,
   "metadata": {},
   "outputs": [
    {
     "name": "stdout",
     "output_type": "stream",
     "text": [
      "[12 18 24 30 36]\n"
     ]
    }
   ],
   "source": [
    "a = arr1 + arr2\n",
    "print(a)"
   ]
  },
  {
   "cell_type": "code",
   "execution_count": 17,
   "metadata": {},
   "outputs": [
    {
     "name": "stdout",
     "output_type": "stream",
     "text": [
      "[ 8 12 16 20 24]\n"
     ]
    }
   ],
   "source": [
    "b = arr1 - arr2\n",
    "print(b)"
   ]
  },
  {
   "cell_type": "code",
   "execution_count": 18,
   "metadata": {},
   "outputs": [
    {
     "name": "stdout",
     "output_type": "stream",
     "text": [
      "[ 20  45  80 125 180]\n"
     ]
    }
   ],
   "source": [
    "c = arr1 * arr2\n",
    "print(c)"
   ]
  },
  {
   "cell_type": "code",
   "execution_count": 19,
   "metadata": {},
   "outputs": [
    {
     "name": "stdout",
     "output_type": "stream",
     "text": [
      "[5. 5. 5. 5. 5.]\n"
     ]
    }
   ],
   "source": [
    "d = arr1 / arr2\n",
    "print(d)"
   ]
  },
  {
   "cell_type": "markdown",
   "metadata": {},
   "source": [
    "## 4) numpy 배열끼리의 연산 (2)"
   ]
  },
  {
   "cell_type": "code",
   "execution_count": 20,
   "metadata": {},
   "outputs": [
    {
     "name": "stdout",
     "output_type": "stream",
     "text": [
      "[10 15 20 25 30]\n",
      "[2 3 4 5 6]\n"
     ]
    }
   ],
   "source": [
    "# numpy모듈의 함수를 사용한 배열간의 연산 => 연산자와 동일한 결과\n",
    "arr1 = numpy.array([10,15,20,25,30])\n",
    "arr2 = numpy.array([2,3,4,5,6])\n",
    "print(arr1)\n",
    "print(arr2)"
   ]
  },
  {
   "cell_type": "code",
   "execution_count": 21,
   "metadata": {},
   "outputs": [
    {
     "name": "stdout",
     "output_type": "stream",
     "text": [
      "[12 18 24 30 36]\n"
     ]
    }
   ],
   "source": [
    "a = numpy.add(arr1, arr2)\n",
    "print(a)"
   ]
  },
  {
   "cell_type": "code",
   "execution_count": 22,
   "metadata": {},
   "outputs": [
    {
     "name": "stdout",
     "output_type": "stream",
     "text": [
      "[ 8 12 16 20 24]\n"
     ]
    }
   ],
   "source": [
    "b = numpy.subtract(arr1, arr2)\n",
    "print(b)"
   ]
  },
  {
   "cell_type": "code",
   "execution_count": 23,
   "metadata": {},
   "outputs": [
    {
     "name": "stdout",
     "output_type": "stream",
     "text": [
      "[ 20  45  80 125 180]\n"
     ]
    }
   ],
   "source": [
    "c = numpy.multiply(arr1, arr2)\n",
    "print(c)"
   ]
  },
  {
   "cell_type": "code",
   "execution_count": 24,
   "metadata": {},
   "outputs": [
    {
     "name": "stdout",
     "output_type": "stream",
     "text": [
      "[5. 5. 5. 5. 5.]\n"
     ]
    }
   ],
   "source": [
    "d = numpy.divide(arr1, arr2)\n",
    "print(d)"
   ]
  },
  {
   "cell_type": "markdown",
   "metadata": {},
   "source": [
    "## 1) numpy 배열의 기본 인덱싱, 슬라이싱"
   ]
  },
  {
   "cell_type": "code",
   "execution_count": 25,
   "metadata": {},
   "outputs": [
    {
     "name": "stdout",
     "output_type": "stream",
     "text": [
      "[82 77 91 88]\n"
     ]
    }
   ],
   "source": [
    "# 철수의 1학년~4학년까지의 평균 점수\n",
    "grade = numpy.array([82, 77, 91, 88])\n",
    "print(grade)"
   ]
  },
  {
   "cell_type": "code",
   "execution_count": 26,
   "metadata": {},
   "outputs": [
    {
     "name": "stdout",
     "output_type": "stream",
     "text": [
      "91\n"
     ]
    }
   ],
   "source": [
    "# 인덱싱\n",
    "# -> 2열(0부터 카운트)의 데이터 접근\n",
    "print(grade[2])"
   ]
  },
  {
   "cell_type": "code",
   "execution_count": 27,
   "metadata": {},
   "outputs": [
    {
     "name": "stdout",
     "output_type": "stream",
     "text": [
      "[77 91]\n"
     ]
    }
   ],
   "source": [
    "# 슬라이싱\n",
    "# -> 1열부터 3열 전까지 범위를 추출\n",
    "print(grade[1:3])"
   ]
  },
  {
   "cell_type": "code",
   "execution_count": 28,
   "metadata": {},
   "outputs": [
    {
     "name": "stdout",
     "output_type": "stream",
     "text": [
      "[82 77]\n"
     ]
    }
   ],
   "source": [
    "# -> 처음부터 2열 전까지 범위를 추출\n",
    "print(grade[:2])"
   ]
  },
  {
   "cell_type": "code",
   "execution_count": 29,
   "metadata": {},
   "outputs": [
    {
     "name": "stdout",
     "output_type": "stream",
     "text": [
      "[77 91 88]\n"
     ]
    }
   ],
   "source": [
    "# -> 1열~끝까지 범위를 추출\n",
    "print(grade[1:])"
   ]
  },
  {
   "cell_type": "markdown",
   "metadata": {},
   "source": [
    "## 2) 조건에 맞는 값 추출하기"
   ]
  },
  {
   "cell_type": "code",
   "execution_count": 30,
   "metadata": {},
   "outputs": [],
   "source": [
    "# -> 추출하고자 하는 원본과 같은 사이즈의 배열을 생성한다.\n",
    "# -> 추출할 값은 True, 그렇지 않으면 False\n",
    "bool_array = numpy.array([True, False, True, False])"
   ]
  },
  {
   "cell_type": "code",
   "execution_count": 31,
   "metadata": {},
   "outputs": [
    {
     "name": "stdout",
     "output_type": "stream",
     "text": [
      "[82 91]\n"
     ]
    }
   ],
   "source": [
    "# -> 조건에 맞는 항목만 1차 배열로 추출\n",
    "result1 = grade[bool_array]\n",
    "print(result1)"
   ]
  },
  {
   "cell_type": "code",
   "execution_count": 32,
   "metadata": {},
   "outputs": [
    {
     "name": "stdout",
     "output_type": "stream",
     "text": [
      "[82 91 88]\n"
     ]
    }
   ],
   "source": [
    "# 80점 이상인지 판별된 조건에 맞는 데이터만 추려냄\n",
    "result2 = grade[grade >= 80]\n",
    "print(result2)"
   ]
  },
  {
   "cell_type": "code",
   "execution_count": 33,
   "metadata": {},
   "outputs": [
    {
     "name": "stdout",
     "output_type": "stream",
     "text": [
      "[82 88]\n"
     ]
    }
   ],
   "source": [
    "# logical_and 함수를 사용하여 80점 이상이고 90점 이하인 데이터만 추려냄\n",
    "result3 = grade[numpy.logical_and(grade >= 80, grade <= 90)]\n",
    "print(result3)"
   ]
  },
  {
   "cell_type": "code",
   "execution_count": 34,
   "metadata": {},
   "outputs": [
    {
     "name": "stdout",
     "output_type": "stream",
     "text": [
      "[77 91]\n"
     ]
    }
   ],
   "source": [
    "# logical_or 함수를 사용하여 80점 미만이거나 90점 초과인 데이터만 추려냄\n",
    "result4 = grade[numpy.logical_or(grade < 80, grade > 90)]\n",
    "print(result4)"
   ]
  },
  {
   "cell_type": "markdown",
   "metadata": {},
   "source": [
    "## 1) numpy 2차 배열 생성 및 기본 정보 조회"
   ]
  },
  {
   "cell_type": "code",
   "execution_count": 35,
   "metadata": {},
   "outputs": [
    {
     "name": "stdout",
     "output_type": "stream",
     "text": [
      "[[98 72 80 64]\n",
      " [88 90 80 72]\n",
      " [92 88 82 76]]\n"
     ]
    }
   ],
   "source": [
    "# 철수의 학년-과목별 점수\n",
    "grade = numpy.array([\n",
    "    # 열 ->   0   1   2   3\n",
    "            [98, 72, 80, 64],   # 0행 - kor\n",
    "            [88, 90, 80, 72],   # 1행 - eng\n",
    "            [92, 88, 82, 76]    # 2행 - math\n",
    "        ])\n",
    "print(grade)"
   ]
  },
  {
   "cell_type": "code",
   "execution_count": 36,
   "metadata": {},
   "outputs": [
    {
     "name": "stdout",
     "output_type": "stream",
     "text": [
      "차원크기: 2\n",
      "(3, 4)\n",
      "int64\n"
     ]
    }
   ],
   "source": [
    "# 배열 정보\n",
    "# -> 차원 크기\n",
    "print( \"차원크기: %d\" % grade.ndim )\n",
    "# -> 각 차원의 원소수 튜플로 표시한 것.\n",
    "print( grade.shape )\n",
    "# -> 각 원소의 타입\n",
    "print( grade.dtype )"
   ]
  },
  {
   "cell_type": "markdown",
   "metadata": {},
   "source": [
    "## 2) 기본 인덱싱과 슬라이싱"
   ]
  },
  {
   "cell_type": "code",
   "execution_count": 37,
   "metadata": {},
   "outputs": [
    {
     "name": "stdout",
     "output_type": "stream",
     "text": [
      "80\n"
     ]
    }
   ],
   "source": [
    "# 정수형 인덱싱\n",
    "# -> 1행 2열의 데이터 접근 = 80\n",
    "print(grade[1,2])"
   ]
  },
  {
   "cell_type": "code",
   "execution_count": 38,
   "metadata": {},
   "outputs": [
    {
     "name": "stdout",
     "output_type": "stream",
     "text": [
      "[[90 80 72]\n",
      " [88 82 76]]\n"
     ]
    }
   ],
   "source": [
    "# 슬라이싱\n",
    "# -> 1~3행 전까지,1~4열 전까지 범위를 추출\n",
    "print(grade[1:3, 1:4])"
   ]
  },
  {
   "cell_type": "code",
   "execution_count": 39,
   "metadata": {},
   "outputs": [
    {
     "name": "stdout",
     "output_type": "stream",
     "text": [
      "[[98 72 80]\n",
      " [88 90 80]]\n"
     ]
    }
   ],
   "source": [
    "# -> 0~2행 전까지, 0~3열 전까지 범위를 추출\n",
    "print(grade[:2, :3])"
   ]
  },
  {
   "cell_type": "code",
   "execution_count": 40,
   "metadata": {},
   "outputs": [
    {
     "name": "stdout",
     "output_type": "stream",
     "text": [
      "[[80 72]\n",
      " [82 76]]\n"
     ]
    }
   ],
   "source": [
    "# -> 1~끝행, 2~끝열 범위를 추출\n",
    "print(grade[1:, 2:])"
   ]
  },
  {
   "cell_type": "markdown",
   "metadata": {},
   "source": [
    "## 3) 기초 통계 산출 (max,min,sum,average)"
   ]
  },
  {
   "cell_type": "code",
   "execution_count": 41,
   "metadata": {},
   "outputs": [
    {
     "name": "stdout",
     "output_type": "stream",
     "text": [
      "<class 'numpy.ndarray'>\n",
      "[278 250 242 212]\n"
     ]
    }
   ],
   "source": [
    "# 각 열끼리 더함 (세로로 덧셈) -> 결과 타입은 numpy의 1차 배열\n",
    "s1 = numpy.sum(grade, axis=0)\n",
    "print(type(s1))\n",
    "print(s1)"
   ]
  },
  {
   "cell_type": "code",
   "execution_count": 42,
   "metadata": {},
   "outputs": [
    {
     "name": "stdout",
     "output_type": "stream",
     "text": [
      "<class 'numpy.ndarray'>\n",
      "[314 330 338]\n"
     ]
    }
   ],
   "source": [
    "# 각 행끼리 더함 (가로로 덧셈)\n",
    "s2 = numpy.sum(grade, axis=1)\n",
    "print(type(s2))\n",
    "print(s2)"
   ]
  },
  {
   "cell_type": "markdown",
   "metadata": {},
   "source": [
    "## 4) 조건에 맞는 값 추출하기"
   ]
  },
  {
   "cell_type": "code",
   "execution_count": 43,
   "metadata": {},
   "outputs": [
    {
     "name": "stdout",
     "output_type": "stream",
     "text": [
      "[98 80 88 90 80 92 88 82]\n"
     ]
    }
   ],
   "source": [
    "# bool 형 인덱싱\n",
    "# -> 추출하고자 하는 원본과 같은 사이즈의 배열\n",
    "# -> 추출할 값은 True, 그렇지 않으면 False\n",
    "bool_array = numpy.array([\n",
    "            [True, False, True, False],\n",
    "            [True, True, True, False],\n",
    "            [True, True, True, False]\n",
    "        ])\n",
    "\n",
    "# 조건에 맞는 항목만 1차 배열로 추출\n",
    "result1 = grade[bool_array]\n",
    "print(result1)"
   ]
  },
  {
   "cell_type": "code",
   "execution_count": 44,
   "metadata": {},
   "outputs": [
    {
     "name": "stdout",
     "output_type": "stream",
     "text": [
      "[98 80 88 90 80 92 88 82]\n"
     ]
    }
   ],
   "source": [
    "# 80점 이상인지 판별하여 조건에 맞는 데이터만 추려냄\n",
    "# -> 추출된 결과는 1차 배열\n",
    "result2 = grade[grade >= 80]\n",
    "print(result2)"
   ]
  },
  {
   "cell_type": "code",
   "execution_count": 45,
   "metadata": {},
   "outputs": [
    {
     "name": "stdout",
     "output_type": "stream",
     "text": [
      "[80 88 90 80 88 82]\n"
     ]
    }
   ],
   "source": [
    "# logical_and 함수를 사용하여 80점 이상이고 90점 이하인 데이터만 추려냄\n",
    "result3 = grade[numpy.logical_and(grade >= 80, grade <= 90)]\n",
    "print(result3)"
   ]
  },
  {
   "cell_type": "code",
   "execution_count": 46,
   "metadata": {},
   "outputs": [
    {
     "name": "stdout",
     "output_type": "stream",
     "text": [
      "[98 72 64 72 92 76]\n"
     ]
    }
   ],
   "source": [
    "# logical_or 함수를 사용하여 80점 미만이거나 90점 초과인 데이터만 추려냄\n",
    "result4 = grade[numpy.logical_or(grade < 80, grade > 90)]\n",
    "print(result4)"
   ]
  },
  {
   "cell_type": "code",
   "execution_count": null,
   "metadata": {},
   "outputs": [],
   "source": []
  }
 ],
 "metadata": {
  "kernelspec": {
   "display_name": "Python 3 (ipykernel)",
   "language": "python",
   "name": "python3"
  },
  "language_info": {
   "codemirror_mode": {
    "name": "ipython",
    "version": 3
   },
   "file_extension": ".py",
   "mimetype": "text/x-python",
   "name": "python",
   "nbconvert_exporter": "python",
   "pygments_lexer": "ipython3",
   "version": "3.9.7"
  }
 },
 "nbformat": 4,
 "nbformat_minor": 4
}
